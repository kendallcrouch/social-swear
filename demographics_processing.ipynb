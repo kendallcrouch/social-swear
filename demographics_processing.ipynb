{
 "cells": [
  {
   "cell_type": "code",
   "execution_count": 1,
   "metadata": {},
   "outputs": [],
   "source": [
    "from datetime import datetime\n",
    "import pandas as pd\n",
    "import warnings\n",
    "import re\n",
    "warnings.simplefilter('ignore')\n",
    "import numpy as np"
   ]
  },
  {
   "cell_type": "code",
   "execution_count": 2,
   "metadata": {},
   "outputs": [],
   "source": [
    "locationsDF = pd.read_csv('worldcitiespop.csv',index_col=None, header=0, lineterminator='\\n')"
   ]
  },
  {
   "cell_type": "code",
   "execution_count": 3,
   "metadata": {},
   "outputs": [],
   "source": [
    "incomeDF = pd.read_csv('kaggle_income.csv',index_col=None, header=0, lineterminator='\\n', encoding='latin-1', usecols=['City', 'Mean'])"
   ]
  },
  {
   "cell_type": "code",
   "execution_count": 4,
   "metadata": {},
   "outputs": [],
   "source": [
    "stateIncomeDF = pd.read_csv('incomeByState.csv',index_col=None, header=0, lineterminator='\\n', encoding='latin-1')"
   ]
  },
  {
   "cell_type": "code",
   "execution_count": 5,
   "metadata": {},
   "outputs": [],
   "source": [
    "stateDF = pd.read_csv('uscitiesv1.4.csv',index_col=None, header=0, lineterminator='\\n', encoding='latin-1')"
   ]
  },
  {
   "cell_type": "code",
   "execution_count": 6,
   "metadata": {},
   "outputs": [],
   "source": [
    "import csv \n",
    "with open('incomeByState.csv', mode='r') as infile:\n",
    "    reader = csv.reader(infile)\n",
    "    stateIncomeDict = {columns[0].lower():columns[1] for columns in reader}\n",
    "with open('countryCodeIncome.csv', mode='r') as infile:\n",
    "    reader = csv.reader(infile)\n",
    "    countryIncomeDict = {columns[0].lower():columns[1] for columns in reader}\n",
    "with open('countryCodeEducation.csv', mode='r') as infile:\n",
    "    reader = csv.reader(infile)\n",
    "    countryEducationDict = {columns[0].lower():columns[1] for columns in reader}\n",
    "with open('stateEducation.csv', mode='r') as infile:\n",
    "    reader = csv.reader(infile)\n",
    "    stateEducationDict = {columns[0].lower():columns[1] for columns in reader}"
   ]
  },
  {
   "cell_type": "code",
   "execution_count": 7,
   "metadata": {},
   "outputs": [],
   "source": [
    "countriesFile = open('countries.txt', 'r')\n",
    "countriesList = [line.lower().strip() for line in countriesFile.readlines()]"
   ]
  },
  {
   "cell_type": "code",
   "execution_count": 8,
   "metadata": {},
   "outputs": [],
   "source": [
    "statesFile = open('states.txt', 'r')\n",
    "statesList = [line.lower().strip() for line in statesFile.readlines()]"
   ]
  },
  {
   "cell_type": "code",
   "execution_count": 9,
   "metadata": {},
   "outputs": [],
   "source": [
    "stateDict = dict()\n",
    "for index,row in stateDF.iterrows():\n",
    "    stateDict[row['city'].lower()] = row['state_name'].lower()"
   ]
  },
  {
   "cell_type": "code",
   "execution_count": 10,
   "metadata": {},
   "outputs": [],
   "source": [
    "def removeNums(text):\n",
    "    splitText = text.split()\n",
    "    output = []\n",
    "    for item in splitText:\n",
    "        if item.isalpha():\n",
    "            output.append(item)\n",
    "    if len(output) > 0:\n",
    "        return ' '.join(output)\n",
    "    else:\n",
    "        return ''"
   ]
  },
  {
   "cell_type": "code",
   "execution_count": 11,
   "metadata": {},
   "outputs": [],
   "source": [
    "cityDict = dict()\n",
    "for index,row in locationsDF.iterrows():\n",
    "    cityDict[str(row['City']).lower()] = str(row['Country']).lower()\n"
   ]
  },
  {
   "cell_type": "code",
   "execution_count": 12,
   "metadata": {},
   "outputs": [],
   "source": [
    "import unicodedata\n",
    "def remove_special_characters(text, remove_digits=False):\n",
    "    pattern = r'[^a-zA-z0-9\\s]' if not remove_digits else r'[^a-zA-z\\s]'\n",
    "    text = re.sub(pattern, '', text)\n",
    "    text = unicodedata.normalize('NFKD', text).encode('ascii', 'ignore').decode('utf-8', 'ignore')\n",
    "    return text"
   ]
  },
  {
   "cell_type": "code",
   "execution_count": 13,
   "metadata": {},
   "outputs": [
    {
     "name": "stdout",
     "output_type": "stream",
     "text": [
      "CPU times: user 5 µs, sys: 1e+03 ns, total: 6 µs\n",
      "Wall time: 8.82 µs\n"
     ]
    }
   ],
   "source": [
    "%%time\n",
    "#strip links\n",
    "import re\n",
    "def strip_links(text):\n",
    "    link_regex    = re.compile('((https?):((//)|(\\\\\\\\))+([\\w\\d:#@%/;$()~_?\\+-=\\\\\\.&](#!)?)*)', re.DOTALL)\n",
    "    links         = re.findall(link_regex, text)\n",
    "    for link in links:\n",
    "        text = text.replace(link[0], ', ')    \n",
    "    return text"
   ]
  },
  {
   "cell_type": "code",
   "execution_count": 14,
   "metadata": {},
   "outputs": [],
   "source": [
    "countDict = dict()\n",
    "incomeDF['City'] = incomeDF['City'].apply(lambda x: x.lower())\n",
    "countDict = incomeDF['City'].value_counts()"
   ]
  },
  {
   "cell_type": "code",
   "execution_count": 15,
   "metadata": {},
   "outputs": [],
   "source": [
    "incomeDict = dict()\n",
    "for index, row in incomeDF.iterrows():\n",
    "    if row['Mean'] == 0:\n",
    "        countDict[row['Mean']]-=1\n",
    "    else: \n",
    "        if incomeDict.get(row['City']) is None:\n",
    "            incomeDict[row['City']] = 0\n",
    "        incomeDict[row['City']] = incomeDict.get(row['City']) + row['Mean']/countDict.get(row['City'])"
   ]
  },
  {
   "cell_type": "code",
   "execution_count": 16,
   "metadata": {},
   "outputs": [],
   "source": [
    "def extractCity(text):\n",
    "    if text == '':\n",
    "        return ''\n",
    "    splitText = text.split()\n",
    "    if len(splitText) > 1:\n",
    "        firstTwoWords = splitText[0] + ' ' + splitText[1]\n",
    "        if firstTwoWords in incomeDict:\n",
    "            return firstTwoWords\n",
    "        lastTwoWords = splitText[len(splitText)-1] + ' ' + splitText[len(splitText)-2]\n",
    "        if lastTwoWords in incomeDict:\n",
    "            return lastTwoWords\n",
    "        if len(splitText) > 2:\n",
    "            firstThreeWords = splitText[0] + ' ' + splitText[1]+ ' ' + splitText[2]\n",
    "            lastThreeWords = splitText[len(splitText)-1] + ' ' + splitText[len(splitText)-2]+ ' ' + splitText[len(splitText)-3]\n",
    "            if firstThreeWords in incomeDict:\n",
    "                return firstThreeWords\n",
    "            if lastThreeWords in incomeDict:\n",
    "                return lastThreeWords\n",
    "        for i in range(0, len(splitText)):\n",
    "            if splitText[i] in incomeDict:\n",
    "                if splitText[i] != 'north' and splitText[i] != 'west' and splitText[i] != 'east' and splitText[i] !='south' and splitText[i] !='central' and splitText[i] !='york':\n",
    "                    return splitText[i]\n",
    "    else:\n",
    "        if text in incomeDict:\n",
    "            if text != 'north' and text != 'west' and text != 'east' and text !='south':\n",
    "                return text\n",
    "    return ''"
   ]
  },
  {
   "cell_type": "code",
   "execution_count": 17,
   "metadata": {},
   "outputs": [],
   "source": [
    "def extractState(text):\n",
    "    if text == '':\n",
    "        return ''\n",
    "    splitText = text.split()\n",
    "    if len(splitText) > 1:\n",
    "        firstTwoWords = splitText[0] + ' ' + splitText[1]\n",
    "        for i in range (0,len(statesList)):\n",
    "            if firstTwoWords == statesList[i]:\n",
    "                if i%2 == 0:\n",
    "                    return firstTwoWords\n",
    "                else:\n",
    "                    return statesList[i-1]\n",
    "        lastTwoWords = splitText[len(splitText)-1] + ' ' + splitText[len(splitText)-2]\n",
    "        for i in range (0,len(statesList)):\n",
    "            if lastTwoWords == statesList[i]:\n",
    "                if i%2 == 0:\n",
    "                    return lastTwoWords\n",
    "                else:\n",
    "                    return statesList[i-1]\n",
    "        if len(splitText) > 2:\n",
    "            firstThreeWords = splitText[0] + ' ' + splitText[1]+ ' ' + splitText[2]\n",
    "            lastThreeWords = splitText[len(splitText)-1] + ' ' + splitText[len(splitText)-2]+ ' ' + splitText[len(splitText)-3]\n",
    "            for i in range (0,len(statesList)):\n",
    "                if firstThreeWords == statesList[i]:\n",
    "                    if i%2 == 0:\n",
    "                        return firstThreeWords\n",
    "                    else:\n",
    "                        return statesList[i-1]\n",
    "            for i in range (0,len(statesList)):\n",
    "                if lastThreeWords == statesList[i]:\n",
    "                    if i%2 == 0:\n",
    "                        return lastThreeWords\n",
    "                    else:\n",
    "                        return statesList[i-1]\n",
    "        for i in range(0, len(splitText)):\n",
    "            for j in range (0,len(statesList)):\n",
    "                if splitText[i] == statesList[j]:\n",
    "                    if j%2 == 0:\n",
    "                        return splitText[i]\n",
    "                    else:\n",
    "                        return statesList[j-1]\n",
    "    else:\n",
    "        for i in range (0,len(statesList)):\n",
    "            if text == statesList[i]:\n",
    "                if i%2 == 0:\n",
    "                    return text\n",
    "                else:\n",
    "                    return statesList[i-1]\n",
    "    return ''"
   ]
  },
  {
   "cell_type": "code",
   "execution_count": 18,
   "metadata": {},
   "outputs": [],
   "source": [
    "def extractCountry(text):\n",
    "    if text == '':\n",
    "        return ''\n",
    "    if text == 'united states of america':\n",
    "        return 'united states of america'\n",
    "    splitText = text.split()\n",
    "    if len(splitText) > 1:\n",
    "        firstTwoWords = splitText[0] + ' ' + splitText[1]\n",
    "        for i in range (0,len(countriesList)):\n",
    "            if firstTwoWords == countriesList[i]:\n",
    "                if i<len(countriesList)/2:\n",
    "                    return countriesList[i+int(len(countriesList)/2)]\n",
    "        lastTwoWords = splitText[len(splitText)-1] + ' ' + splitText[len(splitText)-2]\n",
    "        for i in range (0,len(countriesList)):\n",
    "            if lastTwoWords == countriesList[i]:\n",
    "                if i<len(countriesList)/2:\n",
    "                    return countriesList[i+int(len(countriesList)/2)]\n",
    "        if len(splitText) > 2:\n",
    "            firstThreeWords = splitText[0] + ' ' + splitText[1]+ ' ' + splitText[2]\n",
    "            lastThreeWords = splitText[len(splitText)-1] + ' ' + splitText[len(splitText)-2]+ ' ' + splitText[len(splitText)-3]\n",
    "            for i in range (0,len(countriesList)):\n",
    "                if firstThreeWords == countriesList[i]:\n",
    "                    if i<len(countriesList)/2:\n",
    "                        return countriesList[i+int(len(countriesList)/2)]\n",
    "            for i in range (0,len(countriesList)):\n",
    "                if lastThreeWords == countriesList[i]:\n",
    "                    if i<len(countriesList)/2:\n",
    "                        return countriesList[i+int(len(countriesList)/2)]\n",
    "        for i in range(0, len(splitText)):\n",
    "            for j in range (0,len(countriesList)):\n",
    "                if splitText[i] == 'usa' or splitText[i] == 'uk':\n",
    "                    return splitText[i] \n",
    "                if splitText[i] == countriesList[j]:\n",
    "                    if j<len(countriesList)/2:\n",
    "                        return countriesList[j+int(len(countriesList)/2)]\n",
    "    else:\n",
    "        for i in range (0,len(countriesList)):\n",
    "            if text == 'usa' or text == 'uk':\n",
    "                    return text \n",
    "            if text == countriesList[i]:\n",
    "                if i<len(countriesList)/2:\n",
    "                    return countriesList[i+int(len(countriesList)/2)]\n",
    "\n",
    "    return ''"
   ]
  },
  {
   "cell_type": "code",
   "execution_count": 19,
   "metadata": {},
   "outputs": [],
   "source": [
    "def incomeCityFeature(text):\n",
    "    income = incomeDict.get(text)\n",
    "    return income"
   ]
  },
  {
   "cell_type": "code",
   "execution_count": 20,
   "metadata": {},
   "outputs": [],
   "source": [
    "def incomeStateFeature(text):\n",
    "    income = stateIncomeDict.get(text)\n",
    "    return income"
   ]
  },
  {
   "cell_type": "code",
   "execution_count": 21,
   "metadata": {},
   "outputs": [],
   "source": [
    "def incomeCountryFeature(text):\n",
    "    countryIncome = countryIncomeDict.get(text)\n",
    "    return countryIncome"
   ]
  },
  {
   "cell_type": "code",
   "execution_count": 22,
   "metadata": {},
   "outputs": [],
   "source": [
    "def incomeEducationFeature(text):\n",
    "    countryEducation = countryEducationDict.get(text)\n",
    "    return countryEducation"
   ]
  },
  {
   "cell_type": "code",
   "execution_count": 23,
   "metadata": {},
   "outputs": [],
   "source": [
    "def stateEducationFeature(text):\n",
    "    stateEducation = stateEducationDict.get(text)\n",
    "    return stateEducation"
   ]
  },
  {
   "cell_type": "code",
   "execution_count": 24,
   "metadata": {},
   "outputs": [],
   "source": [
    "path = '50M_250_1000_1_final_updated_desc.csv'"
   ]
  },
  {
   "cell_type": "code",
   "execution_count": 25,
   "metadata": {},
   "outputs": [],
   "source": [
    "df = pd.read_csv(path,index_col=None, header=0, lineterminator='\\n')"
   ]
  },
  {
   "cell_type": "code",
   "execution_count": 26,
   "metadata": {},
   "outputs": [],
   "source": [
    "tweetPlaceDF = df['user_location']\n",
    "tweetPlaceDF = tweetPlaceDF.dropna()\n",
    "tweetPlaceDF = tweetPlaceDF.apply(strip_links)\n",
    "tweetPlaceDF = tweetPlaceDF.apply(remove_special_characters)\n",
    "tweetPlaceDF = tweetPlaceDF.apply(lambda x : x.lower())\n",
    "tweetPlaceDF = tweetPlaceDF.apply(removeNums)"
   ]
  },
  {
   "cell_type": "code",
   "execution_count": 27,
   "metadata": {},
   "outputs": [],
   "source": [
    "extractedCityDF = tweetPlaceDF.apply(extractCity)\n",
    "extractedCityDF = extractedCityDF[extractedCityDF != '']"
   ]
  },
  {
   "cell_type": "code",
   "execution_count": 28,
   "metadata": {},
   "outputs": [],
   "source": [
    "extractedStateDF = tweetPlaceDF.apply(extractState)\n",
    "extractedStateDF = extractedStateDF[extractedStateDF != '']"
   ]
  },
  {
   "cell_type": "code",
   "execution_count": 29,
   "metadata": {},
   "outputs": [],
   "source": [
    "extractCountryDF = tweetPlaceDF.apply(extractCountry)"
   ]
  },
  {
   "cell_type": "code",
   "execution_count": 30,
   "metadata": {},
   "outputs": [],
   "source": [
    "extractCountryDF = extractCountryDF[extractCountryDF != '']"
   ]
  },
  {
   "cell_type": "code",
   "execution_count": 31,
   "metadata": {},
   "outputs": [],
   "source": [
    "def stateToCountry(text):\n",
    "    if text is not None and text != '':\n",
    "        return 'us'\n",
    "stateToCountryDF = extractedStateDF.apply(stateToCountry)"
   ]
  },
  {
   "cell_type": "code",
   "execution_count": 42,
   "metadata": {},
   "outputs": [],
   "source": [
    "combinedCountryDF = pd.DataFrame( np.hstack((stateToCountryDF.values, extractCountryDF.values))  , index=np.hstack((stateToCountryDF.index.values, extractCountryDF.index.values)))"
   ]
  },
  {
   "cell_type": "code",
   "execution_count": 49,
   "metadata": {},
   "outputs": [],
   "source": [
    "countryFeature = combinedCountryDF[0]\n",
    "countryFeature = countryFeature[~countryFeature.index.duplicated()]"
   ]
  },
  {
   "cell_type": "code",
   "execution_count": 50,
   "metadata": {},
   "outputs": [],
   "source": [
    "cityIncomeColumn = extractedCityDF.apply(incomeCityFeature)\n",
    "stateIncomeColumn = extractedStateDF.apply(incomeStateFeature)\n",
    "countryIncomeColumn = countryFeature.apply(incomeCountryFeature)\n",
    "countryEducationColumn = countryFeature.apply(incomeEducationFeature)\n",
    "stateEducationColumn = extractedStateDF.apply(stateEducationFeature)"
   ]
  },
  {
   "cell_type": "code",
   "execution_count": 51,
   "metadata": {},
   "outputs": [],
   "source": [
    "df['city'] = extractedCityDF\n",
    "df['state'] = extractedStateDF\n",
    "df['country'] = countryFeature\n",
    "df['income_by_city'] = cityIncomeColumn\n",
    "df['income_by_state'] = stateIncomeColumn\n",
    "df['income_by_country'] = countryIncomeColumn\n",
    "df['education_by_country'] = countryEducationColumn\n",
    "df['education_by_state'] = stateEducationColumn"
   ]
  },
  {
   "cell_type": "code",
   "execution_count": 56,
   "metadata": {},
   "outputs": [
    {
     "name": "stdout",
     "output_type": "stream",
     "text": [
      "20870      ar\n",
      "20871      ar\n",
      "20872      ar\n",
      "20873      ar\n",
      "20874      ar\n",
      "20875      ar\n",
      "20876      ar\n",
      "20877      ar\n",
      "20878      ar\n",
      "20879      ar\n",
      "20880      ar\n",
      "20881      ar\n",
      "20882      ar\n",
      "20883      ar\n",
      "20884      ar\n",
      "20885      ar\n",
      "20886      ar\n",
      "20887      ar\n",
      "20888      ar\n",
      "20889      ar\n",
      "20890      ar\n",
      "20891      ar\n",
      "20892      ar\n",
      "20893      ar\n",
      "20894      ar\n",
      "20895      ar\n",
      "20896      ar\n",
      "20897      ar\n",
      "20898      ar\n",
      "20899      ar\n",
      "           ..\n",
      "1738962    us\n",
      "1738963    us\n",
      "1738964    us\n",
      "1738965    us\n",
      "1738966    us\n",
      "1738967    us\n",
      "1738968    us\n",
      "1738969    us\n",
      "1738970    us\n",
      "1738971    us\n",
      "1738972    us\n",
      "1738973    us\n",
      "1738974    us\n",
      "1738975    us\n",
      "1738976    us\n",
      "1738977    us\n",
      "1738978    us\n",
      "1738979    us\n",
      "1738980    us\n",
      "1738981    us\n",
      "1738982    us\n",
      "1738983    us\n",
      "1738984    us\n",
      "1738985    us\n",
      "1738986    us\n",
      "1738987    us\n",
      "1738988    us\n",
      "1738989    us\n",
      "1738990    us\n",
      "1738991    us\n",
      "Name: country, Length: 615520, dtype: object\n"
     ]
    }
   ],
   "source": [
    "print (df['country'].dropna())"
   ]
  },
  {
   "cell_type": "code",
   "execution_count": null,
   "metadata": {},
   "outputs": [],
   "source": [
    "#%time df.to_csv('50M_250_1000_1_final_updated_desc.csv', index=False)"
   ]
  }
 ],
 "metadata": {
  "kernelspec": {
   "display_name": "Python 3",
   "language": "python",
   "name": "python3"
  },
  "language_info": {
   "codemirror_mode": {
    "name": "ipython",
    "version": 3
   },
   "file_extension": ".py",
   "mimetype": "text/x-python",
   "name": "python",
   "nbconvert_exporter": "python",
   "pygments_lexer": "ipython3",
   "version": "3.6.3"
  }
 },
 "nbformat": 4,
 "nbformat_minor": 2
}
