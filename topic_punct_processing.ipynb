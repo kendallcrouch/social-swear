{
 "cells": [
  {
   "cell_type": "code",
   "execution_count": 1,
   "metadata": {},
   "outputs": [],
   "source": [
    "import pandas as pd\n",
    "import liwc\n",
    "from collections import Counter\n",
    "import re\n",
    "import time\n",
    "from sklearn.externals import joblib\n",
    "from nltk.stem import PorterStemmer\n",
    "ps = PorterStemmer()"
   ]
  },
  {
   "cell_type": "code",
   "execution_count": 2,
   "metadata": {},
   "outputs": [],
   "source": [
    "def stem_words(word_list):\n",
    "    word_list = re.sub('[\\'\\]\\[,]', '', word_list).split()\n",
    "    output = [ps.stem(w) for w in word_list]\n",
    "    output = \" \".join(output)\n",
    "    return output"
   ]
  },
  {
   "cell_type": "code",
   "execution_count": 3,
   "metadata": {},
   "outputs": [],
   "source": [
    "df = pd.read_csv('datasets/50M_250_1000_2_final.csv', index_col=None, header=0, usecols=['text','text_token_rem_stop','tweet_id'], lineterminator='\\n')"
   ]
  },
  {
   "cell_type": "code",
   "execution_count": 4,
   "metadata": {},
   "outputs": [],
   "source": [
    "df['text_token_stem_str'] = df.text_token_rem_stop.apply(lambda t: stem_words(t)) "
   ]
  },
  {
   "cell_type": "code",
   "execution_count": 5,
   "metadata": {},
   "outputs": [],
   "source": [
    "clf1 = joblib.load('misc/CCAT.pkl')\n",
    "clf2 = joblib.load('misc/GCAT.pkl')\n",
    "clf3 = joblib.load('misc/ECAT.pkl')\n",
    "clf4 = joblib.load('misc/MCAT.pkl')\n",
    "\n",
    "# Add columns to final dataframe\n",
    "df['CCAT'] = clf1.predict(df.text_token_stem_str)\n",
    "df['GCAT'] = clf2.predict(df.text_token_stem_str)\n",
    "df['ECAT'] = clf3.predict(df.text_token_stem_str)\n",
    "df['MCAT'] = clf4.predict(df.text_token_stem_str)"
   ]
  },
  {
   "cell_type": "code",
   "execution_count": 6,
   "metadata": {},
   "outputs": [],
   "source": [
    "interesting_punct = []\n",
    "pattern_same_punctuation = re.compile('(([-/\\\\\\\\()!\"+,&\\'.])\\\\2+)')\n",
    "pattern_inter1 = re.compile('\\?!+')\n",
    "pattern_inter2 = re.compile('!\\?+')\n",
    "for tweet in df.text:\n",
    "    match1 = pattern_same_punctuation.search(tweet)\n",
    "    match2 = pattern_inter1.findall(tweet)\n",
    "    match3 = pattern_inter1.findall(tweet)\n",
    "    if match1 or match2.__len__() > 0 or match3.__len__() > 0:\n",
    "        interesting_punct.append(1)\n",
    "    else:\n",
    "        interesting_punct.append(0)\n",
    "        \n",
    "# Add column to final dataframe\n",
    "df['interesting_punct'] = interesting_punct"
   ]
  },
  {
   "cell_type": "markdown",
   "metadata": {},
   "source": [
    "# LIWC"
   ]
  },
  {
   "cell_type": "code",
   "execution_count": null,
   "metadata": {},
   "outputs": [],
   "source": [
    "import liwc\n",
    "from collections import Counter"
   ]
  },
  {
   "cell_type": "code",
   "execution_count": null,
   "metadata": {},
   "outputs": [],
   "source": [
    "def liwc_features(tokens: [str]) -> {str: int}:\n",
    "    c = Counter(category for token in tokens for category in liwc_parse(token) if category in ['social','affect','cogmech','percept','bio','relativ'])\n",
    "    return dict(c)"
   ]
  },
  {
   "cell_type": "code",
   "execution_count": null,
   "metadata": {},
   "outputs": [],
   "source": [
    "liwc_parse, liwc_categories = liwc.load_token_parser('LIWC2007_English100131.dic')\n",
    "len(liwc_categories)"
   ]
  },
  {
   "cell_type": "code",
   "execution_count": null,
   "metadata": {},
   "outputs": [],
   "source": [
    "# Iterate through each .csv file 1000 rows at a time (chunksize=1000), map the liwc features to a liwc_df_temp and concatenate\n",
    "# onto liwc_df_final\n",
    "\n",
    "numTweets = 1000\n",
    "liwc_df_final = pd.DataFrame()\n",
    "for df_temp in pd.read_csv('datasets/50M_250_1000_2_final.csv', index_col=None, header=0, usecols=['text','text_token','tweet_id'], lineterminator='\\n', chunksize=1000):\n",
    "    have_tokens = ~pd.isna(df_temp.text_token)\n",
    "\n",
    "    df_temp.loc[have_tokens, 'text_token'] = df_temp[have_tokens].text_token.map(eval)\n",
    "\n",
    "    liwc_df_temp = pd.DataFrame(df_temp[have_tokens].text_token.map(liwc_features).tolist())\\\n",
    "        .fillna(0)\\\n",
    "        .astype(int)\n",
    "    # liwc_df.rename({c: 'liwc_' + c for c in liwc_df}, axis='columns')\n",
    "\n",
    "    for c in liwc_df_temp:\n",
    "        df_temp.loc[have_tokens, c] = liwc_df_temp[c].values\n",
    "    frames = [liwc_df_final, liwc_df_temp]\n",
    "    del liwc_df_temp\n",
    "    liwc_df_final = pd.concat(frames)\n",
    "#     print('Processed tweets through', numTweets)\n",
    "    numTweets+=1000"
   ]
  },
  {
   "cell_type": "code",
   "execution_count": null,
   "metadata": {},
   "outputs": [],
   "source": [
    "# rename columns in dataframe from 'dimension_name' to 'liwc_dimension_name'\n",
    "liwc_df_final.columns = ['liwc_' + c for c in liwc_df_final.columns]\n",
    "\n",
    "# Add columns to final dataframe\n",
    "df['liwc_social'] = liwc_df_final['liwc_social']\n",
    "df['liwc_affect'] = liwc_df_final['liwc_affect']\n",
    "df['liwc_cogmech'] = liwc_df_final['liwc_cogmech']\n",
    "df['liwc_percept'] = liwc_df_final['liwc_percept']\n",
    "df['liwc_bio'] = liwc_df_final['liwc_bio']\n",
    "df['liwc_relativ'] = liwc_df_final['liwc_relativ']"
   ]
  }
 ],
 "metadata": {
  "kernelspec": {
   "display_name": "Python 3",
   "language": "python",
   "name": "python3"
  },
  "language_info": {
   "codemirror_mode": {
    "name": "ipython",
    "version": 3
   },
   "file_extension": ".py",
   "mimetype": "text/x-python",
   "name": "python",
   "nbconvert_exporter": "python",
   "pygments_lexer": "ipython3",
   "version": "3.6.5"
  }
 },
 "nbformat": 4,
 "nbformat_minor": 2
}
