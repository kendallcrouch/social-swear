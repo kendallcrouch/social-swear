{
 "cells": [
  {
   "cell_type": "code",
   "execution_count": 1,
   "metadata": {},
   "outputs": [],
   "source": [
    "import pandas as pd\n",
    "import liwc\n",
    "from collections import Counter\n",
    "import re\n",
    "import time\n",
    "from sklearn.externals import joblib\n",
    "from nltk.stem import PorterStemmer\n",
    "ps = PorterStemmer()"
   ]
  },
  {
   "cell_type": "code",
   "execution_count": 2,
   "metadata": {},
   "outputs": [],
   "source": [
    "def stem_words(word_list):\n",
    "    word_list = re.sub('[\\'\\]\\[,]', '', word_list).split()\n",
    "    output = [ps.stem(w) for w in word_list]\n",
    "    output = \" \".join(output)\n",
    "    return output"
   ]
  },
  {
   "cell_type": "code",
   "execution_count": 3,
   "metadata": {},
   "outputs": [],
   "source": [
    "df = pd.read_csv('datasets/50M_250_1000_2_final.csv', index_col=None, header=0, usecols=['text','text_token_rem_stop','tweet_id'], lineterminator='\\n')"
   ]
  },
  {
   "cell_type": "code",
   "execution_count": 4,
   "metadata": {},
   "outputs": [],
   "source": [
    "df['text_token_stem_str'] = df.text_token_rem_stop.apply(lambda t: stem_words(t)) "
   ]
  },
  {
   "cell_type": "code",
   "execution_count": 5,
   "metadata": {},
   "outputs": [],
   "source": [
    "clf1 = joblib.load('misc/CCAT.pkl')\n",
    "clf2 = joblib.load('misc/GCAT.pkl')\n",
    "clf3 = joblib.load('misc/ECAT.pkl')\n",
    "clf4 = joblib.load('misc/MCAT.pkl')\n",
    "\n",
    "# Add columns to final dataframe\n",
    "df['CCAT'] = clf1.predict(df.text_token_stem_str)\n",
    "df['GCAT'] = clf2.predict(df.text_token_stem_str)\n",
    "df['ECAT'] = clf3.predict(df.text_token_stem_str)\n",
    "df['MCAT'] = clf4.predict(df.text_token_stem_str)"
   ]
  },
  {
   "cell_type": "code",
   "execution_count": 6,
   "metadata": {},
   "outputs": [],
   "source": [
    "interesting_punct = []\n",
    "pattern_same_punctuation = re.compile('(([-/\\\\\\\\()!\"+,&\\'.])\\\\2+)')\n",
    "pattern_inter1 = re.compile('\\?!+')\n",
    "pattern_inter2 = re.compile('!\\?+')\n",
    "for tweet in df.text:\n",
    "    match1 = pattern_same_punctuation.search(tweet)\n",
    "    match2 = pattern_inter1.findall(tweet)\n",
    "    match3 = pattern_inter1.findall(tweet)\n",
    "    if match1 or match2.__len__() > 0 or match3.__len__() > 0:\n",
    "        interesting_punct.append(1)\n",
    "    else:\n",
    "        interesting_punct.append(0)\n",
    "        \n",
    "# Add column to final dataframe\n",
    "df['interesting_punct'] = interesting_punct"
   ]
  }
 ],
 "metadata": {
  "kernelspec": {
   "display_name": "Python 3",
   "language": "python",
   "name": "python3"
  },
  "language_info": {
   "codemirror_mode": {
    "name": "ipython",
    "version": 3
   },
   "file_extension": ".py",
   "mimetype": "text/x-python",
   "name": "python",
   "nbconvert_exporter": "python",
   "pygments_lexer": "ipython3",
   "version": "3.6.5"
  }
 },
 "nbformat": 4,
 "nbformat_minor": 2
}
