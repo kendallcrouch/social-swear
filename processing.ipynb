{
 "cells": [
  {
   "cell_type": "code",
   "execution_count": 1,
   "metadata": {},
   "outputs": [],
   "source": [
    "import pandas as pd"
   ]
  },
  {
   "cell_type": "code",
   "execution_count": 2,
   "metadata": {},
   "outputs": [],
   "source": [
    "import matplotlib.pyplot as plt\n",
    "%matplotlib inline"
   ]
  },
  {
   "cell_type": "code",
   "execution_count": 3,
   "metadata": {},
   "outputs": [],
   "source": [
    "import warnings\n",
    "warnings.simplefilter('ignore')"
   ]
  },
  {
   "cell_type": "markdown",
   "metadata": {},
   "source": [
    "---"
   ]
  },
  {
   "cell_type": "markdown",
   "metadata": {},
   "source": [
    "# Read data"
   ]
  },
  {
   "cell_type": "markdown",
   "metadata": {},
   "source": [
    "[Dataset location (team drive)](https://drive.google.com/open?id=1vNN8ggAXWOgvHJjjeSzhWn3ffqDePaAy)"
   ]
  },
  {
   "cell_type": "code",
   "execution_count": 4,
   "metadata": {},
   "outputs": [],
   "source": [
    "DATASET_LOCATION = '/Users/stefan/Downloads/tweets-5M.csv'"
   ]
  },
  {
   "cell_type": "code",
   "execution_count": 5,
   "metadata": {},
   "outputs": [
    {
     "name": "stdout",
     "output_type": "stream",
     "text": [
      "CPU times: user 18.1 s, sys: 2.23 s, total: 20.3 s\n",
      "Wall time: 20.5 s\n"
     ]
    }
   ],
   "source": [
    "%%time \n",
    "tweets_raw = pd.read_csv(DATASET_LOCATION).drop('Unnamed: 0', axis=1)"
   ]
  },
  {
   "cell_type": "markdown",
   "metadata": {},
   "source": [
    "Column descriptions:\n",
    "- Tweet content:\n",
    "    -    `text`: raw text of the tweet, unchanged\n",
    "    -    `text_noMention`': text of the tweet with @mentions removed (='NO_USER_MENTIONS' if 0 mentions)\n",
    "    -    `numMentions`: number of mentions found in the tweet\n",
    "\n",
    "\n",
    "\n",
    "- Tweet metadata:\n",
    "    -    `is_quote_status`: whether the tweet is a quote status of another tweet\n",
    "    -    `is_reply_to_status`: whether the tweet is a reply to someone elses tweet\n",
    "    -    `is_reply_to_user`: whether the tweet is a reply to a user\n",
    "\n",
    "\n",
    "- Account information:\n",
    "    -    `user_followers_count`: number of followers the user has\n",
    "    -    `user_friends_count`: number of people the user follows\n",
    "    -    `user_listed_count`: number of lists the user is a part of\n",
    "    -    `user_favourites_count`: number of tweets the user has liked to date\n",
    "    -    `user_statuses_count`: number of tweets this user has authored to date (note that timeline acquisition is limited to 3200 latest tweets)\n",
    "    -    `user_verified`: whether the user is a verified user\n",
    "    -    `user_description_text`: raw text of the user's profile description\n",
    "    \n",
    "\n",
    "\n",
    "- Engagement:\n",
    "    -    `retweet_count`: number of times this tweet has been retweeted (at time of collection)\n",
    "    -    `favorite_coun`': number of times this tweet has been liked (at time of collection)"
   ]
  },
  {
   "cell_type": "markdown",
   "metadata": {},
   "source": [
    "In the future:\n",
    "- [ ] date\n",
    "- [ ] location (from geo-coordinates or timezone)"
   ]
  },
  {
   "cell_type": "markdown",
   "metadata": {},
   "source": [
    "## Curate dataframe"
   ]
  },
  {
   "cell_type": "code",
   "execution_count": 6,
   "metadata": {},
   "outputs": [],
   "source": [
    "tweets = tweets_raw[[\n",
    "    'user_id',\n",
    "    'text',\n",
    "    'retweet_count',\n",
    "    'favorite_count',\n",
    "    'user_followers_count',\n",
    "    'user_friends_count',\n",
    "    'user_statuses_count',\n",
    "]].rename({\n",
    "    'retweet_count': 'n_retweets',\n",
    "    'favorite_count': 'n_favorites',\n",
    "    'user_followers_count': 'n_user_followers',\n",
    "    'user_friends_count': 'n_user_following',\n",
    "    'user_statuses_count': 'n_user_posts'\n",
    "}, axis=1)"
   ]
  },
  {
   "cell_type": "code",
   "execution_count": 7,
   "metadata": {},
   "outputs": [],
   "source": [
    "tweets['is_reply'] = tweets_raw.is_reply_to_user.astype(bool) | tweets_raw.is_reply_to_status.astype(bool)"
   ]
  },
  {
   "cell_type": "code",
   "execution_count": 8,
   "metadata": {},
   "outputs": [],
   "source": [
    "int_cols = ['n_retweets', 'n_favorites', 'n_user_followers', 'n_user_following', 'n_user_posts']\n",
    "for col in int_cols:\n",
    "    tweets[col] = tweets[col].astype(int, errors='ignore')\n",
    "tweets.dropna(inplace=True)"
   ]
  },
  {
   "cell_type": "code",
   "execution_count": 9,
   "metadata": {},
   "outputs": [],
   "source": [
    "# tweets = tweets[:100_000]"
   ]
  },
  {
   "cell_type": "code",
   "execution_count": 10,
   "metadata": {},
   "outputs": [
    {
     "data": {
      "text/html": [
       "<div>\n",
       "<style scoped>\n",
       "    .dataframe tbody tr th:only-of-type {\n",
       "        vertical-align: middle;\n",
       "    }\n",
       "\n",
       "    .dataframe tbody tr th {\n",
       "        vertical-align: top;\n",
       "    }\n",
       "\n",
       "    .dataframe thead th {\n",
       "        text-align: right;\n",
       "    }\n",
       "</style>\n",
       "<table border=\"1\" class=\"dataframe\">\n",
       "  <thead>\n",
       "    <tr style=\"text-align: right;\">\n",
       "      <th></th>\n",
       "      <th>user_id</th>\n",
       "      <th>text</th>\n",
       "      <th>n_retweets</th>\n",
       "      <th>n_favorites</th>\n",
       "      <th>n_user_followers</th>\n",
       "      <th>n_user_following</th>\n",
       "      <th>n_user_posts</th>\n",
       "      <th>is_reply</th>\n",
       "    </tr>\n",
       "  </thead>\n",
       "  <tbody>\n",
       "    <tr>\n",
       "      <th>0</th>\n",
       "      <td>3309572095</td>\n",
       "      <td>@patwickles Baka sobra naman lumaki ulo niyang...</td>\n",
       "      <td>0.0</td>\n",
       "      <td>0.0</td>\n",
       "      <td>39.0</td>\n",
       "      <td>79.0</td>\n",
       "      <td>2139.0</td>\n",
       "      <td>True</td>\n",
       "    </tr>\n",
       "    <tr>\n",
       "      <th>1</th>\n",
       "      <td>3309572095</td>\n",
       "      <td>@patwickles That I agree! ☝️ hahaha taob yang ...</td>\n",
       "      <td>0.0</td>\n",
       "      <td>0.0</td>\n",
       "      <td>39.0</td>\n",
       "      <td>79.0</td>\n",
       "      <td>2139.0</td>\n",
       "      <td>True</td>\n",
       "    </tr>\n",
       "    <tr>\n",
       "      <th>2</th>\n",
       "      <td>3309572095</td>\n",
       "      <td>@yun1caaa Pota tumpak ka dyan gurl</td>\n",
       "      <td>0.0</td>\n",
       "      <td>0.0</td>\n",
       "      <td>39.0</td>\n",
       "      <td>79.0</td>\n",
       "      <td>2139.0</td>\n",
       "      <td>True</td>\n",
       "    </tr>\n",
       "    <tr>\n",
       "      <th>3</th>\n",
       "      <td>3309572095</td>\n",
       "      <td>@patwickles NoooooooOoooooooo</td>\n",
       "      <td>0.0</td>\n",
       "      <td>0.0</td>\n",
       "      <td>39.0</td>\n",
       "      <td>79.0</td>\n",
       "      <td>2139.0</td>\n",
       "      <td>True</td>\n",
       "    </tr>\n",
       "    <tr>\n",
       "      <th>4</th>\n",
       "      <td>3309572095</td>\n",
       "      <td>Tangina matuto lang akong mag drive kahit 5 am...</td>\n",
       "      <td>0.0</td>\n",
       "      <td>0.0</td>\n",
       "      <td>39.0</td>\n",
       "      <td>79.0</td>\n",
       "      <td>2139.0</td>\n",
       "      <td>False</td>\n",
       "    </tr>\n",
       "  </tbody>\n",
       "</table>\n",
       "</div>"
      ],
      "text/plain": [
       "      user_id                                               text  n_retweets  \\\n",
       "0  3309572095  @patwickles Baka sobra naman lumaki ulo niyang...         0.0   \n",
       "1  3309572095  @patwickles That I agree! ☝️ hahaha taob yang ...         0.0   \n",
       "2  3309572095                 @yun1caaa Pota tumpak ka dyan gurl         0.0   \n",
       "3  3309572095                      @patwickles NoooooooOoooooooo         0.0   \n",
       "4  3309572095  Tangina matuto lang akong mag drive kahit 5 am...         0.0   \n",
       "\n",
       "   n_favorites  n_user_followers  n_user_following  n_user_posts  is_reply  \n",
       "0          0.0              39.0              79.0        2139.0      True  \n",
       "1          0.0              39.0              79.0        2139.0      True  \n",
       "2          0.0              39.0              79.0        2139.0      True  \n",
       "3          0.0              39.0              79.0        2139.0      True  \n",
       "4          0.0              39.0              79.0        2139.0     False  "
      ]
     },
     "execution_count": 10,
     "metadata": {},
     "output_type": "execute_result"
    }
   ],
   "source": [
    "tweets.head()"
   ]
  },
  {
   "cell_type": "markdown",
   "metadata": {},
   "source": [
    "# Cleanup"
   ]
  },
  {
   "cell_type": "code",
   "execution_count": 11,
   "metadata": {},
   "outputs": [
    {
     "data": {
      "image/png": "[encoded data removed]",
      "text/plain": [
       "<Figure size 432x288 with 1 Axes>"
      ]
     },
     "metadata": {
      "needs_background": "light"
     },
     "output_type": "display_data"
    }
   ],
   "source": [
    "tweets.user_id.value_counts().hist()\n",
    "plt.title('Number of Tweets Distribution')\n",
    "plt.ylabel('Number of users')\n",
    "plt.xlabel('Number of tweets')\n",
    "plt.show()"
   ]
  },
  {
   "cell_type": "code",
   "execution_count": 12,
   "metadata": {},
   "outputs": [
    {
     "data": {
      "text/plain": [
       "'2853 unique users in total'"
      ]
     },
     "execution_count": 12,
     "metadata": {},
     "output_type": "execute_result"
    }
   ],
   "source": [
    "f'{tweets.user_id.nunique()} unique users in total'"
   ]
  },
  {
   "cell_type": "markdown",
   "metadata": {},
   "source": [
    "## Find spam"
   ]
  },
  {
   "cell_type": "code",
   "execution_count": 13,
   "metadata": {},
   "outputs": [],
   "source": [
    "import numpy as np"
   ]
  },
  {
   "cell_type": "code",
   "execution_count": 14,
   "metadata": {},
   "outputs": [
    {
     "data": {
      "image/png": "[encoded data removed]",
      "text/plain": [
       "<Figure size 432x288 with 1 Axes>"
      ]
     },
     "metadata": {
      "needs_background": "light"
     },
     "output_type": "display_data"
    }
   ],
   "source": [
    "per_replies = tweets.groupby('user_id').is_reply.mean()\n",
    "per_replies.hist()\n",
    "plt.title('Percentage of Replies Distribution')\n",
    "plt.ylabel('Number of users')\n",
    "plt.xlabel('Percentage tweets being replies')\n",
    "plt.show()"
   ]
  },
  {
   "cell_type": "code",
   "execution_count": 15,
   "metadata": {},
   "outputs": [],
   "source": [
    "# no replies (under 1% percent) likely means that the user is a bot\n",
    "bots_ids = per_replies[per_replies < .01].index\n",
    "tweets['is_user_bot'] = tweets.user_id.isin(bots_ids)"
   ]
  },
  {
   "cell_type": "code",
   "execution_count": 16,
   "metadata": {},
   "outputs": [
    {
     "data": {
      "text/plain": [
       "'19.0% posts characterized as bots'"
      ]
     },
     "execution_count": 16,
     "metadata": {},
     "output_type": "execute_result"
    }
   ],
   "source": [
    "f'{tweets.is_user_bot.mean():.1%} posts characterized as bots'"
   ]
  },
  {
   "cell_type": "markdown",
   "metadata": {},
   "source": [
    "## Find outliers"
   ]
  },
  {
   "cell_type": "code",
   "execution_count": 17,
   "metadata": {},
   "outputs": [
    {
     "data": {
      "text/plain": [
       "<matplotlib.axes._subplots.AxesSubplot at 0x11aafcf60>"
      ]
     },
     "execution_count": 17,
     "metadata": {},
     "output_type": "execute_result"
    },
    {
     "data": {
      "image/png": "[encoded data removed]",
      "text/plain": [
       "<Figure size 432x288 with 1 Axes>"
      ]
     },
     "metadata": {
      "needs_background": "light"
     },
     "output_type": "display_data"
    }
   ],
   "source": [
    "tweets.n_retweets.hist()"
   ]
  },
  {
   "cell_type": "code",
   "execution_count": 18,
   "metadata": {},
   "outputs": [
    {
     "data": {
      "text/html": [
       "<div>\n",
       "<style scoped>\n",
       "    .dataframe tbody tr th:only-of-type {\n",
       "        vertical-align: middle;\n",
       "    }\n",
       "\n",
       "    .dataframe tbody tr th {\n",
       "        vertical-align: top;\n",
       "    }\n",
       "\n",
       "    .dataframe thead th {\n",
       "        text-align: right;\n",
       "    }\n",
       "</style>\n",
       "<table border=\"1\" class=\"dataframe\">\n",
       "  <thead>\n",
       "    <tr style=\"text-align: right;\">\n",
       "      <th></th>\n",
       "      <th>n_retweets</th>\n",
       "      <th>n_favorites</th>\n",
       "      <th>n_user_followers</th>\n",
       "      <th>n_user_following</th>\n",
       "      <th>n_user_posts</th>\n",
       "    </tr>\n",
       "  </thead>\n",
       "  <tbody>\n",
       "    <tr>\n",
       "      <th>count</th>\n",
       "      <td>5.212472e+06</td>\n",
       "      <td>5.212472e+06</td>\n",
       "      <td>5.212472e+06</td>\n",
       "      <td>5.212472e+06</td>\n",
       "      <td>5.212472e+06</td>\n",
       "    </tr>\n",
       "    <tr>\n",
       "      <th>mean</th>\n",
       "      <td>9.482014e-01</td>\n",
       "      <td>3.192073e+00</td>\n",
       "      <td>3.876266e+03</td>\n",
       "      <td>1.559739e+03</td>\n",
       "      <td>2.074306e+04</td>\n",
       "    </tr>\n",
       "    <tr>\n",
       "      <th>std</th>\n",
       "      <td>1.193622e+02</td>\n",
       "      <td>3.049511e+02</td>\n",
       "      <td>3.748936e+04</td>\n",
       "      <td>9.429391e+03</td>\n",
       "      <td>2.155883e+04</td>\n",
       "    </tr>\n",
       "    <tr>\n",
       "      <th>min</th>\n",
       "      <td>0.000000e+00</td>\n",
       "      <td>0.000000e+00</td>\n",
       "      <td>2.600000e+01</td>\n",
       "      <td>0.000000e+00</td>\n",
       "      <td>3.000000e+02</td>\n",
       "    </tr>\n",
       "    <tr>\n",
       "      <th>1%</th>\n",
       "      <td>0.000000e+00</td>\n",
       "      <td>0.000000e+00</td>\n",
       "      <td>3.100000e+01</td>\n",
       "      <td>0.000000e+00</td>\n",
       "      <td>5.970000e+02</td>\n",
       "    </tr>\n",
       "    <tr>\n",
       "      <th>2%</th>\n",
       "      <td>0.000000e+00</td>\n",
       "      <td>0.000000e+00</td>\n",
       "      <td>3.900000e+01</td>\n",
       "      <td>3.000000e+00</td>\n",
       "      <td>9.090000e+02</td>\n",
       "    </tr>\n",
       "    <tr>\n",
       "      <th>5%</th>\n",
       "      <td>0.000000e+00</td>\n",
       "      <td>0.000000e+00</td>\n",
       "      <td>5.800000e+01</td>\n",
       "      <td>2.000000e+01</td>\n",
       "      <td>1.536000e+03</td>\n",
       "    </tr>\n",
       "    <tr>\n",
       "      <th>25%</th>\n",
       "      <td>0.000000e+00</td>\n",
       "      <td>0.000000e+00</td>\n",
       "      <td>2.170000e+02</td>\n",
       "      <td>1.770000e+02</td>\n",
       "      <td>4.835000e+03</td>\n",
       "    </tr>\n",
       "    <tr>\n",
       "      <th>50%</th>\n",
       "      <td>0.000000e+00</td>\n",
       "      <td>0.000000e+00</td>\n",
       "      <td>5.540000e+02</td>\n",
       "      <td>4.240000e+02</td>\n",
       "      <td>1.180600e+04</td>\n",
       "    </tr>\n",
       "    <tr>\n",
       "      <th>75%</th>\n",
       "      <td>0.000000e+00</td>\n",
       "      <td>1.000000e+00</td>\n",
       "      <td>1.415000e+03</td>\n",
       "      <td>9.630000e+02</td>\n",
       "      <td>2.928300e+04</td>\n",
       "    </tr>\n",
       "    <tr>\n",
       "      <th>95%</th>\n",
       "      <td>2.000000e+00</td>\n",
       "      <td>7.000000e+00</td>\n",
       "      <td>9.261000e+03</td>\n",
       "      <td>4.476000e+03</td>\n",
       "      <td>6.986500e+04</td>\n",
       "    </tr>\n",
       "    <tr>\n",
       "      <th>98%</th>\n",
       "      <td>4.000000e+00</td>\n",
       "      <td>1.800000e+01</td>\n",
       "      <td>2.490300e+04</td>\n",
       "      <td>9.036000e+03</td>\n",
       "      <td>8.156500e+04</td>\n",
       "    </tr>\n",
       "    <tr>\n",
       "      <th>99%</th>\n",
       "      <td>8.000000e+00</td>\n",
       "      <td>3.400000e+01</td>\n",
       "      <td>5.429800e+04</td>\n",
       "      <td>1.493800e+04</td>\n",
       "      <td>8.608100e+04</td>\n",
       "    </tr>\n",
       "    <tr>\n",
       "      <th>99.9%</th>\n",
       "      <td>7.200000e+01</td>\n",
       "      <td>2.280000e+02</td>\n",
       "      <td>3.074250e+05</td>\n",
       "      <td>2.003650e+05</td>\n",
       "      <td>8.978900e+04</td>\n",
       "    </tr>\n",
       "    <tr>\n",
       "      <th>max</th>\n",
       "      <td>1.421570e+05</td>\n",
       "      <td>3.156960e+05</td>\n",
       "      <td>2.617265e+06</td>\n",
       "      <td>2.681320e+05</td>\n",
       "      <td>8.989100e+04</td>\n",
       "    </tr>\n",
       "  </tbody>\n",
       "</table>\n",
       "</div>"
      ],
      "text/plain": [
       "         n_retweets   n_favorites  n_user_followers  n_user_following  \\\n",
       "count  5.212472e+06  5.212472e+06      5.212472e+06      5.212472e+06   \n",
       "mean   9.482014e-01  3.192073e+00      3.876266e+03      1.559739e+03   \n",
       "std    1.193622e+02  3.049511e+02      3.748936e+04      9.429391e+03   \n",
       "min    0.000000e+00  0.000000e+00      2.600000e+01      0.000000e+00   \n",
       "1%     0.000000e+00  0.000000e+00      3.100000e+01      0.000000e+00   \n",
       "2%     0.000000e+00  0.000000e+00      3.900000e+01      3.000000e+00   \n",
       "5%     0.000000e+00  0.000000e+00      5.800000e+01      2.000000e+01   \n",
       "25%    0.000000e+00  0.000000e+00      2.170000e+02      1.770000e+02   \n",
       "50%    0.000000e+00  0.000000e+00      5.540000e+02      4.240000e+02   \n",
       "75%    0.000000e+00  1.000000e+00      1.415000e+03      9.630000e+02   \n",
       "95%    2.000000e+00  7.000000e+00      9.261000e+03      4.476000e+03   \n",
       "98%    4.000000e+00  1.800000e+01      2.490300e+04      9.036000e+03   \n",
       "99%    8.000000e+00  3.400000e+01      5.429800e+04      1.493800e+04   \n",
       "99.9%  7.200000e+01  2.280000e+02      3.074250e+05      2.003650e+05   \n",
       "max    1.421570e+05  3.156960e+05      2.617265e+06      2.681320e+05   \n",
       "\n",
       "       n_user_posts  \n",
       "count  5.212472e+06  \n",
       "mean   2.074306e+04  \n",
       "std    2.155883e+04  \n",
       "min    3.000000e+02  \n",
       "1%     5.970000e+02  \n",
       "2%     9.090000e+02  \n",
       "5%     1.536000e+03  \n",
       "25%    4.835000e+03  \n",
       "50%    1.180600e+04  \n",
       "75%    2.928300e+04  \n",
       "95%    6.986500e+04  \n",
       "98%    8.156500e+04  \n",
       "99%    8.608100e+04  \n",
       "99.9%  8.978900e+04  \n",
       "max    8.989100e+04  "
      ]
     },
     "execution_count": 18,
     "metadata": {},
     "output_type": "execute_result"
    }
   ],
   "source": [
    "tweets.describe([.01, .02, .05, .25, .5, .75, .95, .98, .99, .999])"
   ]
  },
  {
   "cell_type": "code",
   "execution_count": 19,
   "metadata": {},
   "outputs": [],
   "source": [
    "tweets['is_outlier'] = False\n",
    "for col in int_cols:\n",
    "    max_allowed = np.quantile(tweets[col], .99)  # ignore the 1% most outlying tweets\n",
    "    tweets.is_outlier |= tweets[col] > max_allowed"
   ]
  },
  {
   "cell_type": "code",
   "execution_count": 20,
   "metadata": {},
   "outputs": [
    {
     "data": {
      "text/plain": [
       "'3.7% tweets are outliers in any direction'"
      ]
     },
     "execution_count": 20,
     "metadata": {},
     "output_type": "execute_result"
    }
   ],
   "source": [
    "f'{tweets.is_outlier.mean():.1%} tweets are outliers in any direction'"
   ]
  },
  {
   "cell_type": "code",
   "execution_count": 21,
   "metadata": {},
   "outputs": [],
   "source": [
    "tweets['is_valid'] = ~tweets.is_user_bot & ~tweets.is_outlier"
   ]
  },
  {
   "cell_type": "code",
   "execution_count": 22,
   "metadata": {},
   "outputs": [
    {
     "data": {
      "text/plain": [
       "'4,083,995 valid tweets'"
      ]
     },
     "execution_count": 22,
     "metadata": {},
     "output_type": "execute_result"
    }
   ],
   "source": [
    "valid_tweets = tweets[tweets.is_valid]\n",
    "f'{len(valid_tweets):,} valid tweets'"
   ]
  },
  {
   "cell_type": "markdown",
   "metadata": {},
   "source": [
    "# Pre-process"
   ]
  },
  {
   "cell_type": "code",
   "execution_count": 23,
   "metadata": {},
   "outputs": [],
   "source": [
    "from textblob import TextBlob"
   ]
  },
  {
   "cell_type": "code",
   "execution_count": 24,
   "metadata": {},
   "outputs": [
    {
     "name": "stdout",
     "output_type": "stream",
     "text": [
      "CPU times: user 29min 51s, sys: 4min 8s, total: 33min 59s\n",
      "Wall time: 35min 6s\n"
     ]
    }
   ],
   "source": [
    "# tokenize, lemmatize, lowercase\n",
    "%time tweets['text_standardized'] = tweets.text.apply(lambda t: TextBlob(t).words.lemmatize().lower())"
   ]
  },
  {
   "cell_type": "markdown",
   "metadata": {},
   "source": [
    "In the future:\n",
    "- [ ] un-censor (turn `fck`, `f*ck` and `f%#k` into `fuck`)\n",
    "- [ ] keep only english language tweets (`TextBlob` has a `detect_language` method)\n",
    "- [ ] apply spell-checking (`TextBlob` has a `correct` method)\n",
    "- [ ] just for other features extraction: remove links, mentions, hashtags, retweets, stop-words, retweets"
   ]
  },
  {
   "cell_type": "markdown",
   "metadata": {},
   "source": [
    "## Extract features"
   ]
  },
  {
   "cell_type": "markdown",
   "metadata": {},
   "source": [
    "### Text-based"
   ]
  },
  {
   "cell_type": "markdown",
   "metadata": {},
   "source": [
    "In the future:\n",
    " - [ ] topic (from our dataset)\n",
    " - [ ] topic (pre-trained)\n",
    " - [ ] emotion (categorical or dimensional)\n",
    " - [ ] intent (sell/ask/advise — derived from account type?)\n",
    " - [ ] POSs\n",
    " - [ ] word embedding (sum?)\n",
    " - [ ] tf-idf\n",
    " - [ ] grammatical correctness (edit distance from corrected version)\n",
    " - [ ] descriptions of images, videos\n",
    " - [ ] particular punctuation marks\n",
    " - [ ] particular emojis\n",
    " \n",
    "More features:\n",
    " - [ ] other features listed in the spreadsheet\n",
    " - [ ] check out libraries: NLTK, Stanford CoreNLP, SpaCy, Gensim, Vader, LIWC, MPQA, SentiStrength, Vocabulary, PyNLPl, Pattern, sklearn NLP, SyntaxNet, IBM Watson\n",
    " - [ ] other libraries presented in October 5th lecture (still not uploaded)"
   ]
  },
  {
   "cell_type": "code",
   "execution_count": 25,
   "metadata": {},
   "outputs": [],
   "source": [
    "import emoji"
   ]
  },
  {
   "cell_type": "code",
   "execution_count": 26,
   "metadata": {},
   "outputs": [],
   "source": [
    "tweets['text_len'] = tweets.text.str.len()"
   ]
  },
  {
   "cell_type": "code",
   "execution_count": 27,
   "metadata": {},
   "outputs": [],
   "source": [
    "tweets['n_words'] = tweets.text_standardized.apply(len)"
   ]
  },
  {
   "cell_type": "code",
   "execution_count": 28,
   "metadata": {},
   "outputs": [
    {
     "name": "stdout",
     "output_type": "stream",
     "text": [
      "CPU times: user 15min 49s, sys: 2.48 s, total: 15min 51s\n",
      "Wall time: 15min 53s\n"
     ]
    }
   ],
   "source": [
    "%time tweets['text_polarity'] = tweets.text.apply(lambda t: TextBlob(t).polarity)"
   ]
  },
  {
   "cell_type": "code",
   "execution_count": 29,
   "metadata": {},
   "outputs": [
    {
     "name": "stdout",
     "output_type": "stream",
     "text": [
      "CPU times: user 15min 46s, sys: 2.45 s, total: 15min 49s\n",
      "Wall time: 15min 51s\n"
     ]
    }
   ],
   "source": [
    "%time tweets['text_subjectivity'] = tweets.text.apply(lambda t: TextBlob(t).subjectivity)"
   ]
  },
  {
   "cell_type": "code",
   "execution_count": 30,
   "metadata": {},
   "outputs": [],
   "source": [
    "# rudimentary: catches nearly all cases, but can be further refined\n",
    "tweets['n_mentions'] = tweets.text.str.count('@')\n",
    "tweets['n_hashtags'] = tweets.text.str.count('#')\n",
    "tweets['n_links']    = tweets.text.str.count('http')"
   ]
  },
  {
   "cell_type": "code",
   "execution_count": 31,
   "metadata": {},
   "outputs": [],
   "source": [
    "tweets['n_emojis'] = tweets.text.apply(emoji.emoji_count)"
   ]
  },
  {
   "cell_type": "markdown",
   "metadata": {},
   "source": [
    "### Swear-word related"
   ]
  },
  {
   "cell_type": "markdown",
   "metadata": {},
   "source": [
    "In the future:\n",
    "- [ ] get (a few) more swear words, manually curated\n",
    "- [ ] assign a severity to each\n",
    "- [ ] incorporate rarity (?)"
   ]
  },
  {
   "cell_type": "markdown",
   "metadata": {},
   "source": [
    "Sources: [most popular on facebook](http://www.slate.com/blogs/lexicon_valley/2013/09/11/top_swear_words_most_popular_curse_words_on_facebook.html), [quora question](https://www.quora.com/What-are-common-swear-words-in-English)"
   ]
  },
  {
   "cell_type": "code",
   "execution_count": 32,
   "metadata": {},
   "outputs": [],
   "source": [
    "SWEAR_WORDS = [\n",
    " 'ass', 'asshole',\n",
    " 'bastard',\n",
    " 'bitch',\n",
    " 'bullshit',\n",
    " 'cock',\n",
    " 'crap',\n",
    " 'cunt',\n",
    " 'damn',\n",
    " 'darn',\n",
    " 'dick',\n",
    " 'douche',\n",
    " 'fag', 'faggot',\n",
    " 'fuck', 'fucking', 'fucked',\n",
    " 'motherfucker',\n",
    " 'nigger', 'nigga',\n",
    " 'piss',\n",
    " 'prick',\n",
    " 'pussy',\n",
    " 'shit', 'shitty',\n",
    " 'slut',\n",
    " 'whore',\n",
    " '🖕',\n",
    "]"
   ]
  },
  {
   "cell_type": "code",
   "execution_count": 33,
   "metadata": {},
   "outputs": [],
   "source": [
    "extened_swear_words = SWEAR_WORDS + TextBlob(' '.join(SWEAR_WORDS)).words.pluralize()  # also add plural versions"
   ]
  },
  {
   "cell_type": "code",
   "execution_count": 34,
   "metadata": {},
   "outputs": [
    {
     "name": "stdout",
     "output_type": "stream",
     "text": [
      "CPU times: user 11min 13s, sys: 33.4 s, total: 11min 46s\n",
      "Wall time: 12min 9s\n"
     ]
    }
   ],
   "source": [
    "%time tweets['n_swears'] = tweets.text_standardized.apply(lambda ws: sum(ws.count(swear) for swear in extened_swear_words))"
   ]
  },
  {
   "cell_type": "code",
   "execution_count": 35,
   "metadata": {},
   "outputs": [],
   "source": [
    "tweets['swear_presence'] = tweets.n_swears > 0"
   ]
  },
  {
   "cell_type": "code",
   "execution_count": 36,
   "metadata": {},
   "outputs": [
    {
     "data": {
      "text/plain": [
       "'4.39% of the tweets contain swear words'"
      ]
     },
     "execution_count": 36,
     "metadata": {},
     "output_type": "execute_result"
    }
   ],
   "source": [
    "f'{tweets[tweets.is_valid].swear_presence.mean():.2%} of the tweets contain swear words'"
   ]
  },
  {
   "cell_type": "code",
   "execution_count": 37,
   "metadata": {},
   "outputs": [
    {
     "data": {
      "text/plain": [
       "1     88.728063\n",
       "2      9.623111\n",
       "3      1.313009\n",
       "4      0.259923\n",
       "5      0.047123\n",
       "6      0.014385\n",
       "7      0.004960\n",
       "8      0.004464\n",
       "12     0.001488\n",
       "10     0.001488\n",
       "22     0.000496\n",
       "16     0.000496\n",
       "14     0.000496\n",
       "9      0.000496\n",
       "Name: n_swears, dtype: float64"
      ]
     },
     "execution_count": 37,
     "metadata": {},
     "output_type": "execute_result"
    }
   ],
   "source": [
    "tweets_with_swears = tweets[tweets.swear_presence]\n",
    "tweets_with_swears.n_swears.value_counts() / len(tweets_with_swears) * 100"
   ]
  },
  {
   "cell_type": "markdown",
   "metadata": {},
   "source": [
    "Most posts (that contain swear words) have only one swear word, a few of them have two"
   ]
  },
  {
   "cell_type": "code",
   "execution_count": 38,
   "metadata": {},
   "outputs": [],
   "source": [
    "tweets['swear_ratio'] = tweets.n_swears / tweets.n_words"
   ]
  },
  {
   "cell_type": "markdown",
   "metadata": {},
   "source": [
    "### Date-related"
   ]
  },
  {
   "cell_type": "code",
   "execution_count": 39,
   "metadata": {},
   "outputs": [
    {
     "data": {
      "text/plain": [
       "\"\\nfrom dateutil.parser import parse as parse_date\\n\\n# parse dates\\n%time tweets.date = tweets.date.apply(parse_date)\\n\\n%time tweets['day_of_week'] = tweets.date.apply(lambda d: int(d.strftime('%w')))\\n\\n%time tweets['hour_of_day'] = tweets.date.apply(lambda d: int(d.strftime('%H')))\\n\""
      ]
     },
     "execution_count": 39,
     "metadata": {},
     "output_type": "execute_result"
    }
   ],
   "source": [
    "\"\"\"\n",
    "from dateutil.parser import parse as parse_date\n",
    "\n",
    "# parse dates\n",
    "%time tweets.date = tweets.date.apply(parse_date)\n",
    "\n",
    "%time tweets['day_of_week'] = tweets.date.apply(lambda d: int(d.strftime('%w')))\n",
    "\n",
    "%time tweets['hour_of_day'] = tweets.date.apply(lambda d: int(d.strftime('%H')))\n",
    "\"\"\""
   ]
  },
  {
   "cell_type": "markdown",
   "metadata": {},
   "source": [
    "## Dependent variable"
   ]
  },
  {
   "cell_type": "code",
   "execution_count": 40,
   "metadata": {},
   "outputs": [],
   "source": [
    "tweets['engagement'] = tweets.n_favorites + tweets.n_retweets"
   ]
  },
  {
   "cell_type": "code",
   "execution_count": 75,
   "metadata": {},
   "outputs": [
    {
     "name": "stdout",
     "output_type": "stream",
     "text": [
      "CPU times: user 2min 51s, sys: 49.1 s, total: 3min 40s\n",
      "Wall time: 4min 14s\n"
     ]
    }
   ],
   "source": [
    "%time tweets.to_csv('processed-5M.csv', index=False)"
   ]
  },
  {
   "cell_type": "markdown",
   "metadata": {},
   "source": [
    "# Data exploration"
   ]
  },
  {
   "cell_type": "code",
   "execution_count": 41,
   "metadata": {},
   "outputs": [],
   "source": [
    "import math\n",
    "import seaborn as sns"
   ]
  },
  {
   "cell_type": "code",
   "execution_count": 42,
   "metadata": {},
   "outputs": [],
   "source": [
    "valid_tweets = tweets[tweets.is_valid]"
   ]
  },
  {
   "cell_type": "markdown",
   "metadata": {},
   "source": [
    "---"
   ]
  },
  {
   "cell_type": "code",
   "execution_count": 43,
   "metadata": {},
   "outputs": [
    {
     "data": {
      "image/png": "[encoded data removed]",
      "text/plain": [
       "<Figure size 432x288 with 1 Axes>"
      ]
     },
     "metadata": {
      "needs_background": "light"
     },
     "output_type": "display_data"
    }
   ],
   "source": [
    "sns.distplot(valid_tweets.text_len, bins=30)\n",
    "plt.xlabel('Number of characters')\n",
    "plt.ylabel('Amount of tweets')\n",
    "plt.yticks([])\n",
    "plt.title(\"Distribution of Tweet Length\")\n",
    "plt.show()"
   ]
  },
  {
   "cell_type": "code",
   "execution_count": 44,
   "metadata": {},
   "outputs": [
    {
     "data": {
      "image/png": "[encoded data removed]",
      "text/plain": [
       "<Figure size 432x288 with 1 Axes>"
      ]
     },
     "metadata": {
      "needs_background": "light"
     },
     "output_type": "display_data"
    }
   ],
   "source": [
    "sns.distplot(valid_tweets.n_user_followers, bins=30)\n",
    "plt.xlabel('Number of followers')\n",
    "plt.ylabel('Amout of users')\n",
    "plt.yticks([])\n",
    "plt.title(\"Distribution of Popularity\")\n",
    "plt.show()"
   ]
  },
  {
   "cell_type": "code",
   "execution_count": 45,
   "metadata": {},
   "outputs": [
    {
     "data": {
      "image/png": "[encoded data removed]",
      "text/plain": [
       "<Figure size 432x288 with 1 Axes>"
      ]
     },
     "metadata": {
      "needs_background": "light"
     },
     "output_type": "display_data"
    }
   ],
   "source": [
    "sns.distplot(valid_tweets.engagement, kde=False)\n",
    "plt.xlabel('Retweet + favorite count')\n",
    "plt.ylabel('Amout of tweets')\n",
    "plt.yticks([])\n",
    "plt.title(\"Distribution of Engagement\")\n",
    "plt.show()"
   ]
  },
  {
   "cell_type": "code",
   "execution_count": 46,
   "metadata": {},
   "outputs": [
    {
     "data": {
      "image/png": "[encoded data removed]",
      "text/plain": [
       "<Figure size 432x288 with 1 Axes>"
      ]
     },
     "metadata": {
      "needs_background": "light"
     },
     "output_type": "display_data"
    }
   ],
   "source": [
    "sns.distplot(valid_tweets.text_polarity, bins=10)\n",
    "plt.xlabel('Sentiment polarity')\n",
    "plt.ylabel('Amout of tweets')\n",
    "plt.yticks([])\n",
    "plt.title(\"Distribution of Sentiment\")\n",
    "plt.show()"
   ]
  },
  {
   "cell_type": "code",
   "execution_count": 47,
   "metadata": {},
   "outputs": [
    {
     "data": {
      "image/png": "[encoded data removed]",
      "text/plain": [
       "<Figure size 432x288 with 1 Axes>"
      ]
     },
     "metadata": {
      "needs_background": "light"
     },
     "output_type": "display_data"
    }
   ],
   "source": [
    "sns.distplot(valid_tweets.text_subjectivity, bins=10)\n",
    "plt.xlabel('Subjectivity')\n",
    "plt.ylabel('Amout of tweets')\n",
    "plt.yticks([])\n",
    "plt.title(\"Distribution of Subjectivity\")\n",
    "plt.show()"
   ]
  },
  {
   "cell_type": "markdown",
   "metadata": {},
   "source": [
    "---"
   ]
  },
  {
   "cell_type": "code",
   "execution_count": 48,
   "metadata": {},
   "outputs": [
    {
     "data": {
      "text/plain": [
       "'284,582,288 total characters'"
      ]
     },
     "execution_count": 48,
     "metadata": {},
     "output_type": "execute_result"
    }
   ],
   "source": [
    "all_text = ' '.join(valid_tweets.text_standardized.str.join(' ').values)\n",
    "f'{len(all_text):,} total characters'"
   ]
  },
  {
   "cell_type": "code",
   "execution_count": 49,
   "metadata": {},
   "outputs": [],
   "source": [
    "swears_counts = {\n",
    "    s: all_text.count(s) + all_text.count(TextBlob(s).words.pluralize()[0])\n",
    "    for s in SWEAR_WORDS\n",
    "}"
   ]
  },
  {
   "cell_type": "code",
   "execution_count": 50,
   "metadata": {},
   "outputs": [
    {
     "data": {
      "image/png": "[encoded data removed]",
      "text/plain": [
       "<Figure size 288x576 with 1 Axes>"
      ]
     },
     "metadata": {
      "needs_background": "light"
     },
     "output_type": "display_data"
    }
   ],
   "source": [
    "plt.figure(figsize=(4, 8))\n",
    "pd.Series(swears_counts).sort_values().plot(kind='barh')\n",
    "\n",
    "# plt.xticks([])\n",
    "plt.xlabel('Number of occurences')\n",
    "plt.title('Most Frequent Swear Words')\n",
    "plt.show()"
   ]
  },
  {
   "cell_type": "code",
   "execution_count": 51,
   "metadata": {},
   "outputs": [],
   "source": [
    "BOSTON_RED = '#CC0300'"
   ]
  },
  {
   "cell_type": "code",
   "execution_count": 52,
   "metadata": {},
   "outputs": [
    {
     "data": {
      "image/png": "[encoded data removed]",
      "text/plain": [
       "<Figure size 504x288 with 1 Axes>"
      ]
     },
     "metadata": {
      "needs_background": "light"
     },
     "output_type": "display_data"
    }
   ],
   "source": [
    "plt.figure(figsize=(7, 4))\n",
    "for presence, df in valid_tweets.groupby('swear_presence'):\n",
    "    sns.kdeplot(df.text_polarity, clip=(-1, +1), \n",
    "                label='yes' if presence else 'no', color=BOSTON_RED if presence else 'grey',\n",
    "                linewidth=2.5)\n",
    "\n",
    "plt.legend(title='Swear present')\n",
    "plt.title('Sentiment Distribution by Swear-word Presence')\n",
    "\n",
    "plt.yticks([])\n",
    "plt.xlabel('Sentiment polarity')\n",
    "plt.ylabel('Amount of posts')\n",
    "plt.show()"
   ]
  },
  {
   "cell_type": "code",
   "execution_count": 53,
   "metadata": {},
   "outputs": [
    {
     "data": {
      "image/png": "[encoded data removed]",
      "text/plain": [
       "<Figure size 504x288 with 1 Axes>"
      ]
     },
     "metadata": {
      "needs_background": "light"
     },
     "output_type": "display_data"
    }
   ],
   "source": [
    "plt.figure(figsize=(7, 4))\n",
    "for presence, df in valid_tweets.groupby('swear_presence'):\n",
    "    sns.kdeplot(df.text_subjectivity, clip=(0, 1), \n",
    "                label='yes' if presence else 'no', color=BOSTON_RED if presence else 'grey',\n",
    "                linewidth=2.5)\n",
    "\n",
    "plt.legend(title='Swear present')\n",
    "plt.title('Subjectivity Distribution by Swear-word Presence')\n",
    "\n",
    "\n",
    "plt.yticks([])\n",
    "plt.xlabel('Subjectivity score')\n",
    "plt.ylabel('Amount of posts')\n",
    "plt.show()"
   ]
  },
  {
   "cell_type": "code",
   "execution_count": 54,
   "metadata": {},
   "outputs": [],
   "source": [
    "tweets['popularity_bin'], bins = pd.cut(tweets.n_user_followers, bins=50, \n",
    "                                        labels=False, retbins=True)"
   ]
  },
  {
   "cell_type": "code",
   "execution_count": 55,
   "metadata": {},
   "outputs": [],
   "source": [
    "repr_vals = [0, 0, *bins[::9]]  # since there are 50 bins and we need 6 values"
   ]
  },
  {
   "cell_type": "code",
   "execution_count": 56,
   "metadata": {},
   "outputs": [
    {
     "data": {
      "image/png": "[encoded data removed]",
      "text/plain": [
       "<Figure size 504x288 with 1 Axes>"
      ]
     },
     "metadata": {
      "needs_background": "light"
     },
     "output_type": "display_data"
    }
   ],
   "source": [
    "plt.figure(figsize=(7, 4))\n",
    "\n",
    "per_swears = tweets.groupby('popularity_bin').swear_presence.mean()\n",
    "sns.regplot(per_swears.index.values, per_swears.values, color=BOSTON_RED)\n",
    "\n",
    "plt.gca().set_xticklabels('%d' % v for v in repr_vals)\n",
    "plt.gca().set_yticklabels(['{:.0%}'.format(v) for v in plt.gca().get_yticks()])\n",
    "\n",
    "plt.title('Swear-words Usage by Author Popularity')\n",
    "plt.xlabel('Followers')\n",
    "plt.ylabel('Containing swears')\n",
    "\n",
    "plt.show()"
   ]
  },
  {
   "cell_type": "code",
   "execution_count": 57,
   "metadata": {},
   "outputs": [],
   "source": [
    "tweets['length_bin'], bins = pd.cut(tweets.text_len, bins=50,\n",
    "                                    labels=False, retbins=True)"
   ]
  },
  {
   "cell_type": "code",
   "execution_count": 58,
   "metadata": {},
   "outputs": [],
   "source": [
    "repr_vals = [0, *bins[::9]]  # since there are 50 bins and we need 6 values"
   ]
  },
  {
   "cell_type": "code",
   "execution_count": 59,
   "metadata": {},
   "outputs": [
    {
     "data": {
      "image/png": "[encoded data removed]",
      "text/plain": [
       "<Figure size 504x288 with 1 Axes>"
      ]
     },
     "metadata": {
      "needs_background": "light"
     },
     "output_type": "display_data"
    }
   ],
   "source": [
    "plt.figure(figsize=(7, 4))\n",
    "\n",
    "per_swears = tweets.groupby('length_bin').swear_presence.mean()\n",
    "sns.regplot(per_swears.index.values, per_swears.values, color=BOSTON_RED)\n",
    "\n",
    "plt.gca().set_xticklabels('%d' % v for v in repr_vals)\n",
    "plt.gca().set_yticklabels(['{:.0%}'.format(v) for v in plt.gca().get_yticks()])\n",
    "\n",
    "plt.title('Swear-words Usage by Post Length')\n",
    "plt.xlabel('Text length')\n",
    "plt.ylabel('Containing swears')\n",
    "\n",
    "plt.show()"
   ]
  },
  {
   "cell_type": "markdown",
   "metadata": {},
   "source": [
    "---"
   ]
  },
  {
   "cell_type": "code",
   "execution_count": 60,
   "metadata": {},
   "outputs": [],
   "source": [
    "from scipy.stats import pearsonr, spearmanr, pointbiserialr"
   ]
  },
  {
   "cell_type": "code",
   "execution_count": 79,
   "metadata": {},
   "outputs": [
    {
     "data": {
      "text/plain": [
       "'pearson correlation: 0.002 (p = 0.00005)'"
      ]
     },
     "execution_count": 79,
     "metadata": {},
     "output_type": "execute_result"
    }
   ],
   "source": [
    "corr, p = pearsonr(valid_tweets.swear_presence, valid_tweets.engagement)\n",
    "f'pearson correlation: {corr:.3f} (p = {p:.5f})'"
   ]
  },
  {
   "cell_type": "code",
   "execution_count": 84,
   "metadata": {},
   "outputs": [
    {
     "data": {
      "text/plain": [
       "'pearson correlation: 0.009 (p = 0.000000000)'"
      ]
     },
     "execution_count": 84,
     "metadata": {},
     "output_type": "execute_result"
    }
   ],
   "source": [
    "corr, p = spearmanr(valid_tweets.n_swears, valid_tweets.engagement)\n",
    "f'pearson correlation: {corr:.3f} (p = {p:.9f})'"
   ]
  },
  {
   "cell_type": "code",
   "execution_count": 85,
   "metadata": {},
   "outputs": [
    {
     "data": {
      "text/plain": [
       "'point-biserial correlation: 0.002 (p = 0.00005)'"
      ]
     },
     "execution_count": 85,
     "metadata": {},
     "output_type": "execute_result"
    }
   ],
   "source": [
    "corr, p = pointbiserialr(valid_tweets.swear_presence, valid_tweets.engagement)  # boolean/continuous variables correlation\n",
    "f'point-biserial correlation: {corr:.3f} (p = {p:.5f})'"
   ]
  },
  {
   "cell_type": "markdown",
   "metadata": {},
   "source": [
    "# Predictive Model"
   ]
  },
  {
   "cell_type": "markdown",
   "metadata": {},
   "source": [
    "In the future:\n",
    "- [ ] feature preprocessing techniques (PCA, etc)\n",
    "- [ ] feature selection techniques (ANOVA, RFE, etc)\n",
    "- [ ] complex model\n",
    "- [ ] fiddle with hyper-params"
   ]
  },
  {
   "cell_type": "code",
   "execution_count": 73,
   "metadata": {},
   "outputs": [],
   "source": [
    "from sklearn.ensemble import RandomForestRegressor\n",
    "from sklearn.externals import joblib"
   ]
  },
  {
   "cell_type": "code",
   "execution_count": 65,
   "metadata": {},
   "outputs": [
    {
     "data": {
      "text/plain": [
       "Index(['user_id', 'text', 'n_retweets', 'n_favorites', 'n_user_followers',\n",
       "       'n_user_following', 'n_user_posts', 'is_reply', 'is_user_bot',\n",
       "       'is_outlier', 'is_valid', 'text_standardized', 'text_len', 'n_words',\n",
       "       'text_polarity', 'text_subjectivity', 'n_mentions', 'n_hashtags',\n",
       "       'n_links', 'n_emojis', 'n_swears', 'swear_presence', 'swear_ratio',\n",
       "       'engagement'],\n",
       "      dtype='object')"
      ]
     },
     "execution_count": 65,
     "metadata": {},
     "output_type": "execute_result"
    }
   ],
   "source": [
    "valid_tweets.columns"
   ]
  },
  {
   "cell_type": "code",
   "execution_count": 66,
   "metadata": {},
   "outputs": [],
   "source": [
    "used_cols = [\n",
    "    'n_user_followers', 'n_user_following', 'n_user_posts',\n",
    "    'is_reply',\n",
    "    'text_len', 'n_words', 'text_polarity', 'text_subjectivity',\n",
    "    'n_mentions', 'n_hashtags', 'n_links', 'n_emojis',\n",
    "    'n_swears', 'swear_presence', 'swear_ratio',\n",
    "]"
   ]
  },
  {
   "cell_type": "code",
   "execution_count": 67,
   "metadata": {},
   "outputs": [],
   "source": [
    "X = valid_tweets.dropna()[used_cols].values"
   ]
  },
  {
   "cell_type": "code",
   "execution_count": 68,
   "metadata": {},
   "outputs": [],
   "source": [
    "y = valid_tweets.dropna().engagement.values"
   ]
  },
  {
   "cell_type": "code",
   "execution_count": 69,
   "metadata": {},
   "outputs": [],
   "source": [
    "rf = RandomForestRegressor()"
   ]
  },
  {
   "cell_type": "code",
   "execution_count": 70,
   "metadata": {},
   "outputs": [
    {
     "name": "stdout",
     "output_type": "stream",
     "text": [
      "CPU times: user 3min 3s, sys: 1.51 s, total: 3min 5s\n",
      "Wall time: 3min 5s\n"
     ]
    },
    {
     "data": {
      "text/plain": [
       "RandomForestRegressor(bootstrap=True, criterion='mse', max_depth=None,\n",
       "           max_features='auto', max_leaf_nodes=None,\n",
       "           min_impurity_decrease=0.0, min_impurity_split=None,\n",
       "           min_samples_leaf=1, min_samples_split=2,\n",
       "           min_weight_fraction_leaf=0.0, n_estimators=10, n_jobs=1,\n",
       "           oob_score=False, random_state=None, verbose=0, warm_start=False)"
      ]
     },
     "execution_count": 70,
     "metadata": {},
     "output_type": "execute_result"
    }
   ],
   "source": [
    "%time rf.fit(X, y)"
   ]
  },
  {
   "cell_type": "code",
   "execution_count": 71,
   "metadata": {},
   "outputs": [],
   "source": [
    "importances = pd.Series(index=used_cols, data=rf.feature_importances_)\n",
    "importances.sort_values(inplace=True)"
   ]
  },
  {
   "cell_type": "code",
   "execution_count": 72,
   "metadata": {},
   "outputs": [
    {
     "data": {
      "image/png": "[encoded data removed]",
      "text/plain": [
       "<Figure size 216x432 with 1 Axes>"
      ]
     },
     "metadata": {
      "needs_background": "light"
     },
     "output_type": "display_data"
    }
   ],
   "source": [
    "plt.figure(figsize=(3, 6))\n",
    "plt.barh(importances.index, importances, color='#CC0300')\n",
    "\n",
    "plt.gca().yaxis.tick_right()\n",
    "plt.gca().set_xticklabels(['{:.0%}'.format(v) for v in plt.gca().get_xticks()])\n",
    "plt.xlabel('Importance')\n",
    "\n",
    "plt.title('Feature Importance')\n",
    "plt.show()"
   ]
  },
  {
   "cell_type": "code",
   "execution_count": 74,
   "metadata": {},
   "outputs": [
    {
     "data": {
      "text/plain": [
       "['rf-5M.joblib']"
      ]
     },
     "execution_count": 74,
     "metadata": {},
     "output_type": "execute_result"
    }
   ],
   "source": [
    "joblib.dump(rf, 'rf-5M.joblib')"
   ]
  }
 ],
 "metadata": {
  "kernelspec": {
   "display_name": "Python 3",
   "language": "python",
   "name": "python3"
  },
  "language_info": {
   "codemirror_mode": {
    "name": "ipython",
    "version": 3
   },
   "file_extension": ".py",
   "mimetype": "text/x-python",
   "name": "python",
   "nbconvert_exporter": "python",
   "pygments_lexer": "ipython3",
   "version": "3.7.0"
  }
 },
 "nbformat": 4,
 "nbformat_minor": 2
}
