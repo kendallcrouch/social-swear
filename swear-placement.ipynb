{
 "cells": [
  {
   "cell_type": "markdown",
   "metadata": {},
   "source": [
    "## Read and clean data"
   ]
  },
  {
   "cell_type": "code",
   "execution_count": 1,
   "metadata": {},
   "outputs": [],
   "source": [
    "import pandas as pd"
   ]
  },
  {
   "cell_type": "code",
   "execution_count": 2,
   "metadata": {},
   "outputs": [],
   "source": [
    "datasets = [\n",
    "    '/Users/stefan/Downloads/processed_tweets_chunks/top100users_processed.csv',\n",
    "#     '/Users/stefan/Downloads/processed_tweets_chunks/15M_5001_10000.csv',\n",
    "#     '/Users/stefan/Downloads/processed_tweets_chunks/15M_10000_99999999.csv'\n",
    "]"
   ]
  },
  {
   "cell_type": "code",
   "execution_count": 3,
   "metadata": {},
   "outputs": [
    {
     "name": "stdout",
     "output_type": "stream",
     "text": [
      "CPU times: user 2.94 s, sys: 236 ms, total: 3.18 s\n",
      "Wall time: 3.2 s\n"
     ]
    }
   ],
   "source": [
    "%%time \n",
    "tweets = pd.concat(\n",
    "    pd.read_csv(path)\n",
    "    for path in datasets\n",
    ").dropna(subset=['text_token'])"
   ]
  },
  {
   "cell_type": "code",
   "execution_count": 4,
   "metadata": {},
   "outputs": [
    {
     "data": {
      "text/plain": [
       "'203,250'"
      ]
     },
     "execution_count": 4,
     "metadata": {},
     "output_type": "execute_result"
    }
   ],
   "source": [
    "f'{len(tweets):,}'"
   ]
  },
  {
   "cell_type": "code",
   "execution_count": 5,
   "metadata": {},
   "outputs": [
    {
     "name": "stdout",
     "output_type": "stream",
     "text": [
      "CPU times: user 7.84 s, sys: 46.5 ms, total: 7.89 s\n",
      "Wall time: 7.89 s\n"
     ]
    }
   ],
   "source": [
    "%time tweets.text_token = tweets.text_token.map(eval)"
   ]
  },
  {
   "cell_type": "markdown",
   "metadata": {},
   "source": [
    "## words"
   ]
  },
  {
   "cell_type": "code",
   "execution_count": 6,
   "metadata": {},
   "outputs": [],
   "source": [
    "from collections import Counter"
   ]
  },
  {
   "cell_type": "code",
   "execution_count": 7,
   "metadata": {},
   "outputs": [
    {
     "name": "stdout",
     "output_type": "stream",
     "text": [
      "CPU times: user 485 ms, sys: 3.9 ms, total: 489 ms\n",
      "Wall time: 487 ms\n"
     ]
    }
   ],
   "source": [
    "%time word_counts = Counter(t for tokens in tweets.text_token for t in tokens)"
   ]
  },
  {
   "cell_type": "code",
   "execution_count": 8,
   "metadata": {},
   "outputs": [],
   "source": [
    "word_counts = pd.Series(word_counts)"
   ]
  },
  {
   "cell_type": "code",
   "execution_count": 9,
   "metadata": {},
   "outputs": [],
   "source": [
    "total_words = word_counts.sum()\n",
    "n_tweets = len(tweets)\n",
    "n_unique_words = len(word_counts)"
   ]
  },
  {
   "cell_type": "code",
   "execution_count": 10,
   "metadata": {},
   "outputs": [
    {
     "data": {
      "text/plain": [
       "'82,084'"
      ]
     },
     "execution_count": 10,
     "metadata": {},
     "output_type": "execute_result"
    }
   ],
   "source": [
    "f'{n_unique_words:,}'"
   ]
  },
  {
   "cell_type": "code",
   "execution_count": 11,
   "metadata": {},
   "outputs": [
    {
     "data": {
      "text/plain": [
       "'2,315,047'"
      ]
     },
     "execution_count": 11,
     "metadata": {},
     "output_type": "execute_result"
    }
   ],
   "source": [
    "f'{total_words:,}'"
   ]
  },
  {
   "cell_type": "code",
   "execution_count": 12,
   "metadata": {},
   "outputs": [
    {
     "data": {
      "text/plain": [
       "565"
      ]
     },
     "execution_count": 12,
     "metadata": {},
     "output_type": "execute_result"
    }
   ],
   "source": [
    "# budget tf-idf\n",
    "relevant_mask = ((word_counts > .0002 * total_words) &  # at least 0.05% (emoji translations, mispellings, etc)\n",
    "                 (word_counts < .1   * total_words))   # at most 10% of all (stopwords)\n",
    "\n",
    "relevant_mask.sum()"
   ]
  },
  {
   "cell_type": "code",
   "execution_count": 13,
   "metadata": {},
   "outputs": [],
   "source": [
    "selected_words = word_counts[relevant_mask].sort_values(ascending=False).index.tolist()"
   ]
  },
  {
   "cell_type": "code",
   "execution_count": 14,
   "metadata": {},
   "outputs": [],
   "source": [
    "popular_swears = [  # hand-picked, data based\n",
    "    'shit',\n",
    "    'damn',\n",
    "    'bitch',\n",
    "    'fuck',\n",
    "    'hell',\n",
    "    'fucking',\n",
    "    'nigga',\n",
    "    'stupid',\n",
    "    'fuckin',\n",
    "    'dick',\n",
    "    'phuck',\n",
    "    'butt',\n",
    "    'wtf',\n",
    "]"
   ]
  },
  {
   "cell_type": "code",
   "execution_count": 15,
   "metadata": {},
   "outputs": [],
   "source": [
    "selected_words += popular_swears"
   ]
  },
  {
   "cell_type": "code",
   "execution_count": 16,
   "metadata": {},
   "outputs": [],
   "source": [
    "selected_words = sorted(selected_words)"
   ]
  },
  {
   "cell_type": "markdown",
   "metadata": {},
   "source": [
    "---"
   ]
  },
  {
   "cell_type": "code",
   "execution_count": 17,
   "metadata": {},
   "outputs": [],
   "source": [
    "import gensim.downloader"
   ]
  },
  {
   "cell_type": "code",
   "execution_count": 18,
   "metadata": {},
   "outputs": [
    {
     "name": "stdout",
     "output_type": "stream",
     "text": [
      "CPU times: user 1min 44s, sys: 915 ms, total: 1min 45s\n",
      "Wall time: 1min 45s\n"
     ]
    }
   ],
   "source": [
    "%time glove = gensim.downloader.load('glove-twitter-50')  # also downloads 199MB model"
   ]
  },
  {
   "cell_type": "code",
   "execution_count": 19,
   "metadata": {},
   "outputs": [],
   "source": [
    "selected_words = [w for w in selected_words if w in glove]"
   ]
  },
  {
   "cell_type": "code",
   "execution_count": 20,
   "metadata": {},
   "outputs": [
    {
     "data": {
      "text/plain": [
       "572"
      ]
     },
     "execution_count": 20,
     "metadata": {},
     "output_type": "execute_result"
    }
   ],
   "source": [
    "len(selected_words)"
   ]
  },
  {
   "cell_type": "markdown",
   "metadata": {},
   "source": [
    "## trim"
   ]
  },
  {
   "cell_type": "code",
   "execution_count": 21,
   "metadata": {},
   "outputs": [],
   "source": [
    "import numpy as np\n",
    "import matplotlib.pyplot as plt\n",
    "%matplotlib inline"
   ]
  },
  {
   "cell_type": "code",
   "execution_count": 22,
   "metadata": {},
   "outputs": [
    {
     "data": {
      "text/plain": [
       "<matplotlib.axes._subplots.AxesSubplot at 0x159f62668>"
      ]
     },
     "execution_count": 22,
     "metadata": {},
     "output_type": "execute_result"
    },
    {
     "data": {
      "image/png": "[encoded data removed]",
      "text/plain": [
       "<Figure size 720x288 with 1 Axes>"
      ]
     },
     "metadata": {
      "needs_background": "light"
     },
     "output_type": "display_data"
    }
   ],
   "source": [
    "plt.figure(figsize=(10, 4))\n",
    "tweets.text_token.map(len).value_counts().sort_index().plot(kind='bar')"
   ]
  },
  {
   "cell_type": "code",
   "execution_count": 23,
   "metadata": {},
   "outputs": [],
   "source": [
    "seq_len = 12  # tokens (after we filter for selected tokens, there will be fewer remaining)\n",
    "min_seq_len = 4  # will be padded up to seq_len"
   ]
  },
  {
   "cell_type": "code",
   "execution_count": 24,
   "metadata": {},
   "outputs": [
    {
     "name": "stdout",
     "output_type": "stream",
     "text": [
      "CPU times: user 22.4 s, sys: 45.2 ms, total: 22.4 s\n",
      "Wall time: 22.4 s\n"
     ]
    }
   ],
   "source": [
    "%%time\n",
    "tokenized = [\n",
    "    [t for t in tokens if t in selected_words]\n",
    "    for tokens in tweets.text_token\n",
    "]"
   ]
  },
  {
   "cell_type": "code",
   "execution_count": 25,
   "metadata": {},
   "outputs": [],
   "source": [
    "valid_mask = [min_seq_len <= len(s) <= seq_len for s in tokenized]"
   ]
  },
  {
   "cell_type": "code",
   "execution_count": 26,
   "metadata": {},
   "outputs": [],
   "source": [
    "tokenized = [s for s, valid in zip(tokenized, valid_mask) if valid]"
   ]
  },
  {
   "cell_type": "code",
   "execution_count": 27,
   "metadata": {},
   "outputs": [
    {
     "data": {
      "text/plain": [
       "<matplotlib.axes._subplots.AxesSubplot at 0x15ca06f60>"
      ]
     },
     "execution_count": 27,
     "metadata": {},
     "output_type": "execute_result"
    },
    {
     "data": {
      "image/png": "[encoded data removed]",
      "text/plain": [
       "<Figure size 432x288 with 1 Axes>"
      ]
     },
     "metadata": {
      "needs_background": "light"
     },
     "output_type": "display_data"
    }
   ],
   "source": [
    "pd.Series(Counter(map(len, tokenized))).sort_index().plot(kind='bar')"
   ]
  },
  {
   "cell_type": "code",
   "execution_count": 28,
   "metadata": {},
   "outputs": [
    {
     "name": "stdout",
     "output_type": "stream",
     "text": [
      "CPU times: user 88.1 ms, sys: 9.52 ms, total: 97.6 ms\n",
      "Wall time: 43.9 ms\n"
     ]
    }
   ],
   "source": [
    "%time surviving_words = sorted({t for tokens in tokenized for t in tokens})"
   ]
  },
  {
   "cell_type": "code",
   "execution_count": 29,
   "metadata": {},
   "outputs": [
    {
     "data": {
      "text/plain": [
       "570"
      ]
     },
     "execution_count": 29,
     "metadata": {},
     "output_type": "execute_result"
    }
   ],
   "source": [
    "n_final_words = len(surviving_words)\n",
    "n_final_words"
   ]
  },
  {
   "cell_type": "code",
   "execution_count": 30,
   "metadata": {},
   "outputs": [],
   "source": [
    "dictionary = ['_'] + surviving_words"
   ]
  },
  {
   "cell_type": "code",
   "execution_count": 115,
   "metadata": {},
   "outputs": [],
   "source": [
    "tweets = tweets[valid_mask]\n",
    "tweets.index = np.arange(len(tweets))"
   ]
  },
  {
   "cell_type": "code",
   "execution_count": 32,
   "metadata": {},
   "outputs": [
    {
     "data": {
      "text/plain": [
       "'104,521'"
      ]
     },
     "execution_count": 32,
     "metadata": {},
     "output_type": "execute_result"
    }
   ],
   "source": [
    "f'{len(tweets):,}'"
   ]
  },
  {
   "cell_type": "markdown",
   "metadata": {},
   "source": [
    "## encode"
   ]
  },
  {
   "cell_type": "code",
   "execution_count": 33,
   "metadata": {},
   "outputs": [
    {
     "name": "stderr",
     "output_type": "stream",
     "text": [
      "Using TensorFlow backend.\n"
     ]
    }
   ],
   "source": [
    "from sklearn.preprocessing import LabelEncoder\n",
    "from keras.utils import to_categorical"
   ]
  },
  {
   "cell_type": "code",
   "execution_count": 34,
   "metadata": {},
   "outputs": [
    {
     "data": {
      "text/plain": [
       "LabelEncoder()"
      ]
     },
     "execution_count": 34,
     "metadata": {},
     "output_type": "execute_result"
    }
   ],
   "source": [
    "le = LabelEncoder()\n",
    "le.fit(dictionary)"
   ]
  },
  {
   "cell_type": "code",
   "execution_count": 71,
   "metadata": {},
   "outputs": [
    {
     "name": "stdout",
     "output_type": "stream",
     "text": [
      "CPU times: user 22.7 s, sys: 1.29 s, total: 24 s\n",
      "Wall time: 24 s\n"
     ]
    }
   ],
   "source": [
    "%%time\n",
    "X = []  # will be indices in the embedding matrix\n",
    "y = []  # will be one hot encoding\n",
    "# the ouput won't ever be 0 (or the one hot encoding of zero), so we are wasting one dimension no the output, but we do it for consistency\n",
    "\n",
    "seqs2tweets = {}\n",
    "\n",
    "for i, tokens in enumerate(tokenized):\n",
    "    encoded = le.transform(tokens)\n",
    "    for j, label in enumerate(encoded[1:]):  # start from one after because we don't want to process the first\n",
    "        seq = np.zeros(seq_len)\n",
    "        seq[-j-1:] = encoded[:j+1]  # put the labels at the end\n",
    "\n",
    "        seqs2tweets[len(X)] = i\n",
    "        output = to_categorical(label, num_classes=len(dictionary))\n",
    "\n",
    "        X.append(seq)\n",
    "        y.append(output)\n",
    "        \n",
    "X = np.array(X)\n",
    "y = np.array(y)"
   ]
  },
  {
   "cell_type": "code",
   "execution_count": 36,
   "metadata": {},
   "outputs": [
    {
     "data": {
      "text/plain": [
       "(707346, 12)"
      ]
     },
     "execution_count": 36,
     "metadata": {},
     "output_type": "execute_result"
    }
   ],
   "source": [
    "X.shape"
   ]
  },
  {
   "cell_type": "code",
   "execution_count": 37,
   "metadata": {},
   "outputs": [
    {
     "data": {
      "text/plain": [
       "(707346, 571)"
      ]
     },
     "execution_count": 37,
     "metadata": {},
     "output_type": "execute_result"
    }
   ],
   "source": [
    "y.shape"
   ]
  },
  {
   "cell_type": "markdown",
   "metadata": {},
   "source": [
    "## model"
   ]
  },
  {
   "cell_type": "code",
   "execution_count": 38,
   "metadata": {},
   "outputs": [],
   "source": [
    "from keras.models import Sequential\n",
    "from keras.layers import LSTM, Dense, Embedding\n",
    "from keras.metrics import top_k_categorical_accuracy\n",
    "\n",
    "import tensorflow as tf"
   ]
  },
  {
   "cell_type": "code",
   "execution_count": 39,
   "metadata": {},
   "outputs": [],
   "source": [
    "embedding_weights = np.array([np.zeros(glove.vector_size)] +  # padding\n",
    "                             [glove.get_vector(w) for w in surviving_words])"
   ]
  },
  {
   "cell_type": "code",
   "execution_count": 40,
   "metadata": {},
   "outputs": [],
   "source": [
    "model = Sequential([\n",
    "    Embedding(len(dictionary), glove.vector_size, input_length=seq_len,\n",
    "              weights=[embedding_weights], trainable=False),\n",
    "    LSTM(128),  # could have it stateful if we provided each user's tweets one after the other\n",
    "    Dense(y.shape[1], activation='softmax')\n",
    "])\n",
    "\n",
    "model.compile(loss='categorical_crossentropy', optimizer='adam',\n",
    "              metrics=['accuracy'])"
   ]
  },
  {
   "cell_type": "code",
   "execution_count": 41,
   "metadata": {},
   "outputs": [
    {
     "name": "stdout",
     "output_type": "stream",
     "text": [
      "Epoch 1/5\n",
      "707346/707346 [==============================] - 84s 119us/step - loss: 4.7348 - acc: 0.1277\n",
      "Epoch 2/5\n",
      "707346/707346 [==============================] - 81s 115us/step - loss: 4.4001 - acc: 0.1711\n",
      "Epoch 3/5\n",
      "707346/707346 [==============================] - 82s 116us/step - loss: 4.2840 - acc: 0.1852\n",
      "Epoch 4/5\n",
      "707346/707346 [==============================] - 82s 116us/step - loss: 4.2166 - acc: 0.1927\n",
      "Epoch 5/5\n",
      "707346/707346 [==============================] - 82s 117us/step - loss: 4.1704 - acc: 0.1975\n"
     ]
    }
   ],
   "source": [
    "h = model.fit(X, y,\n",
    "              verbose=1, batch_size=256, epochs=5)"
   ]
  },
  {
   "cell_type": "markdown",
   "metadata": {},
   "source": [
    "---"
   ]
  },
  {
   "cell_type": "code",
   "execution_count": 42,
   "metadata": {},
   "outputs": [
    {
     "name": "stdout",
     "output_type": "stream",
     "text": [
      "CPU times: user 2min 37s, sys: 39.4 s, total: 3min 16s\n",
      "Wall time: 46.3 s\n"
     ]
    }
   ],
   "source": [
    "%time preds = model.predict(X)"
   ]
  },
  {
   "cell_type": "code",
   "execution_count": 232,
   "metadata": {},
   "outputs": [],
   "source": [
    "ranks = (-preds).argsort(axis=1).argsort(axis=1)"
   ]
  },
  {
   "cell_type": "code",
   "execution_count": 233,
   "metadata": {},
   "outputs": [],
   "source": [
    "labels = y.argmax(axis=1)"
   ]
  },
  {
   "cell_type": "code",
   "execution_count": 236,
   "metadata": {},
   "outputs": [],
   "source": [
    "correct_rank = np.take_along_axis(ranks, labels[:, np.newaxis], axis=1).reshape(-1)"
   ]
  },
  {
   "cell_type": "code",
   "execution_count": 244,
   "metadata": {},
   "outputs": [
    {
     "name": "stdout",
     "output_type": "stream",
     "text": [
      "top 1 accuracy: 20.2%\n",
      "top 3 accuracy: 32.9%\n",
      "top 5 accuracy: 40.0%\n",
      "top 10 accuracy: 50.9%\n",
      "top 25 accuracy: 65.9%\n"
     ]
    }
   ],
   "source": [
    "# manual top k accuracy because keras takes way too much time and sklearn does not have it implemented\n",
    "for k in [1, 3, 5, 10, 25]:\n",
    "    acc = (correct_rank < k).mean()\n",
    "    print(f'top {k} accuracy: {acc:.1%}')"
   ]
  },
  {
   "cell_type": "markdown",
   "metadata": {},
   "source": [
    "## analyze"
   ]
  },
  {
   "cell_type": "code",
   "execution_count": 131,
   "metadata": {},
   "outputs": [],
   "source": [
    "import requests"
   ]
  },
  {
   "cell_type": "code",
   "execution_count": 133,
   "metadata": {},
   "outputs": [],
   "source": [
    "hearders = {'headers':'Mozilla/5.0 (X11; Ubuntu; Linux x86_64; rv:51.0) Gecko/20100101 Firefox/51.0'}"
   ]
  },
  {
   "cell_type": "code",
   "execution_count": 266,
   "metadata": {},
   "outputs": [
    {
     "name": "stdout",
     "output_type": "stream",
     "text": [
      "CPU times: user 1.44 s, sys: 87.5 ms, total: 1.52 s\n",
      "Wall time: 18.4 s\n"
     ]
    }
   ],
   "source": [
    "%%time\n",
    "usernames = {}\n",
    "for uid in tweets.user_id.unique():\n",
    "    n = requests.get(f'https://twitter.com/intent/user?user_id={uid}', headers=hearders)\n",
    "    al = n.text\n",
    "    title = al[al.find('<title>') + 7 : al.find('</title>')]\n",
    "    usernames[uid] = title[:-len(' on Twitter')]"
   ]
  },
  {
   "cell_type": "markdown",
   "metadata": {},
   "source": [
    "---"
   ]
  },
  {
   "cell_type": "code",
   "execution_count": 120,
   "metadata": {},
   "outputs": [],
   "source": [
    "df = pd.DataFrame(preds[:, swear_indices])\n",
    "df['tweet_idx'] = [seqs2tweets[i] for i in range(len(X))]\n",
    "\n",
    "# for each tweet, get the proba of the max swear word, then for each get the max of all subsequences\n",
    "tweets['swear_proba'] = df.groupby('tweet_idx').max().max(axis=1)"
   ]
  },
  {
   "cell_type": "code",
   "execution_count": 145,
   "metadata": {},
   "outputs": [],
   "source": [
    "swear_expected = tweets.groupby('user_id').swear_proba.mean().sort_values(ascending=False)\n",
    "swear_expected.index = [usernames[uid] for uid in swear_expected.index]"
   ]
  },
  {
   "cell_type": "code",
   "execution_count": 149,
   "metadata": {},
   "outputs": [],
   "source": [
    "pd.options.display.max_rows = 100"
   ]
  },
  {
   "cell_type": "code",
   "execution_count": 165,
   "metadata": {},
   "outputs": [
    {
     "data": {
      "text/plain": [
       "Kevin Hart (@KevinHart4real)                1.137492\n",
       "Khloé (@khloekardashian)                    0.717938\n",
       "Blake Shelton (@blakeshelton)               0.651731\n",
       "QUEEN (@NICKIMINAJ)                         0.597571\n",
       "Ariana Grande (@ArianaGrande)               0.565737\n",
       "Bruno Mars (@BrunoMars)                     0.538525\n",
       "Wiz Khalifa (@wizkhalifa)                   0.523466\n",
       "Conan O&#39;Brien (@ConanOBrien)            0.410222\n",
       "zayn (@zaynmalik)                           0.400475\n",
       "P!nk (@Pink)                                0.399505\n",
       "Ellen DeGeneres (@TheEllenShow)             0.390382\n",
       "Liam (@LiamPayne)                           0.386974\n",
       "Demi Lovato (@ddlovato)                     0.382681\n",
       "LeBron James (@KingJames)                   0.380732\n",
       "daniel tosh (@danieltosh)                   0.333986\n",
       "Justin Timberlake (@jtimberlake)            0.281812\n",
       "Rihanna (@rihanna)                          0.280389\n",
       "Shawn Mendes (@ShawnMendes)                 0.273108\n",
       "Louis Tomlinson (@Louis_Tomlinson)          0.264607\n",
       "Alicia Keys (@aliciakeys)                   0.252986\n",
       "Oprah Winfrey (@Oprah)                      0.212098\n",
       "Hrithik Roshan (@iHrithik)                  0.196110\n",
       "Miley Ray Cyrus (@MileyCyrus)               0.192196\n",
       "Britney Spears (@britneyspears)             0.184357\n",
       "Lady Gaga (@ladygaga)                       0.176679\n",
       "Kylie Jenner (@KylieJenner)                 0.170711\n",
       "Kourtney Kardashian (@kourtneykardash)      0.170277\n",
       "Emma Watson (@EmmaWatson)                   0.161587\n",
       "Neil Patrick Harris (@ActuallyNPH)          0.156186\n",
       "ye (@kanyewest)                             0.129120\n",
       "Elon Musk (@elonmusk)                       0.121733\n",
       "Kendall (@KendallJenner)                    0.107213\n",
       "Kim Kardashian West (@KimKardashian)        0.098340\n",
       "Avril Lavigne (@AvrilLavigne)               0.084748\n",
       "Harry Styles. (@Harry_Styles)               0.083830\n",
       "Aamir Khan (@aamir_khan)                    0.059873\n",
       "Lil Wayne WEEZY F (@LilTunechi)             0.055840\n",
       "Jennifer Lopez (@JLo)                       0.049355\n",
       "YouTube (@YouTube)                          0.048169\n",
       "Adele (@Adele)                              0.047391\n",
       "Twitter (@Twitter)                          0.047318\n",
       "PRIYANKA (@priyankachopra)                  0.029071\n",
       "Justin Bieber (@justinbieber)               0.026302\n",
       "Selena Gomez (@selenagomez)                 0.009727\n",
       "Chris Brown (@chrisbrown)                  -0.006966\n",
       "Mariah Carey (@MariahCarey)                -0.015277\n",
       "Ed Sheeran (@edsheeran)                    -0.040811\n",
       "Marshall Mathers (@Eminem)                 -0.044425\n",
       "Virat Kohli (@imVkohli)                    -0.063467\n",
       "One Direction (@onedirection)              -0.078693\n",
       "Bill Gates (@BillGates)                    -0.081043\n",
       "Salman Khan (@BeingSalmanKhan)             -0.124440\n",
       "Pitbull (@pitbull)                         -0.128533\n",
       "Taylor Swift (@taylorswift13)              -0.153341\n",
       "Hillary Clinton (@HillaryClinton)          -0.161964\n",
       "Coldplay (@coldplay)                       -0.163655\n",
       "Deepika Padukone (@deepikapadukone)        -0.183488\n",
       "Ricky Martin (@ricky_martin)               -0.184773\n",
       "ESPN (@espn)                               -0.206577\n",
       "Sachin Tendulkar (@sachin_rt)              -0.208567\n",
       "Kaka (@KAKA)                               -0.225027\n",
       "jimmy fallon (@jimmyfallon)                -0.248536\n",
       "National Geographic (@NatGeo)              -0.258095\n",
       "Donald J. Trump (@realDonaldTrump)         -0.274490\n",
       "Barack Obama (@BarackObama)                -0.312072\n",
       "NFL (@NFL)                                 -0.353585\n",
       "A.R.Rahman (@arrahman)                     -0.363073\n",
       "Shakira (@shakira)                         -0.378669\n",
       "UEFA Champions League (@ChampionsLeague)   -0.380715\n",
       "NASA (@NASA)                               -0.390350\n",
       "Google (@Google)                           -0.408994\n",
       "The Economist (@TheEconomist)              -0.409239\n",
       "FC Barcelona (@FCBarcelona)                -0.413231\n",
       "The New York Times (@nytimes)              -0.418846\n",
       "CNN (@CNN)                                 -0.428709\n",
       "Narendra Modi (@narendramodi)              -0.474557\n",
       "BBC News (World) (@BBCWorld)               -0.483241\n",
       "CNN Breaking News (@cnnbrk)                -0.582752\n",
       "PMO India (@PMOIndia)                      -0.596706\n",
       "Reuters Top News (@Reuters)                -0.609020\n",
       "NBA (@NBA)                                 -0.628259\n",
       "Akshay Kumar (@akshaykumar)                -0.647819\n",
       "Andrés Iniesta (@andresiniesta8)           -0.656553\n",
       "Name: swear_proba, dtype: float32"
      ]
     },
     "execution_count": 165,
     "metadata": {},
     "output_type": "execute_result"
    }
   ],
   "source": [
    "swear_expected_relative[::-1]"
   ]
  },
  {
   "cell_type": "code",
   "execution_count": 163,
   "metadata": {},
   "outputs": [
    {
     "data": {
      "text/plain": [
       "<BarContainer object of 83 artists>"
      ]
     },
     "execution_count": 163,
     "metadata": {},
     "output_type": "execute_result"
    },
    {
     "data": {
      "image/png": "[encoded data removed]",
      "text/plain": [
       "<Figure size 360x1800 with 1 Axes>"
      ]
     },
     "metadata": {
      "needs_background": "light"
     },
     "output_type": "display_data"
    }
   ],
   "source": [
    "plt.figure(figsize=(5, 25))\n",
    "swear_expected_relative = swear_expected / swear_expected.mean() - 1\n",
    "swear_expected_relative.sort_values(inplace=True)\n",
    "plt.barh(swear_expected_relative.index, swear_expected_relative)"
   ]
  },
  {
   "cell_type": "code",
   "execution_count": 124,
   "metadata": {},
   "outputs": [
    {
     "data": {
      "text/plain": [
       "0.6879276"
      ]
     },
     "execution_count": 124,
     "metadata": {},
     "output_type": "execute_result"
    }
   ],
   "source": [
    "swear_expected[813286] / swear_expected.mean() # obama"
   ]
  },
  {
   "cell_type": "code",
   "execution_count": 125,
   "metadata": {},
   "outputs": [
    {
     "data": {
      "text/plain": [
       "0.7255103"
      ]
     },
     "execution_count": 125,
     "metadata": {},
     "output_type": "execute_result"
    }
   ],
   "source": [
    "swear_expected[25073877] / swear_expected.mean()  # trump"
   ]
  },
  {
   "cell_type": "code",
   "execution_count": 126,
   "metadata": {},
   "outputs": [
    {
     "data": {
      "text/plain": [
       "0.8380364"
      ]
     },
     "execution_count": 126,
     "metadata": {},
     "output_type": "execute_result"
    }
   ],
   "source": [
    "swear_expected[1339835893] / swear_expected.mean()  # hillary"
   ]
  },
  {
   "cell_type": "markdown",
   "metadata": {},
   "source": [
    "---"
   ]
  },
  {
   "cell_type": "code",
   "execution_count": 45,
   "metadata": {},
   "outputs": [],
   "source": [
    "swear_indices = [dictionary.index(s) for s in popular_swears]"
   ]
  },
  {
   "cell_type": "code",
   "execution_count": 246,
   "metadata": {},
   "outputs": [],
   "source": [
    "swear_ranks = pd.DataFrame(ranks[:, swear_indices])\n",
    "swear_ranks.columns = popular_swears"
   ]
  },
  {
   "cell_type": "code",
   "execution_count": 254,
   "metadata": {},
   "outputs": [],
   "source": [
    "swear_ranks['engagement'] = [tweets.engagment[seqs2tweets[i]] for i in range(len(X))]\n",
    "swear_ranks.sort_values(by='engagement', ascending=False, inplace=True)"
   ]
  },
  {
   "cell_type": "code",
   "execution_count": 249,
   "metadata": {},
   "outputs": [
    {
     "data": {
      "text/html": [
       "<div>\n",
       "<style scoped>\n",
       "    .dataframe tbody tr th:only-of-type {\n",
       "        vertical-align: middle;\n",
       "    }\n",
       "\n",
       "    .dataframe tbody tr th {\n",
       "        vertical-align: top;\n",
       "    }\n",
       "\n",
       "    .dataframe thead th {\n",
       "        text-align: right;\n",
       "    }\n",
       "</style>\n",
       "<table border=\"1\" class=\"dataframe\">\n",
       "  <thead>\n",
       "    <tr style=\"text-align: right;\">\n",
       "      <th></th>\n",
       "      <th>shit</th>\n",
       "      <th>damn</th>\n",
       "      <th>bitch</th>\n",
       "      <th>fuck</th>\n",
       "      <th>hell</th>\n",
       "      <th>fucking</th>\n",
       "      <th>nigga</th>\n",
       "      <th>stupid</th>\n",
       "      <th>fuckin</th>\n",
       "      <th>dick</th>\n",
       "      <th>phuck</th>\n",
       "      <th>butt</th>\n",
       "      <th>wtf</th>\n",
       "      <th>engagement</th>\n",
       "    </tr>\n",
       "  </thead>\n",
       "  <tbody>\n",
       "    <tr>\n",
       "      <th>count</th>\n",
       "      <td>707346.000000</td>\n",
       "      <td>707346.000000</td>\n",
       "      <td>707346.000000</td>\n",
       "      <td>707346.000000</td>\n",
       "      <td>707346.000000</td>\n",
       "      <td>707346.000000</td>\n",
       "      <td>707346.000000</td>\n",
       "      <td>707346.000000</td>\n",
       "      <td>707346.000000</td>\n",
       "      <td>707346.000000</td>\n",
       "      <td>707346.000000</td>\n",
       "      <td>707346.000000</td>\n",
       "      <td>707346.000000</td>\n",
       "      <td>7.073460e+05</td>\n",
       "    </tr>\n",
       "    <tr>\n",
       "      <th>mean</th>\n",
       "      <td>371.393044</td>\n",
       "      <td>329.583002</td>\n",
       "      <td>418.813842</td>\n",
       "      <td>422.583680</td>\n",
       "      <td>423.252714</td>\n",
       "      <td>437.154371</td>\n",
       "      <td>518.463704</td>\n",
       "      <td>511.400094</td>\n",
       "      <td>518.501901</td>\n",
       "      <td>509.798411</td>\n",
       "      <td>512.981498</td>\n",
       "      <td>528.202983</td>\n",
       "      <td>523.537003</td>\n",
       "      <td>3.417994e+04</td>\n",
       "    </tr>\n",
       "    <tr>\n",
       "      <th>std</th>\n",
       "      <td>129.488510</td>\n",
       "      <td>130.567082</td>\n",
       "      <td>94.800728</td>\n",
       "      <td>108.848651</td>\n",
       "      <td>99.363883</td>\n",
       "      <td>121.075315</td>\n",
       "      <td>71.873005</td>\n",
       "      <td>85.663035</td>\n",
       "      <td>76.688385</td>\n",
       "      <td>57.565528</td>\n",
       "      <td>68.566976</td>\n",
       "      <td>43.155473</td>\n",
       "      <td>59.045565</td>\n",
       "      <td>1.159730e+05</td>\n",
       "    </tr>\n",
       "    <tr>\n",
       "      <th>min</th>\n",
       "      <td>1.000000</td>\n",
       "      <td>5.000000</td>\n",
       "      <td>51.000000</td>\n",
       "      <td>19.000000</td>\n",
       "      <td>7.000000</td>\n",
       "      <td>10.000000</td>\n",
       "      <td>30.000000</td>\n",
       "      <td>17.000000</td>\n",
       "      <td>5.000000</td>\n",
       "      <td>101.000000</td>\n",
       "      <td>23.000000</td>\n",
       "      <td>129.000000</td>\n",
       "      <td>121.000000</td>\n",
       "      <td>0.000000e+00</td>\n",
       "    </tr>\n",
       "    <tr>\n",
       "      <th>25%</th>\n",
       "      <td>285.000000</td>\n",
       "      <td>224.000000</td>\n",
       "      <td>367.000000</td>\n",
       "      <td>353.000000</td>\n",
       "      <td>367.000000</td>\n",
       "      <td>372.000000</td>\n",
       "      <td>511.000000</td>\n",
       "      <td>504.000000</td>\n",
       "      <td>515.000000</td>\n",
       "      <td>490.000000</td>\n",
       "      <td>500.000000</td>\n",
       "      <td>519.000000</td>\n",
       "      <td>517.000000</td>\n",
       "      <td>1.319000e+03</td>\n",
       "    </tr>\n",
       "    <tr>\n",
       "      <th>50%</th>\n",
       "      <td>402.000000</td>\n",
       "      <td>334.000000</td>\n",
       "      <td>440.000000</td>\n",
       "      <td>456.000000</td>\n",
       "      <td>447.000000</td>\n",
       "      <td>486.000000</td>\n",
       "      <td>546.000000</td>\n",
       "      <td>549.000000</td>\n",
       "      <td>549.000000</td>\n",
       "      <td>531.000000</td>\n",
       "      <td>540.000000</td>\n",
       "      <td>542.000000</td>\n",
       "      <td>546.000000</td>\n",
       "      <td>4.364000e+03</td>\n",
       "    </tr>\n",
       "    <tr>\n",
       "      <th>75%</th>\n",
       "      <td>475.000000</td>\n",
       "      <td>444.000000</td>\n",
       "      <td>494.000000</td>\n",
       "      <td>511.000000</td>\n",
       "      <td>502.000000</td>\n",
       "      <td>532.000000</td>\n",
       "      <td>559.000000</td>\n",
       "      <td>562.000000</td>\n",
       "      <td>561.000000</td>\n",
       "      <td>549.000000</td>\n",
       "      <td>555.000000</td>\n",
       "      <td>555.000000</td>\n",
       "      <td>558.000000</td>\n",
       "      <td>1.602500e+04</td>\n",
       "    </tr>\n",
       "    <tr>\n",
       "      <th>max</th>\n",
       "      <td>567.000000</td>\n",
       "      <td>566.000000</td>\n",
       "      <td>562.000000</td>\n",
       "      <td>567.000000</td>\n",
       "      <td>566.000000</td>\n",
       "      <td>568.000000</td>\n",
       "      <td>570.000000</td>\n",
       "      <td>570.000000</td>\n",
       "      <td>569.000000</td>\n",
       "      <td>568.000000</td>\n",
       "      <td>569.000000</td>\n",
       "      <td>569.000000</td>\n",
       "      <td>569.000000</td>\n",
       "      <td>4.923959e+06</td>\n",
       "    </tr>\n",
       "  </tbody>\n",
       "</table>\n",
       "</div>"
      ],
      "text/plain": [
       "                shit           damn          bitch           fuck  \\\n",
       "count  707346.000000  707346.000000  707346.000000  707346.000000   \n",
       "mean      371.393044     329.583002     418.813842     422.583680   \n",
       "std       129.488510     130.567082      94.800728     108.848651   \n",
       "min         1.000000       5.000000      51.000000      19.000000   \n",
       "25%       285.000000     224.000000     367.000000     353.000000   \n",
       "50%       402.000000     334.000000     440.000000     456.000000   \n",
       "75%       475.000000     444.000000     494.000000     511.000000   \n",
       "max       567.000000     566.000000     562.000000     567.000000   \n",
       "\n",
       "                hell        fucking          nigga         stupid  \\\n",
       "count  707346.000000  707346.000000  707346.000000  707346.000000   \n",
       "mean      423.252714     437.154371     518.463704     511.400094   \n",
       "std        99.363883     121.075315      71.873005      85.663035   \n",
       "min         7.000000      10.000000      30.000000      17.000000   \n",
       "25%       367.000000     372.000000     511.000000     504.000000   \n",
       "50%       447.000000     486.000000     546.000000     549.000000   \n",
       "75%       502.000000     532.000000     559.000000     562.000000   \n",
       "max       566.000000     568.000000     570.000000     570.000000   \n",
       "\n",
       "              fuckin           dick          phuck           butt  \\\n",
       "count  707346.000000  707346.000000  707346.000000  707346.000000   \n",
       "mean      518.501901     509.798411     512.981498     528.202983   \n",
       "std        76.688385      57.565528      68.566976      43.155473   \n",
       "min         5.000000     101.000000      23.000000     129.000000   \n",
       "25%       515.000000     490.000000     500.000000     519.000000   \n",
       "50%       549.000000     531.000000     540.000000     542.000000   \n",
       "75%       561.000000     549.000000     555.000000     555.000000   \n",
       "max       569.000000     568.000000     569.000000     569.000000   \n",
       "\n",
       "                 wtf    engagement  \n",
       "count  707346.000000  7.073460e+05  \n",
       "mean      523.537003  3.417994e+04  \n",
       "std        59.045565  1.159730e+05  \n",
       "min       121.000000  0.000000e+00  \n",
       "25%       517.000000  1.319000e+03  \n",
       "50%       546.000000  4.364000e+03  \n",
       "75%       558.000000  1.602500e+04  \n",
       "max       569.000000  4.923959e+06  "
      ]
     },
     "execution_count": 249,
     "metadata": {},
     "output_type": "execute_result"
    }
   ],
   "source": [
    "swear_ranks.describe()"
   ]
  },
  {
   "cell_type": "code",
   "execution_count": 277,
   "metadata": {},
   "outputs": [
    {
     "name": "stdout",
     "output_type": "stream",
     "text": [
      "---------- shit 1494 sequences have it predicted with rank <= 25\n",
      "\n",
      "\n",
      "Ellen DeGeneres (@TheEllenShow)\n",
      "never seen like this >> shit (rank 19) << ...\n",
      "You’ve never seen anything like this. BTS. Tomorrow. @BTS_twt #BTSxELLEN #BTSARMY https://t.co/tHeP02OZBy \n",
      "\n",
      "\n",
      "zayn (@zaynmalik)\n",
      "did not the for wa this real fuck >> shit (rank 25) << ...\n",
      "Didn't realise the hate for minions was this real fuck these aliens got it bad \n",
      "\n",
      "\n",
      "Harry Styles. (@Harry_Styles)\n",
      "i have this some >> shit (rank 15) << ...\n",
      "I have this some of the time. \n",
      "\n",
      "\n",
      "zayn (@zaynmalik)\n",
      "oh and i my own shit >> shit (rank 24) << ...\n",
      "Oh and I write my own shit too dickhead \n",
      "\n",
      "\n",
      "Liam (@LiamPayne)\n",
      "i think this >> shit (rank 6) << ...\n",
      "I think this is my favorite tweet ever ahahahaha https://t.co/n64uvrMJ8Z \n",
      "\n",
      "\n",
      "Hillary Clinton (@HillaryClinton)\n",
      "this but please never stop that >> shit (rank 8) << ...\n",
      "\"This loss hurts. But please never stop believing that fighting for what’s right is worth it.\" —Hillary \n",
      "\n",
      "\n",
      "Marshall Mathers (@Eminem)\n",
      "tried not this >> shit (rank 5) << ...\n",
      "Tried not 2 overthink this 1... enjoy. 🖕\n",
      "\n",
      "#KAMIKAZE Out Now - https://t.co/ANw73KbwMt https://t.co/qfQoTYBTUy \n",
      "\n",
      "\n",
      "Louis Tomlinson (@Louis_Tomlinson)\n",
      "fucking i even have to tweet that >> shit (rank 8) << ...\n",
      "Fucking ridiculous I even have to tweet that shit ! \n",
      "\n",
      "\n",
      "ye (@kanyewest)\n",
      "just stop about shit >> shit (rank 10) << ...\n",
      "just stop lying about shit. Just stop lying. \n",
      "\n",
      "\n",
      "Louis Tomlinson (@Louis_Tomlinson)\n",
      "time to change my number getting some >> shit (rank 25) << ...\n",
      "Time to change my number .. Getting some disgusting stuff on what's app... Losers ! \n",
      "\n",
      "\n",
      "Liam (@LiamPayne)\n",
      "i made yesterday not get that man job i for damn >> shit (rank 10) << ...\n",
      "Ice cream I made yesterday Probably not gunna get that ice cream man job I applied for ... Damn it http://t.co/nEUM5tk50n \n",
      "\n",
      "\n",
      "Liam (@LiamPayne)\n",
      "i made yesterday not get that >> shit (rank 18) << ...\n",
      "Ice cream I made yesterday Probably not gunna get that ice cream man job I applied for ... Damn it http://t.co/nEUM5tk50n \n",
      "\n",
      "\n",
      "zayn (@zaynmalik)\n",
      "it is when you have no people this >> shit (rank 15) << ...\n",
      "It's embarrassing when you have no originality … people lack this frequently ..why copy ? \n",
      "\n",
      "\n",
      "Louis Tomlinson (@Louis_Tomlinson)\n",
      "thank you for me the to do shit like >> shit (rank 25) << ...\n",
      "Thank you for giving me the confidence to do shit like that ! \n",
      "\n",
      "\n",
      "Harry Styles. (@Harry_Styles)\n",
      "i feel like some >> shit (rank 17) << ...\n",
      "I feel like some ashes rising in Phoenix? \n",
      "\n",
      "\n",
      "Kylie Jenner (@KylieJenner)\n",
      "doe anyone not open or is it just me this >> shit (rank 6) << ...\n",
      "sooo does anyone else not open Snapchat anymore? Or is it just me... ugh this is so sad. \n",
      "\n",
      "\n",
      "zayn (@zaynmalik)\n",
      "got some >> shit (rank 23) << ...\n",
      "Got some game from my dad... \n",
      "\n",
      "\n",
      "Liam (@LiamPayne)\n",
      "i had no idea i wa being at this >> shit (rank 25) << ...\n",
      "I had no idea I was being filmed at this point so funny \n",
      "\n",
      "\n",
      "Louis Tomlinson (@Louis_Tomlinson)\n",
      "i hope the two of you get some >> shit (rank 25) << ...\n",
      "I hope the two of you 'get some' very soon :) #cryingparents \n",
      "\n",
      "\n",
      "Louis Tomlinson (@Louis_Tomlinson)\n",
      "heard my is out with some >> shit (rank 25) << ...\n",
      "Heard my mum is hanging out with some cool little people today ❤️ Olivia, Spencer &amp; Harvey X \n",
      "\n",
      "\n",
      "---------- damn 225 sequences have it predicted with rank <= 25\n",
      "\n",
      "\n",
      "Harry Styles. (@Harry_Styles)\n",
      "if you had like to support then get your ticket >> damn (rank 18) << ...\n",
      "If you'd like to support @NiallOfficial then get your tickets here. \n",
      "\n",
      "http://t.co/lI6Bu2AIYe \n",
      "\n",
      "\n",
      "Liam (@LiamPayne)\n",
      "on get your free ticket >> damn (rank 22) << ...\n",
      ".@GMA on 4 Aug. Get your free tickets here http://t.co/MFmJquLJtG \n",
      "\n",
      "\n",
      "Louis Tomlinson (@Louis_Tomlinson)\n",
      "call to ticket for my game >> damn (rank 10) << ...\n",
      "Call 01302 590250 to buy tickets for my game against Rotherham ! Ahhhh sooo nervous !! \n",
      "\n",
      "\n",
      "Louis Tomlinson (@Louis_Tomlinson)\n",
      "hi do you think off boy make you >> damn (rank 20) << ...\n",
      "Hi @JakeBugg do you think slagging off boy bands makes you more indie ? \n",
      "\n",
      "\n",
      "Harry Styles. (@Harry_Styles)\n",
      "ill a at your ill some >> damn (rank 19) << ...\n",
      "@NiallOfficial ill throw a sausage at your sausage. I'll throw some mushrooms at your muuuuuushrooms. \n",
      "\n",
      "\n",
      "Justin Bieber (@justinbieber)\n",
      "make sure you get your ticket >> damn (rank 17) << ...\n",
      "Make sure you get your #PURPOSETOUR tickets today for 1st leg https://t.co/G2VKo20VAz https://t.co/1LFqcoQO7S \n",
      "\n",
      "\n",
      "Harry Styles. (@Harry_Styles)\n",
      "if you want a job doing do >> damn (rank 21) << ...\n",
      "If you want a job doing proper... Do it yourself. http://t.co/V1YrA8k53I \n",
      "\n",
      "\n",
      "Justin Bieber (@justinbieber)\n",
      "you guy better be working hard no >> damn (rank 19) << ...\n",
      "@dankanter @NickDeMoura you guys better be working hard! No slacking! Lol. #PurposeWorldTour \n",
      "\n",
      "\n",
      "One Direction (@onedirection)\n",
      "have you got your ticket >> damn (rank 22) << ...\n",
      "Aussies! Have you got your tickets to #OnTheRoadAgain tour in February, 2015? Not long now! http://t.co/yKCB8URuuP\n",
      "https://t.co/1aRFXA9clN \n",
      "\n",
      "\n",
      "Liam (@LiamPayne)\n",
      "high school is the most fun time you have no >> damn (rank 19) << ...\n",
      "@narryxzap high school is literally the most fun time you have no worrys about anything \n",
      "\n",
      "\n",
      "Shawn Mendes (@ShawnMendes)\n",
      "i take it for what it ill still your no >> damn (rank 5) << ...\n",
      ". @Toblerone i guess take it for what its worth. Ill still eat your chocolate no matter what. \n",
      "\n",
      "\n",
      "One Direction (@onedirection)\n",
      "u fan your ticket >> damn (rank 21) << ...\n",
      "US fans! Grab your #1DFirstListen tickets now to hear #MadeInTheAM before it's released. https://t.co/BRSve5HaAl https://t.co/kasEYePvTP \n",
      "\n",
      "\n",
      "Ariana Grande (@ArianaGrande)\n",
      "im u im u im u call me no the no >> damn (rank 25) << ...\n",
      "i’m wit u i’m wit u i’m wit u jus call me no matter the issue ... no matter what \n",
      "\n",
      "\n",
      "Emma Watson (@EmmaWatson)\n",
      "dont forget to vote on no >> damn (rank 23) << ...\n",
      "Don’t forget to vote on Thursday, no excuses! x #Euref https://t.co/iArHqo3KjQ \n",
      "\n",
      "\n",
      "QUEEN (@NICKIMINAJ)\n",
      "yall want the album or the baby yall >> damn (rank 25) << ...\n",
      "Y’all want the album or the baby? Cuz ch- y’all ain’t bout to get both🙄😩 https://t.co/Bz5BJxGeX7 \n",
      "\n",
      "\n",
      "Ariana Grande (@ArianaGrande)\n",
      "be happy happy get no >> damn (rank 23) << ...\n",
      "imma be happy .... happy ... won’t get no cryin from me .. yea \n",
      "\n",
      "\n",
      "Ellen DeGeneres (@TheEllenShow)\n",
      "happy birthday im so excited for your no >> damn (rank 6) << ...\n",
      "Happy birthday, @EdSheeran! I’m so excited for your wedding. No need to ask... yes, I’ll sing. \n",
      "\n",
      "\n",
      "Liam (@LiamPayne)\n",
      "ill get ya next >> damn (rank 22) << ...\n",
      "@RobbieSavage8 I'll get ya next time aha thanks for the trip \n",
      "\n",
      "\n",
      "Shawn Mendes (@ShawnMendes)\n",
      "amp show are now guy make sure to get your ticket >> damn (rank 24) << ...\n",
      "Singapore, Hong Kong &amp; Thailand #IlluminateWorldTour shows are onsale now guys! Make sure to get your tickets at… https://t.co/Cs71uJhLMf \n",
      "\n",
      "\n",
      "Shawn Mendes (@ShawnMendes)\n",
      "ticket for are now make sure to get your ticket >> damn (rank 22) << ...\n",
      "Japan! Tickets for #illuminateWorldTour Tokyo are onsale now! Make sure to get your tickets at… https://t.co/4FnbEa4dx5 \n",
      "\n",
      "\n",
      "---------- bitch 0 sequences have it predicted with rank <= 25\n",
      "\n",
      "\n",
      "---------- fuck 17 sequences have it predicted with rank <= 25\n",
      "\n",
      "\n",
      "zayn (@zaynmalik)\n",
      "i i seen this and did the >> fuck (rank 23) << ...\n",
      "I swear I seen this actual advert and did the same shit ..😂 https://t.co/xO88EMYEzG \n",
      "\n",
      "\n",
      "Ellen DeGeneres (@TheEllenShow)\n",
      "already know the >> fuck (rank 24) << ...\n",
      ".@iamcardib already knows the name of her bay B. https://t.co/viWXbEpDLy \n",
      "\n",
      "\n",
      "Liam (@LiamPayne)\n",
      "thank you but i do think the >> fuck (rank 24) << ...\n",
      "@kiwihangel Thank you but I do think the weeknd is amazing 🙌🏼 \n",
      "\n",
      "\n",
      "Britney Spears (@britneyspears)\n",
      "if im i know the >> fuck (rank 24) << ...\n",
      "If I’m dancing, I know the music’s good… #GloryOutNow  on @AmazonMusic #PrimeMusic! https://t.co/KGZAq49CP9 \n",
      "\n",
      "\n",
      "Britney Spears (@britneyspears)\n",
      "if im if im i know the >> fuck (rank 19) << ...\n",
      "If I’m Dancing: “If I’m dancing, I know the music’s good”… Are you dancing?   #GloryStreamingParty \n",
      "\n",
      "\n",
      "Bruno Mars (@BrunoMars)\n",
      "tell me girl then go and tell the >> fuck (rank 20) << ...\n",
      "Tell me girl! Then go ahead and tell the world!!' https://t.co/JLIxs2ZRWA \n",
      "\n",
      "\n",
      "Conan O&#39;Brien (@ConanOBrien)\n",
      "you think are my think the >> fuck (rank 24) << ...\n",
      "You think Ben Carson’s comments are nutty, my doctor thinks the pyramids are fallen Tetris pieces. \n",
      "\n",
      "\n",
      "jimmy fallon (@jimmyfallon)\n",
      "and im sorry the >> fuck (rank 24) << ...\n",
      "And I’m sorry, the TV is not part of the gift bag. Please return it. Thx. https://t.co/CuxJKnTR0V \n",
      "\n",
      "\n",
      "P!nk (@Pink)\n",
      "i think you the >> fuck (rank 22) << ...\n",
      "I think you missed the point! But sorry it's awkward for you! 😘 https://t.co/TUYgfVJ37i \n",
      "\n",
      "\n",
      "Alicia Keys (@aliciakeys)\n",
      "already know the >> fuck (rank 24) << ...\n",
      "Egypt already knows the Halloween rules LOL!! . Hope you had a fun day!!;-)🎃🎃🎃 http://t.co/HwyzHAdyav \n",
      "\n",
      "\n",
      "Coldplay (@coldplay)\n",
      "yes i do but i are you the >> fuck (rank 19) << ...\n",
      "@wwwcoldplay Yes, I do. But I prefer tea. Are you putting the kettle on? A \n",
      "\n",
      "\n",
      "YouTube (@YouTube)\n",
      "know the >> fuck (rank 22) << ...\n",
      ".@MollyBOfficial knows the importance of education in overcoming adversity. Here’s her story →… https://t.co/ImcNgJZWPt \n",
      "\n",
      "\n",
      "The Economist (@TheEconomist)\n",
      "know the >> fuck (rank 22) << ...\n",
      "Value investors know the feeling of being on a losing streak https://t.co/jweobgg9KI \n",
      "\n",
      "\n",
      "Khloé (@khloekardashian)\n",
      "oh my i know the >> fuck (rank 22) << ...\n",
      "@Farrahfaz Oh my gosh I know the exact feeling \n",
      "\n",
      "\n",
      "daniel tosh (@danieltosh)\n",
      "i do not fucking know the >> fuck (rank 25) << ...\n",
      "@_thomatoes i don't fucking know. the mathematical and physical motivation for the Anti-de-Sitter Space/Conformal Field Theory? \n",
      "\n",
      "\n",
      "daniel tosh (@danieltosh)\n",
      "i think you the >> fuck (rank 22) << ...\n",
      "@DoerksenKir i think you tweeted the wrong person \n",
      "\n",
      "\n",
      "daniel tosh (@danieltosh)\n",
      "i think you the >> fuck (rank 22) << ...\n",
      "@Ultraforge i think you missed the point. and you mixed up katt williams with chris rock, which is extremely racist \n",
      "\n",
      "\n",
      "---------- hell 54 sequences have it predicted with rank <= 25\n",
      "\n",
      "\n",
      "Louis Tomlinson (@Louis_Tomlinson)\n",
      "just last night x is fucking amazing what a >> hell (rank 20) << ...\n",
      "Just watched last nights X factor, Nicole Scherzinger is fucking amazing ! What a voice. \n",
      "\n",
      "\n",
      "Justin Bieber (@justinbieber)\n",
      "this know the >> hell (rank 25) << ...\n",
      "This dog knows the deal. Lol. 2 weeks to go. #14Days http://t.co/gaYbiPq2Fo \n",
      "\n",
      "\n",
      "Harry Styles. (@Harry_Styles)\n",
      "who is back back again back tell a >> hell (rank 24) << ...\n",
      "Guess who's back, back again. Kruger's back, tell a friend. http://t.co/ReZrggO4FO \n",
      "\n",
      "\n",
      "Donald J. Trump (@realDonaldTrump)\n",
      "it is what the >> hell (rank 14) << ...\n",
      "It is outrageous what the Democrats are doing to our Country. Vote Republican now! https://t.co/0pWiwCHGbh https://t.co/2crea9HF7G \n",
      "\n",
      "\n",
      "Donald J. Trump (@realDonaldTrump)\n",
      "is what is going on cant what a >> hell (rank 20) << ...\n",
      "Is everybody believing what is going on. James Comey can’t define what a leak is. He illegally leaked CLASSIFIED IN… https://t.co/X5Ee7JEYpN \n",
      "\n",
      "\n",
      "Donald J. Trump (@realDonaldTrump)\n",
      "way to go this is what the >> hell (rank 12) << ...\n",
      "Way to go Jerry. This is what the league should do! https://t.co/yEP1jK57xi \n",
      "\n",
      "\n",
      "Hillary Clinton (@HillaryClinton)\n",
      "for those of you who dont know a >> hell (rank 21) << ...\n",
      "For those of you who don’t know @aminatou, she’s a supremely talented young woman with a terrific podcast,… https://t.co/vhTSaNOroT \n",
      "\n",
      "\n",
      "Bill Gates (@BillGates)\n",
      "at the time i wa in this wa how the >> hell (rank 13) << ...\n",
      "At the time I was in college, this was basically how the global economy worked... https://t.co/2polaSbsXY \n",
      "\n",
      "\n",
      "Bill Gates (@BillGates)\n",
      "this why the >> hell (rank 18) << ...\n",
      "Retweet this: http://t.co/wTWMwb4wQH WHY? The Global Fund gets $1 to fight #AIDS every time it gets shared. \n",
      "\n",
      "\n",
      "Rihanna (@rihanna)\n",
      "she know the >> hell (rank 21) << ...\n",
      "She knows the camera... It's all ova now!! http://t.co/6ZVKS8p7Tb \n",
      "\n",
      "\n",
      "Conan O&#39;Brien (@ConanOBrien)\n",
      "just in my life like to know the >> hell (rank 25) << ...\n",
      "Just once in my life, I’d like to know the sweet satisfaction of finishing a tube of ChapStick. \n",
      "\n",
      "\n",
      "Khloé (@khloekardashian)\n",
      "i am i of want im not sure lol the >> hell (rank 23) << ...\n",
      "I am starving! I sort of want Popeyes. I’m not sure though LOL the struggle is real 🤰🏼 \n",
      "\n",
      "\n",
      "Rihanna (@rihanna)\n",
      "that is what the >> hell (rank 14) << ...\n",
      "That's what The PHUCK im talking abouuuutttt!!!! \n",
      "\n",
      "\n",
      "Lil Wayne WEEZY F (@LilTunechi)\n",
      "my new favorite song by by i it funny a >> hell (rank 21) << ...\n",
      "my new favorite song Lil Wayne by Jazz Cartier prod. By Lantz!!! I f'n luh dat shyt! Preshiate it!! Funny as fk but dope! \n",
      "\n",
      "\n",
      "Justin Timberlake (@jtimberlake)\n",
      "i already know what the >> hell (rank 20) << ...\n",
      "FYI: I already know what the next one is gonna sound like... \n",
      "\n",
      "\n",
      "Pitbull (@pitbull)\n",
      "this is what the >> hell (rank 11) << ...\n",
      "This is what the country is asking for  #Vote4Pit  #Pitbull2016 #MrWorldwide http://t.co/oC4O0jtaaO \n",
      "\n",
      "\n",
      "Rihanna (@rihanna)\n",
      "that is what the >> hell (rank 14) << ...\n",
      "#NEWJERSEY that's what the phuck iz up!!!! #DiamondsWorldTour \n",
      "\n",
      "\n",
      "Conan O&#39;Brien (@ConanOBrien)\n",
      "did you know the >> hell (rank 25) << ...\n",
      "Did you know the Broncos have an entire coaching unit solely dedicated to containing Tom Brady’s handsomeness? \n",
      "\n",
      "\n",
      "Bill Gates (@BillGates)\n",
      "did you know the >> hell (rank 25) << ...\n",
      "Did you know the world’s population is growing at half the rate it was 40 years ago? http://t.co/I0M6i9Upu6 http://t.co/gyf7FuAMga \n",
      "\n",
      "\n",
      "Rihanna (@rihanna)\n",
      "just word ya really need to know what the >> hell (rank 12) << ...\n",
      "Just 2 words ya really need to know..... WHAT (the phuck) NOW?!! #WHATNOW #VIDEOseason http://t.co/Kbtm4g5CPH \n",
      "\n",
      "\n",
      "---------- fucking 360 sequences have it predicted with rank <= 25\n",
      "\n",
      "\n",
      "Louis Tomlinson (@Louis_Tomlinson)\n",
      "wow you are so >> fucking (rank 20) << ...\n",
      "Wow @NaughtyBoyMusic you're so inconsiderate pal , seriously how fucking old are you ? Grow up ! #masterofallwisdom \n",
      "\n",
      "\n",
      "zayn (@zaynmalik)\n",
      "ok so >> fucking (rank 23) << ...\n",
      "Ok so I'm really bloody confused ! I mean bloody figuratively,I'm not a zombie ... \n",
      "\n",
      "\n",
      "Shawn Mendes (@ShawnMendes)\n",
      "love you guy so >> fucking (rank 22) << ...\n",
      "Love you guys so much. \n",
      "\n",
      "\n",
      "Ariana Grande (@ArianaGrande)\n",
      "love you so >> fucking (rank 16) << ...\n",
      "love you so v much \n",
      "\n",
      "\n",
      "Liam (@LiamPayne)\n",
      "ok so >> fucking (rank 23) << ...\n",
      "Ok so sorry savage but I need a new header anyone got any ideas \n",
      "\n",
      "\n",
      "Shawn Mendes (@ShawnMendes)\n",
      "with the love everything you guy are thank you so >> fucking (rank 23) << ...\n",
      "Overwhelmed with the love! Reading everything you guys are saying, thank you so much! \n",
      "\n",
      "\n",
      "Louis Tomlinson (@Louis_Tomlinson)\n",
      "shit so >> fucking (rank 23) << ...\n",
      "Ohhhhh shit ! @BebeRexha sounds so fucking good in rehearsals. Got a good feeling about tonight ! \n",
      "\n",
      "\n",
      "Shawn Mendes (@ShawnMendes)\n",
      "love you guy so >> fucking (rank 22) << ...\n",
      "Love you guys so much. \n",
      "\n",
      "\n",
      "Ariana Grande (@ArianaGrande)\n",
      "love u so >> fucking (rank 23) << ...\n",
      "love u so much \n",
      "\n",
      "\n",
      "zayn (@zaynmalik)\n",
      "i love you so >> fucking (rank 22) << ...\n",
      "@aki_anyway I love you so much ! Your drawings make me happy :) 🤓 \n",
      "\n",
      "\n",
      "Shawn Mendes (@ShawnMendes)\n",
      "love you guy so >> fucking (rank 22) << ...\n",
      "Love you guys, so happy you like everything xx \n",
      "\n",
      "\n",
      "Ariana Grande (@ArianaGrande)\n",
      "i love you so >> fucking (rank 22) << ...\n",
      "i love you so v much \n",
      "\n",
      "\n",
      "Ariana Grande (@ArianaGrande)\n",
      "wow i love u so >> fucking (rank 25) << ...\n",
      "wow i love u so much \n",
      "\n",
      "\n",
      "Lady Gaga (@ladygaga)\n",
      "to my fan i love you so >> fucking (rank 21) << ...\n",
      "To my fans, I love you so much. https://t.co/g2BmmSx02v \n",
      "\n",
      "\n",
      "Shawn Mendes (@ShawnMendes)\n",
      "also ha and thats thank you so >> fucking (rank 25) << ...\n",
      "Also, Illuminate has gone platinum and thats unbelievable! Thank you so much for this! X https://t.co/pPmCdLxqz0 \n",
      "\n",
      "\n",
      "Shawn Mendes (@ShawnMendes)\n",
      "is on thank you so >> fucking (rank 24) << ...\n",
      "Mercy is #1 on Itunes USA ! Thank you so much!! What a Christmas gift! Thank you! \n",
      "\n",
      "\n",
      "Ariana Grande (@ArianaGrande)\n",
      "i love you so >> fucking (rank 22) << ...\n",
      "I love you so much \n",
      "\n",
      "\n",
      "Shawn Mendes (@ShawnMendes)\n",
      "is thank you so >> fucking (rank 24) << ...\n",
      "Singapore is insane! Thank you so much xx \n",
      "\n",
      "\n",
      "Ariana Grande (@ArianaGrande)\n",
      "wow i love u so >> fucking (rank 25) << ...\n",
      "wow i love u so fuckin much ! \n",
      "\n",
      "\n",
      "Ariana Grande (@ArianaGrande)\n",
      "i love you so >> fucking (rank 22) << ...\n",
      "i love you billie. so so much. rest in peace, debbie reynolds. \n",
      "\n",
      "\n",
      "---------- nigga 0 sequences have it predicted with rank <= 25\n",
      "\n",
      "\n",
      "---------- stupid 5 sequences have it predicted with rank <= 25\n",
      "\n",
      "\n",
      "Bruno Mars (@BrunoMars)\n",
      "so dont you do something stupid >> stupid (rank 22) << ...\n",
      "So dont you do something stupid and piss me off! \n",
      "\n",
      "\n",
      "Ricky Martin (@ricky_martin)\n",
      "do not do something stupid >> stupid (rank 17) << ...\n",
      "~Don't do something permanently stupid because you are temporarily upset~ \n",
      "\n",
      "\n",
      "Elon Musk (@elonmusk)\n",
      "there are of or do not really >> stupid (rank 25) << ...\n",
      "@VatsalSngh @businessinsider There are dozens of bogus or half-true anecdotes don't really matter &amp; maybe 5 to 10 t… https://t.co/xMThhVbct9 \n",
      "\n",
      "\n",
      "Elon Musk (@elonmusk)\n",
      "amp should if very >> stupid (rank 25) << ...\n",
      "@antonlodder Camera &amp; onboard neural net should detect. If very close (below 15 ft), will show up on ultrasonics \n",
      "\n",
      "\n",
      "Kim Kardashian West (@KimKardashian)\n",
      "i finally better than never very >> stupid (rank 24) << ...\n",
      "@AsiaRChapman @serial I finally finished. Better late than never. Very fascinating. I honestly am not sure how I fe… https://t.co/u7NpbBY1JR \n",
      "\n",
      "\n",
      "---------- fuckin 256 sequences have it predicted with rank <= 25\n",
      "\n",
      "\n",
      "Ariana Grande (@ArianaGrande)\n",
      "love you so >> fuckin (rank 15) << ...\n",
      "love you so v much \n",
      "\n",
      "\n",
      "Shawn Mendes (@ShawnMendes)\n",
      "with the love everything you guy are thank you so >> fuckin (rank 24) << ...\n",
      "Overwhelmed with the love! Reading everything you guys are saying, thank you so much! \n",
      "\n",
      "\n",
      "Ariana Grande (@ArianaGrande)\n",
      "i love u so >> fuckin (rank 9) << ...\n",
      "i love u so v much \n",
      "\n",
      "\n",
      "Shawn Mendes (@ShawnMendes)\n",
      "i love you guy i love u so >> fuckin (rank 8) << ...\n",
      "I love you guys. I love u so much \n",
      "\n",
      "\n",
      "Ariana Grande (@ArianaGrande)\n",
      "love u so >> fuckin (rank 9) << ...\n",
      "love u so much \n",
      "\n",
      "\n",
      "zayn (@zaynmalik)\n",
      "i love you so >> fuckin (rank 17) << ...\n",
      "@aki_anyway I love you so much ! Your drawings make me happy :) 🤓 \n",
      "\n",
      "\n",
      "Ariana Grande (@ArianaGrande)\n",
      "i love you so >> fuckin (rank 17) << ...\n",
      "i love you so v much \n",
      "\n",
      "\n",
      "Justin Bieber (@justinbieber)\n",
      "i love so >> fuckin (rank 19) << ...\n",
      "I love @TheEllenShow so much. Thank you for everything you do for me. #BieberWeekOnEllen \n",
      "\n",
      "\n",
      "zayn (@zaynmalik)\n",
      "love so >> fuckin (rank 17) << ...\n",
      "@glsxo love @Louis_Tomlinson so funny ! Love @Harry_Styles cheeky chap love @NiallOfficial carefree spirit and love @Real_Liam_Payne daddy, \n",
      "\n",
      "\n",
      "Ariana Grande (@ArianaGrande)\n",
      "wow i love u so >> fuckin (rank 9) << ...\n",
      "wow i love u so much \n",
      "\n",
      "\n",
      "Lady Gaga (@ladygaga)\n",
      "to my fan i love you so >> fuckin (rank 18) << ...\n",
      "To my fans, I love you so much. https://t.co/g2BmmSx02v \n",
      "\n",
      "\n",
      "Ariana Grande (@ArianaGrande)\n",
      "guy a lot n wan na u all so >> fuckin (rank 21) << ...\n",
      "imy guys a lot n jus wanna hug u all so tight today \n",
      "\n",
      "\n",
      "Ariana Grande (@ArianaGrande)\n",
      "i love you so >> fuckin (rank 17) << ...\n",
      "I love you so much \n",
      "\n",
      "\n",
      "Ariana Grande (@ArianaGrande)\n",
      "wow i love u so >> fuckin (rank 9) << ...\n",
      "wow i love u so fuckin much ! \n",
      "\n",
      "\n",
      "Liam (@LiamPayne)\n",
      "wow thank you so >> fuckin (rank 24) << ...\n",
      "Wow thank you so much had no idea the fan army was this strong 😲 https://t.co/01he12Gv1h \n",
      "\n",
      "\n",
      "Ariana Grande (@ArianaGrande)\n",
      "i love you so >> fuckin (rank 17) << ...\n",
      "i love you billie. so so much. rest in peace, debbie reynolds. \n",
      "\n",
      "\n",
      "Ariana Grande (@ArianaGrande)\n",
      "i love you so >> fuckin (rank 17) << ...\n",
      "i love you so much. see you tonight. \n",
      "\n",
      "\n",
      "Shawn Mendes (@ShawnMendes)\n",
      "i love you so >> fuckin (rank 17) << ...\n",
      "I love you so much \n",
      "\n",
      "\n",
      "Ariana Grande (@ArianaGrande)\n",
      "i love yall so >> fuckin (rank 7) << ...\n",
      "i love y’all so fuckin much \n",
      "\n",
      "\n",
      "Shawn Mendes (@ShawnMendes)\n",
      "i love you thank you so >> fuckin (rank 24) << ...\n",
      "I love you. Thank you so much guys. ❤️ \n",
      "\n",
      "\n",
      "---------- dick 0 sequences have it predicted with rank <= 25\n",
      "\n",
      "\n",
      "---------- phuck 2 sequences have it predicted with rank <= 25\n",
      "\n",
      "\n",
      "CNN Breaking News (@cnnbrk)\n",
      "i dont what the >> phuck (rank 23) << ...\n",
      "Senate Intelligence Committee Vice Chairman Mark Warner: “I don’t understand what the President doesn’t get about t… https://t.co/dBGV5sLGBm \n",
      "\n",
      "\n",
      "Elon Musk (@elonmusk)\n",
      "but im not sure what the >> phuck (rank 25) << ...\n",
      "@vicentes @S_Padival @bourgeoisalien @jacobinmag Yeah, but I’m not sure what the big deal is. I like building thing… https://t.co/4S7bPBE8oq \n",
      "\n",
      "\n",
      "---------- butt 0 sequences have it predicted with rank <= 25\n",
      "\n",
      "\n",
      "---------- wtf 0 sequences have it predicted with rank <= 25\n",
      "\n",
      "\n"
     ]
    }
   ],
   "source": [
    "for sw in popular_swears:\n",
    "    expected_ranks = swear_ranks[swear_ranks[sw] <= 25]\n",
    "    print('-'*10, sw, len(expected_ranks), 'sequences have it predicted with rank <= 25\\n\\n')\n",
    "    if expected_ranks.empty:\n",
    "        continue\n",
    "    \n",
    "    for seq_idx, ranks in expected_ranks[:20].iterrows():\n",
    "        tweet = tweets.iloc[seqs2tweets[seq_idx]]\n",
    "        reconstructed = ' '.join(dictionary[int(label)] for label in X[seq_idx] if label != 0)\n",
    "        \n",
    "        print(usernames[tweet.user_id])\n",
    "        print(reconstructed, '>'*2, f'{sw} (rank {ranks[sw]:.0f})', '<'*2, '...')\n",
    "        print(tweet.text, '\\n\\n')"
   ]
  }
 ],
 "metadata": {
  "kernelspec": {
   "display_name": "Python 3",
   "language": "python",
   "name": "python3"
  },
  "language_info": {
   "codemirror_mode": {
    "name": "ipython",
    "version": 3
   },
   "file_extension": ".py",
   "mimetype": "text/x-python",
   "name": "python",
   "nbconvert_exporter": "python",
   "pygments_lexer": "ipython3",
   "version": "3.6.6"
  }
 },
 "nbformat": 4,
 "nbformat_minor": 2
}
