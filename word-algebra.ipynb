{
 "cells": [
  {
   "cell_type": "code",
   "execution_count": 3,
   "metadata": {},
   "outputs": [],
   "source": [
    "import warnings\n",
    "warnings.simplefilter('ignore', FutureWarning)"
   ]
  },
  {
   "cell_type": "code",
   "execution_count": 4,
   "metadata": {},
   "outputs": [],
   "source": [
    "import gensim.downloader"
   ]
  },
  {
   "cell_type": "code",
   "execution_count": 5,
   "metadata": {},
   "outputs": [
    {
     "name": "stdout",
     "output_type": "stream",
     "text": [
      "CPU times: user 48.3 s, sys: 406 ms, total: 48.7 s\n",
      "Wall time: 49.2 s\n"
     ]
    }
   ],
   "source": [
    "%time glove = gensim.downloader.load('glove-twitter-50')  # also downloads 199MB model"
   ]
  },
  {
   "cell_type": "code",
   "execution_count": 6,
   "metadata": {},
   "outputs": [
    {
     "data": {
      "text/plain": [
       "[('sake', 0.756965696811676),\n",
       " ('lord', 0.7507466077804565),\n",
       " ('god', 0.7286548614501953),\n",
       " ('bless', 0.7032989263534546),\n",
       " ('hope', 0.7021927237510681),\n",
       " ('jesus', 0.6935096383094788),\n",
       " ('let', 0.6903321146965027),\n",
       " ('goodness', 0.6823538541793823),\n",
       " ('grace', 0.6808375120162964),\n",
       " ('hell', 0.6768109202384949)]"
      ]
     },
     "execution_count": 6,
     "metadata": {},
     "output_type": "execute_result"
    }
   ],
   "source": [
    "glove.most_similar(positive=['fuck', 'joy'], negative=['sex'])"
   ]
  },
  {
   "cell_type": "code",
   "execution_count": 7,
   "metadata": {},
   "outputs": [
    {
     "data": {
      "text/plain": [
       "[('you', 0.8698374032974243),\n",
       " ('miss', 0.8400754928588867),\n",
       " ('know', 0.8136971592903137),\n",
       " ('baby', 0.8121991753578186),\n",
       " ('let', 0.8111500144004822),\n",
       " ('see', 0.8092666268348694),\n",
       " ('boo', 0.8038519024848938),\n",
       " ('if', 0.8015607595443726),\n",
       " ('tell', 0.7977906465530396),\n",
       " ('forget', 0.7955512404441833)]"
      ]
     },
     "execution_count": 7,
     "metadata": {},
     "output_type": "execute_result"
    }
   ],
   "source": [
    "glove.most_similar(positive=['fuck', 'love'], negative=['fucking'])"
   ]
  },
  {
   "cell_type": "code",
   "execution_count": 11,
   "metadata": {},
   "outputs": [
    {
     "data": {
      "text/plain": [
       "[('pregnant', 0.7565871477127075),\n",
       " ('lesbian', 0.7535337209701538),\n",
       " ('teenager', 0.6912881731987),\n",
       " ('girl', 0.6808882355690002),\n",
       " ('chick', 0.6800916194915771),\n",
       " ('pussy', 0.6782698035240173),\n",
       " ('girlfriend', 0.674507200717926),\n",
       " ('female', 0.6734712719917297),\n",
       " ('woman', 0.6710875630378723),\n",
       " ('married', 0.6687425971031189)]"
      ]
     },
     "execution_count": 11,
     "metadata": {},
     "output_type": "execute_result"
    }
   ],
   "source": [
    "glove.most_similar(positive=['virgin', 'sex'], negative=['pure'])"
   ]
  },
  {
   "cell_type": "code",
   "execution_count": 13,
   "metadata": {},
   "outputs": [
    {
     "data": {
      "text/plain": [
       "[('sole', 0.6327081918716431),\n",
       " ('italian', 0.6060472726821899),\n",
       " ('livin', 0.5944607257843018),\n",
       " ('fame', 0.594071090221405),\n",
       " ('prezzo', 0.5922561883926392),\n",
       " ('dove', 0.5908856987953186),\n",
       " ('rich', 0.586028516292572),\n",
       " ('fine', 0.5802677869796753),\n",
       " ('blu', 0.5749641060829163),\n",
       " ('donna', 0.5727092027664185)]"
      ]
     },
     "execution_count": 13,
     "metadata": {},
     "output_type": "execute_result"
    }
   ],
   "source": [
    "glove.most_similar(positive=['virgin', 'pure'], negative=['sex'])"
   ]
  },
  {
   "cell_type": "code",
   "execution_count": 12,
   "metadata": {},
   "outputs": [
    {
     "data": {
      "text/plain": [
       "[('pregnant', 0.8745349645614624),\n",
       " ('wife', 0.8394755125045776),\n",
       " ('girl', 0.8392436504364014),\n",
       " ('woman', 0.8235020041465759),\n",
       " ('older', 0.8127068877220154),\n",
       " ('child', 0.8119969367980957),\n",
       " ('girlfriend', 0.808759331703186),\n",
       " ('husband', 0.8072057962417603),\n",
       " ('being', 0.8017319440841675),\n",
       " ('girls', 0.8004606366157532)]"
      ]
     },
     "execution_count": 12,
     "metadata": {},
     "output_type": "execute_result"
    }
   ],
   "source": [
    "glove.most_similar(positive=['married', 'sex'])"
   ]
  },
  {
   "cell_type": "code",
   "execution_count": 8,
   "metadata": {},
   "outputs": [
    {
     "data": {
      "text/plain": [
       "[('prince', 0.759779691696167),\n",
       " ('stone', 0.7595877051353455),\n",
       " ('queen', 0.754626989364624),\n",
       " ('meets', 0.7404001355171204),\n",
       " ('royal', 0.7376410365104675),\n",
       " ('african', 0.7345032691955566),\n",
       " ('american', 0.7139526605606079),\n",
       " ('virgin', 0.7101487517356873),\n",
       " ('mother', 0.7023203372955322),\n",
       " ('called', 0.699043869972229)]"
      ]
     },
     "execution_count": 8,
     "metadata": {},
     "output_type": "execute_result"
    }
   ],
   "source": [
    "glove.most_similar(positive=['woman', 'king'], negative=['man'])"
   ]
  },
  {
   "cell_type": "code",
   "execution_count": 9,
   "metadata": {},
   "outputs": [
    {
     "data": {
      "text/plain": [
       "[('doe', 0.8334435224533081),\n",
       " ('shit', 0.8127193450927734),\n",
       " ('wtf', 0.8071970343589783),\n",
       " ('af', 0.7996461391448975),\n",
       " ('fuck', 0.7985608577728271),\n",
       " ('lol', 0.7914268970489502),\n",
       " ('boi', 0.7781186103820801),\n",
       " ('dude', 0.7759643197059631),\n",
       " ('nigga', 0.774925708770752),\n",
       " ('hoe', 0.7722282409667969)]"
      ]
     },
     "execution_count": 9,
     "metadata": {},
     "output_type": "execute_result"
    }
   ],
   "source": [
    "glove.most_similar(positive=['bitch', 'man'], negative=['woman'])"
   ]
  },
  {
   "cell_type": "code",
   "execution_count": 10,
   "metadata": {},
   "outputs": [
    {
     "data": {
      "text/plain": [
       "[('loser', 0.7827178835868835),\n",
       " ('fag', 0.7794620394706726),\n",
       " ('wtf', 0.7779827117919922),\n",
       " ('bitch', 0.7769349217414856),\n",
       " ('fucker', 0.7682101130485535),\n",
       " ('hoe', 0.7678322792053223),\n",
       " ('nigger', 0.7642279267311096),\n",
       " ('dude', 0.7641655802726746),\n",
       " ('faggot', 0.7622142434120178),\n",
       " ('lul', 0.7585626840591431)]"
      ]
     },
     "execution_count": 10,
     "metadata": {},
     "output_type": "execute_result"
    }
   ],
   "source": [
    "glove.most_similar(positive=['whore', 'man'], negative=['woman'])"
   ]
  },
  {
   "cell_type": "code",
   "execution_count": 14,
   "metadata": {},
   "outputs": [
    {
     "data": {
      "text/plain": [
       "[('teenager', 0.6654690504074097),\n",
       " ('homeschooled', 0.6626116037368774),\n",
       " ('divorced', 0.6625239849090576),\n",
       " ('olds', 0.6523942351341248),\n",
       " ('hated', 0.6511223316192627),\n",
       " ('younger', 0.6455190181732178),\n",
       " ('dated', 0.6443522572517395),\n",
       " ('weasleys', 0.6443338990211487),\n",
       " ('older', 0.6430606245994568),\n",
       " ('supposedly', 0.6361743211746216)]"
      ]
     },
     "execution_count": 14,
     "metadata": {},
     "output_type": "execute_result"
    }
   ],
   "source": [
    "glove.most_similar(positive=['married', 'teenagers'], negative=['sex'])"
   ]
  },
  {
   "cell_type": "markdown",
   "metadata": {},
   "source": [
    "---"
   ]
  },
  {
   "cell_type": "code",
   "execution_count": 202,
   "metadata": {},
   "outputs": [],
   "source": [
    "%time conceptnet = gensim.downloader.load('conceptnet-numberbatch-17-06-300')  # ~1200MB"
   ]
  },
  {
   "cell_type": "code",
   "execution_count": 218,
   "metadata": {},
   "outputs": [
    {
     "name": "stderr",
     "output_type": "stream",
     "text": [
      "/Users/stefan/.virtualenvs/swear3.6/lib/python3.6/site-packages/gensim/matutils.py:737: FutureWarning: Conversion of the second argument of issubdtype from `int` to `np.signedinteger` is deprecated. In future, it will be treated as `np.int64 == np.dtype(int).type`.\n",
      "  if np.issubdtype(vec.dtype, np.int):\n"
     ]
    },
    {
     "data": {
      "text/plain": [
       "[('/c/en/fuckin', 0.5618485808372498),\n",
       " ('/c/is/sjitturinn', 0.5558381080627441),\n",
       " ('/c/is/andskotinn', 0.5548235177993774),\n",
       " ('/c/cs/doprdele', 0.5545039772987366),\n",
       " ('/c/sh/fak', 0.5544468760490417),\n",
       " ('/c/is/djöfullinn', 0.5514514446258545),\n",
       " ('/c/cs/kurvafix', 0.5461664199829102),\n",
       " ('/c/sh/бре', 0.5397071838378906),\n",
       " ('/c/fr/fuck', 0.5378526449203491),\n",
       " ('/c/is/sjitt', 0.5362849235534668)]"
      ]
     },
     "execution_count": 218,
     "metadata": {},
     "output_type": "execute_result"
    }
   ],
   "source": [
    "conceptnet.most_similar(positive=['/c/en/shit'], negative=['/c/en/excrement'])"
   ]
  },
  {
   "cell_type": "code",
   "execution_count": 216,
   "metadata": {},
   "outputs": [
    {
     "name": "stderr",
     "output_type": "stream",
     "text": [
      "/Users/stefan/.virtualenvs/swear3.6/lib/python3.6/site-packages/gensim/matutils.py:737: FutureWarning: Conversion of the second argument of issubdtype from `int` to `np.signedinteger` is deprecated. In future, it will be treated as `np.int64 == np.dtype(int).type`.\n",
      "  if np.issubdtype(vec.dtype, np.int):\n"
     ]
    },
    {
     "data": {
      "text/plain": [
       "[('/c/en/shit_yeah', 0.644544243812561),\n",
       " ('/c/no/fryd', 0.6028372049331665),\n",
       " ('/c/ja/欣悦', 0.6013588309288025),\n",
       " ('/c/ang/gefea', 0.5988155007362366),\n",
       " ('/c/gd/ro_aoibhneas', 0.5967258810997009),\n",
       " ('/c/gd/mór_aoibhneas', 0.5959557294845581),\n",
       " ('/c/oc/joia', 0.5941749215126038),\n",
       " ('/c/th/สุข', 0.5920510292053223),\n",
       " ('/c/ang/bliss', 0.5914045572280884),\n",
       " ('/c/ang/wynn', 0.5912696123123169)]"
      ]
     },
     "execution_count": 216,
     "metadata": {},
     "output_type": "execute_result"
    }
   ],
   "source": [
    "conceptnet.most_similar(positive=['/c/en/fuck', '/c/en/joy'], negative=['/c/en/sex'])"
   ]
  },
  {
   "cell_type": "code",
   "execution_count": 227,
   "metadata": {},
   "outputs": [
    {
     "name": "stderr",
     "output_type": "stream",
     "text": [
      "/Users/stefan/.virtualenvs/swear3.6/lib/python3.6/site-packages/gensim/matutils.py:737: FutureWarning: Conversion of the second argument of issubdtype from `int` to `np.signedinteger` is deprecated. In future, it will be treated as `np.int64 == np.dtype(int).type`.\n",
      "  if np.issubdtype(vec.dtype, np.int):\n"
     ]
    },
    {
     "data": {
      "text/plain": [
       "[('/c/hy/տղամարդ', 0.6653534173965454),\n",
       " ('/c/el/νέγροσ', 0.662382185459137),\n",
       " ('/c/sh/мушкарац', 0.6599020957946777),\n",
       " ('/c/hi/मर्द', 0.659186065196991),\n",
       " ('/c/ja/男の人', 0.6580016613006592),\n",
       " ('/c/hi/पुरुष', 0.6562555432319641),\n",
       " ('/c/en/posseman', 0.6547772884368896),\n",
       " ('/c/en/adult_male', 0.6514064073562622),\n",
       " ('/c/sa/नर', 0.6502103805541992),\n",
       " ('/c/te/మగవాడు', 0.6498316526412964)]"
      ]
     },
     "execution_count": 227,
     "metadata": {},
     "output_type": "execute_result"
    }
   ],
   "source": [
    "conceptnet.most_similar(positive=['/c/en/black', '/c/en/man'], negative=['/c/en/nigger'])"
   ]
  },
  {
   "cell_type": "code",
   "execution_count": 228,
   "metadata": {},
   "outputs": [
    {
     "name": "stderr",
     "output_type": "stream",
     "text": [
      "/Users/stefan/.virtualenvs/swear3.6/lib/python3.6/site-packages/gensim/matutils.py:737: FutureWarning: Conversion of the second argument of issubdtype from `int` to `np.signedinteger` is deprecated. In future, it will be treated as `np.int64 == np.dtype(int).type`.\n",
      "  if np.issubdtype(vec.dtype, np.int):\n"
     ]
    },
    {
     "data": {
      "text/plain": [
       "[('/c/mk/кучка', 0.7557429075241089),\n",
       " ('/c/en/brood_bitch', 0.7547110319137573),\n",
       " ('/c/no/tispe', 0.7517025470733643),\n",
       " ('/c/ja/牝犬', 0.7354333400726318),\n",
       " ('/c/bg/кучка', 0.7326486110687256),\n",
       " ('/c/nl/vrouwtjeshond', 0.7226717472076416),\n",
       " ('/c/en/bitches', 0.7217237949371338),\n",
       " ('/c/sv/tik', 0.7197592258453369),\n",
       " ('/c/gd/galla', 0.716978132724762),\n",
       " ('/c/da/tæve', 0.7167187929153442)]"
      ]
     },
     "execution_count": 228,
     "metadata": {},
     "output_type": "execute_result"
    }
   ],
   "source": [
    "conceptnet.most_similar(positive=['/c/en/bitch', '/c/en/man'], negative=['/c/en/woman'])"
   ]
  },
  {
   "cell_type": "code",
   "execution_count": 1,
   "metadata": {},
   "outputs": [
    {
     "ename": "NameError",
     "evalue": "name 'conceptnet' is not defined",
     "output_type": "error",
     "traceback": [
      "\u001b[0;31m---------------------------------------------------------------------------\u001b[0m",
      "\u001b[0;31mNameError\u001b[0m                                 Traceback (most recent call last)",
      "\u001b[0;32m<ipython-input-1-320787ed5aab>\u001b[0m in \u001b[0;36m<module>\u001b[0;34m()\u001b[0m\n\u001b[0;32m----> 1\u001b[0;31m \u001b[0mconceptnet\u001b[0m\u001b[0;34m.\u001b[0m\u001b[0mmost_similar\u001b[0m\u001b[0;34m(\u001b[0m\u001b[0mpositive\u001b[0m\u001b[0;34m=\u001b[0m\u001b[0;34m[\u001b[0m\u001b[0;34m'/c/en/whore'\u001b[0m\u001b[0;34m,\u001b[0m \u001b[0;34m'/c/en/man'\u001b[0m\u001b[0;34m]\u001b[0m\u001b[0;34m,\u001b[0m \u001b[0mnegative\u001b[0m\u001b[0;34m=\u001b[0m\u001b[0;34m[\u001b[0m\u001b[0;34m'/c/en/woman'\u001b[0m\u001b[0;34m]\u001b[0m\u001b[0;34m)\u001b[0m\u001b[0;34m\u001b[0m\u001b[0m\n\u001b[0m",
      "\u001b[0;31mNameError\u001b[0m: name 'conceptnet' is not defined"
     ]
    }
   ],
   "source": [
    "conceptnet.most_similar(positive=['/c/en/whore', '/c/en/man'], negative=['/c/en/woman'])"
   ]
  }
 ],
 "metadata": {
  "kernelspec": {
   "display_name": "Python 3",
   "language": "python",
   "name": "python3"
  },
  "language_info": {
   "codemirror_mode": {
    "name": "ipython",
    "version": 3
   },
   "file_extension": ".py",
   "mimetype": "text/x-python",
   "name": "python",
   "nbconvert_exporter": "python",
   "pygments_lexer": "ipython3",
   "version": "3.6.6"
  }
 },
 "nbformat": 4,
 "nbformat_minor": 2
}
