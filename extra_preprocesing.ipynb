{
 "cells": [
  {
   "cell_type": "code",
   "execution_count": 1,
   "metadata": {},
   "outputs": [],
   "source": [
    "import pandas as pd\n",
    "from pathlib import Path"
   ]
  },
  {
   "cell_type": "code",
   "execution_count": 16,
   "metadata": {},
   "outputs": [],
   "source": [
    "chunks_path = Path('/Users/stefan/Downloads/processed_tweets_chunks/')"
   ]
  },
  {
   "cell_type": "code",
   "execution_count": 27,
   "metadata": {},
   "outputs": [
    {
     "name": "stderr",
     "output_type": "stream",
     "text": [
      "/Users/stefan/.virtualenvs/swear/lib/python3.7/site-packages/ipykernel_launcher.py:1: FutureWarning: Sorting because non-concatenation axis is not aligned. A future version\n",
      "of pandas will change to not sort by default.\n",
      "\n",
      "To accept the future behavior, pass 'sort=False'.\n",
      "\n",
      "To retain the current behavior and silence the warning, pass 'sort=True'.\n",
      "\n",
      "  \"\"\"Entry point for launching an IPython kernel.\n"
     ]
    },
    {
     "name": "stdout",
     "output_type": "stream",
     "text": [
      "CPU times: user 1min 33s, sys: 14.6 s, total: 1min 48s\n",
      "Wall time: 1min 50s\n"
     ]
    }
   ],
   "source": [
    "%time df = pd.concat(pd.read_csv(file) for file in chunks_path.iterdir())"
   ]
  },
  {
   "cell_type": "code",
   "execution_count": 272,
   "metadata": {},
   "outputs": [
    {
     "data": {
      "text/plain": [
       "'933,847'"
      ]
     },
     "execution_count": 272,
     "metadata": {},
     "output_type": "execute_result"
    }
   ],
   "source": [
    "f'{len(df):,}'"
   ]
  },
  {
   "cell_type": "code",
   "execution_count": 237,
   "metadata": {},
   "outputs": [
    {
     "data": {
      "text/html": [
       "<style  type=\"text/css\" >\n",
       "</style>  \n",
       "<table id=\"T_16f909a2_e263_11e8_9dd3_f218981e0dba\" > \n",
       "<thead>    <tr> \n",
       "        <th class=\"blank level0\" ></th> \n",
       "        <th class=\"col_heading level0 col0\" >a</th> \n",
       "        <th class=\"col_heading level0 col1\" >b</th> \n",
       "        <th class=\"col_heading level0 col2\" >#tweets</th> \n",
       "    </tr></thead> \n",
       "<tbody>    <tr> \n",
       "        <th id=\"T_16f909a2_e263_11e8_9dd3_f218981e0dbalevel0_row0\" class=\"row_heading level0 row0\" >0</th> \n",
       "        <td id=\"T_16f909a2_e263_11e8_9dd3_f218981e0dbarow0_col0\" class=\"data row0 col0\" >-1</td> \n",
       "        <td id=\"T_16f909a2_e263_11e8_9dd3_f218981e0dbarow0_col1\" class=\"data row0 col1\" >0</td> \n",
       "        <td id=\"T_16f909a2_e263_11e8_9dd3_f218981e0dbarow0_col2\" class=\"data row0 col2\" >300,000</td> \n",
       "    </tr>    <tr> \n",
       "        <th id=\"T_16f909a2_e263_11e8_9dd3_f218981e0dbalevel0_row1\" class=\"row_heading level0 row1\" >1</th> \n",
       "        <td id=\"T_16f909a2_e263_11e8_9dd3_f218981e0dbarow1_col0\" class=\"data row1 col0\" >0</td> \n",
       "        <td id=\"T_16f909a2_e263_11e8_9dd3_f218981e0dbarow1_col1\" class=\"data row1 col1\" >25</td> \n",
       "        <td id=\"T_16f909a2_e263_11e8_9dd3_f218981e0dbarow1_col2\" class=\"data row1 col2\" >280,918</td> \n",
       "    </tr>    <tr> \n",
       "        <th id=\"T_16f909a2_e263_11e8_9dd3_f218981e0dbalevel0_row2\" class=\"row_heading level0 row2\" >2</th> \n",
       "        <td id=\"T_16f909a2_e263_11e8_9dd3_f218981e0dbarow2_col0\" class=\"data row2 col0\" >25</td> \n",
       "        <td id=\"T_16f909a2_e263_11e8_9dd3_f218981e0dbarow2_col1\" class=\"data row2 col1\" >100</td> \n",
       "        <td id=\"T_16f909a2_e263_11e8_9dd3_f218981e0dbarow2_col2\" class=\"data row2 col2\" >19,082</td> \n",
       "    </tr>    <tr> \n",
       "        <th id=\"T_16f909a2_e263_11e8_9dd3_f218981e0dbalevel0_row3\" class=\"row_heading level0 row3\" >3</th> \n",
       "        <td id=\"T_16f909a2_e263_11e8_9dd3_f218981e0dbarow3_col0\" class=\"data row3 col0\" >100</td> \n",
       "        <td id=\"T_16f909a2_e263_11e8_9dd3_f218981e0dbarow3_col1\" class=\"data row3 col1\" >250</td> \n",
       "        <td id=\"T_16f909a2_e263_11e8_9dd3_f218981e0dbarow3_col2\" class=\"data row3 col2\" >90,351</td> \n",
       "    </tr>    <tr> \n",
       "        <th id=\"T_16f909a2_e263_11e8_9dd3_f218981e0dbalevel0_row4\" class=\"row_heading level0 row4\" >4</th> \n",
       "        <td id=\"T_16f909a2_e263_11e8_9dd3_f218981e0dbarow4_col0\" class=\"data row4 col0\" >250</td> \n",
       "        <td id=\"T_16f909a2_e263_11e8_9dd3_f218981e0dbarow4_col1\" class=\"data row4 col1\" >1,000</td> \n",
       "        <td id=\"T_16f909a2_e263_11e8_9dd3_f218981e0dbarow4_col2\" class=\"data row4 col2\" >69,115</td> \n",
       "    </tr>    <tr> \n",
       "        <th id=\"T_16f909a2_e263_11e8_9dd3_f218981e0dbalevel0_row5\" class=\"row_heading level0 row5\" >5</th> \n",
       "        <td id=\"T_16f909a2_e263_11e8_9dd3_f218981e0dbarow5_col0\" class=\"data row5 col0\" >1,000</td> \n",
       "        <td id=\"T_16f909a2_e263_11e8_9dd3_f218981e0dbarow5_col1\" class=\"data row5 col1\" >3,000</td> \n",
       "        <td id=\"T_16f909a2_e263_11e8_9dd3_f218981e0dbarow5_col2\" class=\"data row5 col2\" >47,490</td> \n",
       "    </tr>    <tr> \n",
       "        <th id=\"T_16f909a2_e263_11e8_9dd3_f218981e0dbalevel0_row6\" class=\"row_heading level0 row6\" >6</th> \n",
       "        <td id=\"T_16f909a2_e263_11e8_9dd3_f218981e0dbarow6_col0\" class=\"data row6 col0\" >3,000</td> \n",
       "        <td id=\"T_16f909a2_e263_11e8_9dd3_f218981e0dbarow6_col1\" class=\"data row6 col1\" >8,000</td> \n",
       "        <td id=\"T_16f909a2_e263_11e8_9dd3_f218981e0dbarow6_col2\" class=\"data row6 col2\" >42,992</td> \n",
       "    </tr>    <tr> \n",
       "        <th id=\"T_16f909a2_e263_11e8_9dd3_f218981e0dbalevel0_row7\" class=\"row_heading level0 row7\" >7</th> \n",
       "        <td id=\"T_16f909a2_e263_11e8_9dd3_f218981e0dbarow7_col0\" class=\"data row7 col0\" >8,000</td> \n",
       "        <td id=\"T_16f909a2_e263_11e8_9dd3_f218981e0dbarow7_col1\" class=\"data row7 col1\" >25,000</td> \n",
       "        <td id=\"T_16f909a2_e263_11e8_9dd3_f218981e0dbarow7_col2\" class=\"data row7 col2\" >38,813</td> \n",
       "    </tr>    <tr> \n",
       "        <th id=\"T_16f909a2_e263_11e8_9dd3_f218981e0dbalevel0_row8\" class=\"row_heading level0 row8\" >8</th> \n",
       "        <td id=\"T_16f909a2_e263_11e8_9dd3_f218981e0dbarow8_col0\" class=\"data row8 col0\" >25,000</td> \n",
       "        <td id=\"T_16f909a2_e263_11e8_9dd3_f218981e0dbarow8_col1\" class=\"data row8 col1\" >200,000</td> \n",
       "        <td id=\"T_16f909a2_e263_11e8_9dd3_f218981e0dbarow8_col2\" class=\"data row8 col2\" >34,370</td> \n",
       "    </tr>    <tr> \n",
       "        <th id=\"T_16f909a2_e263_11e8_9dd3_f218981e0dbalevel0_row9\" class=\"row_heading level0 row9\" >9</th> \n",
       "        <td id=\"T_16f909a2_e263_11e8_9dd3_f218981e0dbarow9_col0\" class=\"data row9 col0\" >200,000</td> \n",
       "        <td id=\"T_16f909a2_e263_11e8_9dd3_f218981e0dbarow9_col1\" class=\"data row9 col1\" >1,000,000</td> \n",
       "        <td id=\"T_16f909a2_e263_11e8_9dd3_f218981e0dbarow9_col2\" class=\"data row9 col2\" >10,014</td> \n",
       "    </tr>    <tr> \n",
       "        <th id=\"T_16f909a2_e263_11e8_9dd3_f218981e0dbalevel0_row10\" class=\"row_heading level0 row10\" >10</th> \n",
       "        <td id=\"T_16f909a2_e263_11e8_9dd3_f218981e0dbarow10_col0\" class=\"data row10 col0\" >1,000,000</td> \n",
       "        <td id=\"T_16f909a2_e263_11e8_9dd3_f218981e0dbarow10_col1\" class=\"data row10 col1\" >12,900,471</td> \n",
       "        <td id=\"T_16f909a2_e263_11e8_9dd3_f218981e0dbarow10_col2\" class=\"data row10 col2\" >702</td> \n",
       "    </tr></tbody> \n",
       "</table> "
      ],
      "text/plain": [
       "<pandas.io.formats.style.Styler at 0x294b4f320>"
      ]
     },
     "execution_count": 237,
     "metadata": {},
     "output_type": "execute_result"
    }
   ],
   "source": [
    "bins = [-1, 0, 25, 100, 250, 1_000, 3_000, 8_000, 25_000, 200_000, 1_000_000, max(df.engagment)]\n",
    "pd.DataFrame(\n",
    "    [(a, b, ((df.engagment > a) & (df.engagment <= b)).sum()) for a, b in zip(bins, bins[1:])],\n",
    "    columns=['a', 'b', '#tweets'],\n",
    "    dtype=int\n",
    ").style.format('{:,}'.format)"
   ]
  },
  {
   "cell_type": "code",
   "execution_count": 135,
   "metadata": {},
   "outputs": [
    {
     "name": "stdout",
     "output_type": "stream",
     "text": [
      "CPU times: user 3.54 s, sys: 560 ms, total: 4.1 s\n",
      "Wall time: 4.1 s\n"
     ]
    }
   ],
   "source": [
    "%%time \n",
    "df = pd.concat([\n",
    "    df[df.engagment == 0].sample(300_000),\n",
    "    df[(df.engagment > 0) & (df.engagment <= 100)].sample(300_000),\n",
    "    df[df.engagment > 100],\n",
    "])"
   ]
  },
  {
   "cell_type": "code",
   "execution_count": 142,
   "metadata": {},
   "outputs": [
    {
     "data": {
      "text/plain": [
       "'933,847'"
      ]
     },
     "execution_count": 142,
     "metadata": {},
     "output_type": "execute_result"
    }
   ],
   "source": [
    "f'{len(df):,}'"
   ]
  },
  {
   "cell_type": "markdown",
   "metadata": {},
   "source": [
    "---"
   ]
  },
  {
   "cell_type": "code",
   "execution_count": 102,
   "metadata": {},
   "outputs": [],
   "source": [
    "import matplotlib.pyplot as plt\n",
    "%matplotlib inline"
   ]
  },
  {
   "cell_type": "code",
   "execution_count": 113,
   "metadata": {},
   "outputs": [],
   "source": [
    "import numpy as np"
   ]
  },
  {
   "cell_type": "code",
   "execution_count": 138,
   "metadata": {},
   "outputs": [],
   "source": [
    "import seaborn as sns"
   ]
  },
  {
   "cell_type": "code",
   "execution_count": 140,
   "metadata": {},
   "outputs": [],
   "source": [
    "sns.set()"
   ]
  },
  {
   "cell_type": "code",
   "execution_count": 144,
   "metadata": {},
   "outputs": [],
   "source": [
    "df['per_engagement'] = df.engagment / df.n_user_followers"
   ]
  },
  {
   "cell_type": "code",
   "execution_count": 168,
   "metadata": {},
   "outputs": [],
   "source": [
    "df['engagement_bin'] = np.digitize(df.engagment, bins, right=True)"
   ]
  },
  {
   "cell_type": "code",
   "execution_count": 238,
   "metadata": {},
   "outputs": [
    {
     "data": {
      "image/png": "[encoded data removed]",
      "text/plain": [
       "<Figure size 720x360 with 1 Axes>"
      ]
     },
     "metadata": {},
     "output_type": "display_data"
    }
   ],
   "source": [
    "plt.figure(figsize=(10, 5))\n",
    "\n",
    "(df.engagement_bin.value_counts() / len(df)).plot(kind='bar')\n",
    "\n",
    "plt.xlabel('Engagement')\n",
    "plt.ylabel('Tweets')\n",
    "\n",
    "ax = plt.gca()\n",
    "ax.set_xticklabels(f'< {int(b):,}' if b > 0 else 0 for b in bins[1:])\n",
    "ax.set_yticklabels([f'{y:.0%}' for y in ax.get_yticks()])\n",
    "\n",
    "plt.title('Binned Engagement Distribution')\n",
    "plt.show()"
   ]
  },
  {
   "cell_type": "code",
   "execution_count": 239,
   "metadata": {},
   "outputs": [
    {
     "data": {
      "image/png": "[encoded data removed]",
      "text/plain": [
       "<Figure size 720x360 with 1 Axes>"
      ]
     },
     "metadata": {},
     "output_type": "display_data"
    }
   ],
   "source": [
    "plt.figure(figsize=(10, 5))\n",
    "\n",
    "df.groupby('engagement_bin').per_engagement.mean().plot(kind='bar')\n",
    "\n",
    "plt.xlabel('Engagement')\n",
    "plt.ylabel('Relative to #followers (log)')\n",
    "\n",
    "plt.yscale('log')\n",
    "\n",
    "ax = plt.gca()\n",
    "# ax.set_yticks([0, .1, .2, .3, .4, .5, .75, 1, 1.5])\n",
    "\n",
    "ax.get_yaxis().get_major_formatter().labelOnlyBase = False\n",
    "\n",
    "ax.set_xticklabels(f'< {int(b):,}' if b > 0 else 0 for b in bins[1:])\n",
    "ax.set_yticklabels([f'{y:.0%}' for y in ax.get_yticks()])\n",
    "\n",
    "plt.title('Engagement/Popularity Ratio')\n",
    "plt.show()"
   ]
  },
  {
   "cell_type": "code",
   "execution_count": 214,
   "metadata": {},
   "outputs": [],
   "source": [
    "df['engagement_score'] = np.log(df.per_engagement * 100 + 1)"
   ]
  },
  {
   "cell_type": "code",
   "execution_count": 230,
   "metadata": {},
   "outputs": [],
   "source": [
    "pd.options.display.float_format = None\n",
    "pd.set_option('max_colwidth', 240)"
   ]
  },
  {
   "cell_type": "code",
   "execution_count": 233,
   "metadata": {},
   "outputs": [
    {
     "data": {
      "text/plain": [
       "Index(['censored_presence', 'curse', 'date', 'day_of_week', 'eggplant',\n",
       "       'engagment', 'fuck', 'hour_of_day', 'is_outlier', 'is_reply',\n",
       "       'is_user_bot', 'is_valid', 'mfinger', 'n_emojis', 'n_favorites',\n",
       "       'n_hashtags', 'n_links', 'n_mentions', 'n_retweets', 'n_user_followers',\n",
       "       'n_user_following', 'n_user_posts', 'numMentions', 'processed_text',\n",
       "       'swear_count', 'swear_present', 'text', 'text_len', 'text_polarity',\n",
       "       'text_standardized', 'text_subjectivity', 'text_token',\n",
       "       'text_token_rem_stop', 'user_id', 'vader_comp', 'vader_neg',\n",
       "       'vader_neu', 'vader_pos', 'per_engagement', 'engagement_bin',\n",
       "       'engagement_score'],\n",
       "      dtype='object')"
      ]
     },
     "execution_count": 233,
     "metadata": {},
     "output_type": "execute_result"
    }
   ],
   "source": [
    "df.columns"
   ]
  },
  {
   "cell_type": "code",
   "execution_count": null,
   "metadata": {},
   "outputs": [],
   "source": []
  },
  {
   "cell_type": "code",
   "execution_count": 271,
   "metadata": {},
   "outputs": [
    {
     "data": {
      "text/html": [
       "<div>\n",
       "<style scoped>\n",
       "    .dataframe tbody tr th:only-of-type {\n",
       "        vertical-align: middle;\n",
       "    }\n",
       "\n",
       "    .dataframe tbody tr th {\n",
       "        vertical-align: top;\n",
       "    }\n",
       "\n",
       "    .dataframe thead th {\n",
       "        text-align: right;\n",
       "    }\n",
       "</style>\n",
       "<table border=\"1\" class=\"dataframe\">\n",
       "  <thead>\n",
       "    <tr style=\"text-align: right;\">\n",
       "      <th></th>\n",
       "      <th>text</th>\n",
       "      <th>n_user_followers</th>\n",
       "      <th>n_favorites</th>\n",
       "      <th>n_retweets</th>\n",
       "      <th>per_engagement</th>\n",
       "      <th>engagement_score</th>\n",
       "    </tr>\n",
       "  </thead>\n",
       "  <tbody>\n",
       "    <tr>\n",
       "      <th>1278466</th>\n",
       "      <td>Whoever didn’t power up was a bitch https://t.co/i3Gnzx9VTZ</td>\n",
       "      <td>2054.0</td>\n",
       "      <td>648853.0</td>\n",
       "      <td>1111400.0</td>\n",
       "      <td>856.987829</td>\n",
       "      <td>11.358606</td>\n",
       "    </tr>\n",
       "    <tr>\n",
       "      <th>568114</th>\n",
       "      <td>oh that nigga stupid stupid https://t.co/vsXo8A3RAt</td>\n",
       "      <td>695.0</td>\n",
       "      <td>141195.0</td>\n",
       "      <td>154365.0</td>\n",
       "      <td>425.266187</td>\n",
       "      <td>10.657909</td>\n",
       "    </tr>\n",
       "  </tbody>\n",
       "</table>\n",
       "</div>"
      ],
      "text/plain": [
       "                                                                text  \\\n",
       "1278466  Whoever didn’t power up was a bitch https://t.co/i3Gnzx9VTZ   \n",
       "568114           oh that nigga stupid stupid https://t.co/vsXo8A3RAt   \n",
       "\n",
       "         n_user_followers  n_favorites  n_retweets  per_engagement  \\\n",
       "1278466            2054.0     648853.0   1111400.0      856.987829   \n",
       "568114              695.0     141195.0    154365.0      425.266187   \n",
       "\n",
       "         engagement_score  \n",
       "1278466         11.358606  \n",
       "568114          10.657909  "
      ]
     },
     "execution_count": 271,
     "metadata": {},
     "output_type": "execute_result"
    }
   ],
   "source": [
    "df[df.swear_present & (df.engagement_score > 10)][['text', 'n_user_followers', 'n_favorites', 'n_retweets', 'per_engagement', 'engagement_score']].sort_values(by='engagement_score', ascending=False)"
   ]
  },
  {
   "cell_type": "code",
   "execution_count": 216,
   "metadata": {},
   "outputs": [
    {
     "data": {
      "text/plain": [
       "count             933,847.0\n",
       "mean    0.41756397092312697\n",
       "std      0.8264501905012747\n",
       "min                     0.0\n",
       "25%                     0.0\n",
       "50%     0.04321841939488681\n",
       "75%     0.42837359890503446\n",
       "max      11.457080563598575\n",
       "Name: engagement_score, dtype: float64"
      ]
     },
     "execution_count": 216,
     "metadata": {},
     "output_type": "execute_result"
    }
   ],
   "source": [
    "df.engagement_score.describe()"
   ]
  },
  {
   "cell_type": "markdown",
   "metadata": {},
   "source": [
    "## holidays"
   ]
  },
  {
   "cell_type": "code",
   "execution_count": 274,
   "metadata": {},
   "outputs": [],
   "source": [
    "import holidays"
   ]
  },
  {
   "cell_type": "code",
   "execution_count": 276,
   "metadata": {},
   "outputs": [],
   "source": [
    "from datetime import date"
   ]
  },
  {
   "cell_type": "code",
   "execution_count": 305,
   "metadata": {},
   "outputs": [],
   "source": [
    "chosen_holidays = [holidays.UnitedStates(), holidays.EuropeanCentralBank()]"
   ]
  },
  {
   "cell_type": "code",
   "execution_count": 306,
   "metadata": {},
   "outputs": [],
   "source": [
    "def is_holiday(d) -> bool:\n",
    "    \"\"\" input can be str, date object, etc (anything accepted by the holidays package) \"\"\"\n",
    "    if \n",
    "    return any(d in h for h in chosen_holidays)"
   ]
  },
  {
   "cell_type": "code",
   "execution_count": 317,
   "metadata": {},
   "outputs": [
    {
     "name": "stdout",
     "output_type": "stream",
     "text": [
      "CPU times: user 28.4 s, sys: 268 ms, total: 28.7 s\n",
      "Wall time: 28.8 s\n"
     ]
    }
   ],
   "source": [
    "%%time \n",
    "have_date = ~pd.isna(df.date)\n",
    "df.loc[have_date, 'on_holiday'] = df[have_date].date.map(is_holiday)"
   ]
  },
  {
   "cell_type": "code",
   "execution_count": 318,
   "metadata": {},
   "outputs": [
    {
     "data": {
      "text/plain": [
       "'3.21%'"
      ]
     },
     "execution_count": 318,
     "metadata": {},
     "output_type": "execute_result"
    }
   ],
   "source": [
    "f'{df.on_holiday.mean():.2%}'"
   ]
  },
  {
   "cell_type": "markdown",
   "metadata": {},
   "source": [
    "## LIWC"
   ]
  },
  {
   "cell_type": "code",
   "execution_count": 320,
   "metadata": {},
   "outputs": [],
   "source": [
    "import liwc\n",
    "from collections import Counter"
   ]
  },
  {
   "cell_type": "markdown",
   "metadata": {},
   "source": [
    "[LIWC dictionary download](https://raw.githubusercontent.com/BenjaminDHorne/The-NELA-Toolkit/153e740dd05643ebabd21784065c034eadb4327b/credibility_toolkit/features/resources/LIWC2007_English100131.dic)"
   ]
  },
  {
   "cell_type": "code",
   "execution_count": 462,
   "metadata": {},
   "outputs": [],
   "source": [
    "liwc_parse, liwc_categories = liwc.load_token_parser('/Users/stefan/Downloads/LIWC2007_English100131.dic')"
   ]
  },
  {
   "cell_type": "markdown",
   "metadata": {},
   "source": [
    "[LIWC dimensions and categories, with examples](http://lit.eecs.umich.edu/~geoliwc/LIWC_Dictionary.htm)"
   ]
  },
  {
   "cell_type": "code",
   "execution_count": 378,
   "metadata": {},
   "outputs": [
    {
     "data": {
      "text/plain": [
       "64"
      ]
     },
     "execution_count": 378,
     "metadata": {},
     "output_type": "execute_result"
    }
   ],
   "source": [
    "len(liwc_categories)"
   ]
  },
  {
   "cell_type": "code",
   "execution_count": 364,
   "metadata": {},
   "outputs": [],
   "source": [
    "def liwc_features(tokens: [str]) -> {str: int}:\n",
    "    c = Counter(category for token in tokens for category in liwc_parse(token))\n",
    "    return dict(c)"
   ]
  },
  {
   "cell_type": "code",
   "execution_count": 451,
   "metadata": {},
   "outputs": [],
   "source": [
    "have_tokens = ~pd.isna(df.text_token)"
   ]
  },
  {
   "cell_type": "code",
   "execution_count": 491,
   "metadata": {},
   "outputs": [
    {
     "name": "stdout",
     "output_type": "stream",
     "text": [
      "CPU times: user 3.33 s, sys: 14.8 ms, total: 3.34 s\n",
      "Wall time: 3.34 s\n"
     ]
    }
   ],
   "source": [
    "# because they are stored as a string \"['how', 'are', 'you']\", not as a list of strings\n",
    "# very unsafe!!\n",
    "%time df.loc[have_tokens, 'text_token'] = df[have_tokens].text_token.map(eval)"
   ]
  },
  {
   "cell_type": "code",
   "execution_count": 493,
   "metadata": {},
   "outputs": [
    {
     "name": "stdout",
     "output_type": "stream",
     "text": [
      "CPU times: user 6.46 s, sys: 236 ms, total: 6.7 s\n",
      "Wall time: 6.7 s\n"
     ]
    }
   ],
   "source": [
    "%%time\n",
    "liwc_df = pd.DataFrame(df[have_tokens].text_token.map(liwc_features).tolist())\\\n",
    "    .fillna(0)\\\n",
    "    .astype(int)\n",
    "liwc_df.rename({c: 'liwc_' + c for c in liwc_df}, axis='columns')"
   ]
  },
  {
   "cell_type": "code",
   "execution_count": 496,
   "metadata": {},
   "outputs": [
    {
     "name": "stdout",
     "output_type": "stream",
     "text": [
      "CPU times: user 10.5 s, sys: 9.72 s, total: 20.2 s\n",
      "Wall time: 20.5 s\n"
     ]
    }
   ],
   "source": [
    "%%time\n",
    "# put them back in the df\n",
    "for c in liwc_df:\n",
    "    df.loc[have_tokens, c] = liwc_df[c].values"
   ]
  },
  {
   "cell_type": "code",
   "execution_count": 500,
   "metadata": {},
   "outputs": [
    {
     "data": {
      "text/html": [
       "<div>\n",
       "<style scoped>\n",
       "    .dataframe tbody tr th:only-of-type {\n",
       "        vertical-align: middle;\n",
       "    }\n",
       "\n",
       "    .dataframe tbody tr th {\n",
       "        vertical-align: top;\n",
       "    }\n",
       "\n",
       "    .dataframe thead th {\n",
       "        text-align: right;\n",
       "    }\n",
       "</style>\n",
       "<table border=\"1\" class=\"dataframe\">\n",
       "  <thead>\n",
       "    <tr style=\"text-align: right;\">\n",
       "      <th></th>\n",
       "      <th>liwc_achieve</th>\n",
       "      <th>liwc_adverb</th>\n",
       "      <th>liwc_affect</th>\n",
       "      <th>liwc_anger</th>\n",
       "      <th>liwc_anx</th>\n",
       "      <th>liwc_article</th>\n",
       "      <th>liwc_assent</th>\n",
       "      <th>liwc_auxverb</th>\n",
       "      <th>liwc_bio</th>\n",
       "      <th>liwc_body</th>\n",
       "      <th>...</th>\n",
       "      <th>liwc_social</th>\n",
       "      <th>liwc_space</th>\n",
       "      <th>liwc_swear</th>\n",
       "      <th>liwc_tentat</th>\n",
       "      <th>liwc_they</th>\n",
       "      <th>liwc_time</th>\n",
       "      <th>liwc_verb</th>\n",
       "      <th>liwc_we</th>\n",
       "      <th>liwc_work</th>\n",
       "      <th>liwc_you</th>\n",
       "    </tr>\n",
       "  </thead>\n",
       "  <tbody>\n",
       "    <tr>\n",
       "      <th>count</th>\n",
       "      <td>186099.000000</td>\n",
       "      <td>186099.000000</td>\n",
       "      <td>186099.000000</td>\n",
       "      <td>186099.000000</td>\n",
       "      <td>186099.000000</td>\n",
       "      <td>186099.000000</td>\n",
       "      <td>186099.000000</td>\n",
       "      <td>186099.000000</td>\n",
       "      <td>186099.000000</td>\n",
       "      <td>186099.000000</td>\n",
       "      <td>...</td>\n",
       "      <td>186099.000000</td>\n",
       "      <td>186099.000000</td>\n",
       "      <td>186099.000000</td>\n",
       "      <td>186099.000000</td>\n",
       "      <td>186099.000000</td>\n",
       "      <td>186099.000000</td>\n",
       "      <td>186099.000000</td>\n",
       "      <td>186099.000000</td>\n",
       "      <td>186099.000000</td>\n",
       "      <td>186099.000000</td>\n",
       "    </tr>\n",
       "    <tr>\n",
       "      <th>mean</th>\n",
       "      <td>0.266310</td>\n",
       "      <td>0.411115</td>\n",
       "      <td>0.888194</td>\n",
       "      <td>0.063773</td>\n",
       "      <td>0.025288</td>\n",
       "      <td>0.719364</td>\n",
       "      <td>0.079157</td>\n",
       "      <td>0.673260</td>\n",
       "      <td>0.213736</td>\n",
       "      <td>0.057878</td>\n",
       "      <td>...</td>\n",
       "      <td>1.016389</td>\n",
       "      <td>0.703910</td>\n",
       "      <td>0.014551</td>\n",
       "      <td>0.158529</td>\n",
       "      <td>0.043251</td>\n",
       "      <td>0.690074</td>\n",
       "      <td>1.247863</td>\n",
       "      <td>0.087894</td>\n",
       "      <td>0.220361</td>\n",
       "      <td>0.254800</td>\n",
       "    </tr>\n",
       "    <tr>\n",
       "      <th>std</th>\n",
       "      <td>0.573376</td>\n",
       "      <td>0.703050</td>\n",
       "      <td>1.078407</td>\n",
       "      <td>0.271554</td>\n",
       "      <td>0.165949</td>\n",
       "      <td>0.951684</td>\n",
       "      <td>0.295162</td>\n",
       "      <td>0.940194</td>\n",
       "      <td>0.511853</td>\n",
       "      <td>0.258335</td>\n",
       "      <td>...</td>\n",
       "      <td>1.281014</td>\n",
       "      <td>0.969322</td>\n",
       "      <td>0.127191</td>\n",
       "      <td>0.433829</td>\n",
       "      <td>0.233458</td>\n",
       "      <td>0.959607</td>\n",
       "      <td>1.369872</td>\n",
       "      <td>0.343541</td>\n",
       "      <td>0.549763</td>\n",
       "      <td>0.578016</td>\n",
       "    </tr>\n",
       "    <tr>\n",
       "      <th>min</th>\n",
       "      <td>0.000000</td>\n",
       "      <td>0.000000</td>\n",
       "      <td>0.000000</td>\n",
       "      <td>0.000000</td>\n",
       "      <td>0.000000</td>\n",
       "      <td>0.000000</td>\n",
       "      <td>0.000000</td>\n",
       "      <td>0.000000</td>\n",
       "      <td>0.000000</td>\n",
       "      <td>0.000000</td>\n",
       "      <td>...</td>\n",
       "      <td>0.000000</td>\n",
       "      <td>0.000000</td>\n",
       "      <td>0.000000</td>\n",
       "      <td>0.000000</td>\n",
       "      <td>0.000000</td>\n",
       "      <td>0.000000</td>\n",
       "      <td>0.000000</td>\n",
       "      <td>0.000000</td>\n",
       "      <td>0.000000</td>\n",
       "      <td>0.000000</td>\n",
       "    </tr>\n",
       "    <tr>\n",
       "      <th>25%</th>\n",
       "      <td>0.000000</td>\n",
       "      <td>0.000000</td>\n",
       "      <td>0.000000</td>\n",
       "      <td>0.000000</td>\n",
       "      <td>0.000000</td>\n",
       "      <td>0.000000</td>\n",
       "      <td>0.000000</td>\n",
       "      <td>0.000000</td>\n",
       "      <td>0.000000</td>\n",
       "      <td>0.000000</td>\n",
       "      <td>...</td>\n",
       "      <td>0.000000</td>\n",
       "      <td>0.000000</td>\n",
       "      <td>0.000000</td>\n",
       "      <td>0.000000</td>\n",
       "      <td>0.000000</td>\n",
       "      <td>0.000000</td>\n",
       "      <td>0.000000</td>\n",
       "      <td>0.000000</td>\n",
       "      <td>0.000000</td>\n",
       "      <td>0.000000</td>\n",
       "    </tr>\n",
       "    <tr>\n",
       "      <th>50%</th>\n",
       "      <td>0.000000</td>\n",
       "      <td>0.000000</td>\n",
       "      <td>1.000000</td>\n",
       "      <td>0.000000</td>\n",
       "      <td>0.000000</td>\n",
       "      <td>0.000000</td>\n",
       "      <td>0.000000</td>\n",
       "      <td>0.000000</td>\n",
       "      <td>0.000000</td>\n",
       "      <td>0.000000</td>\n",
       "      <td>...</td>\n",
       "      <td>1.000000</td>\n",
       "      <td>0.000000</td>\n",
       "      <td>0.000000</td>\n",
       "      <td>0.000000</td>\n",
       "      <td>0.000000</td>\n",
       "      <td>0.000000</td>\n",
       "      <td>1.000000</td>\n",
       "      <td>0.000000</td>\n",
       "      <td>0.000000</td>\n",
       "      <td>0.000000</td>\n",
       "    </tr>\n",
       "    <tr>\n",
       "      <th>75%</th>\n",
       "      <td>0.000000</td>\n",
       "      <td>1.000000</td>\n",
       "      <td>1.000000</td>\n",
       "      <td>0.000000</td>\n",
       "      <td>0.000000</td>\n",
       "      <td>1.000000</td>\n",
       "      <td>0.000000</td>\n",
       "      <td>1.000000</td>\n",
       "      <td>0.000000</td>\n",
       "      <td>0.000000</td>\n",
       "      <td>...</td>\n",
       "      <td>2.000000</td>\n",
       "      <td>1.000000</td>\n",
       "      <td>0.000000</td>\n",
       "      <td>0.000000</td>\n",
       "      <td>0.000000</td>\n",
       "      <td>1.000000</td>\n",
       "      <td>2.000000</td>\n",
       "      <td>0.000000</td>\n",
       "      <td>0.000000</td>\n",
       "      <td>0.000000</td>\n",
       "    </tr>\n",
       "    <tr>\n",
       "      <th>max</th>\n",
       "      <td>7.000000</td>\n",
       "      <td>8.000000</td>\n",
       "      <td>20.000000</td>\n",
       "      <td>5.000000</td>\n",
       "      <td>4.000000</td>\n",
       "      <td>8.000000</td>\n",
       "      <td>7.000000</td>\n",
       "      <td>10.000000</td>\n",
       "      <td>8.000000</td>\n",
       "      <td>5.000000</td>\n",
       "      <td>...</td>\n",
       "      <td>14.000000</td>\n",
       "      <td>11.000000</td>\n",
       "      <td>4.000000</td>\n",
       "      <td>6.000000</td>\n",
       "      <td>5.000000</td>\n",
       "      <td>9.000000</td>\n",
       "      <td>20.000000</td>\n",
       "      <td>7.000000</td>\n",
       "      <td>7.000000</td>\n",
       "      <td>14.000000</td>\n",
       "    </tr>\n",
       "  </tbody>\n",
       "</table>\n",
       "<p>8 rows × 64 columns</p>\n",
       "</div>"
      ],
      "text/plain": [
       "        liwc_achieve    liwc_adverb    liwc_affect     liwc_anger  \\\n",
       "count  186099.000000  186099.000000  186099.000000  186099.000000   \n",
       "mean        0.266310       0.411115       0.888194       0.063773   \n",
       "std         0.573376       0.703050       1.078407       0.271554   \n",
       "min         0.000000       0.000000       0.000000       0.000000   \n",
       "25%         0.000000       0.000000       0.000000       0.000000   \n",
       "50%         0.000000       0.000000       1.000000       0.000000   \n",
       "75%         0.000000       1.000000       1.000000       0.000000   \n",
       "max         7.000000       8.000000      20.000000       5.000000   \n",
       "\n",
       "            liwc_anx   liwc_article    liwc_assent   liwc_auxverb  \\\n",
       "count  186099.000000  186099.000000  186099.000000  186099.000000   \n",
       "mean        0.025288       0.719364       0.079157       0.673260   \n",
       "std         0.165949       0.951684       0.295162       0.940194   \n",
       "min         0.000000       0.000000       0.000000       0.000000   \n",
       "25%         0.000000       0.000000       0.000000       0.000000   \n",
       "50%         0.000000       0.000000       0.000000       0.000000   \n",
       "75%         0.000000       1.000000       0.000000       1.000000   \n",
       "max         4.000000       8.000000       7.000000      10.000000   \n",
       "\n",
       "            liwc_bio      liwc_body      ...          liwc_social  \\\n",
       "count  186099.000000  186099.000000      ...        186099.000000   \n",
       "mean        0.213736       0.057878      ...             1.016389   \n",
       "std         0.511853       0.258335      ...             1.281014   \n",
       "min         0.000000       0.000000      ...             0.000000   \n",
       "25%         0.000000       0.000000      ...             0.000000   \n",
       "50%         0.000000       0.000000      ...             1.000000   \n",
       "75%         0.000000       0.000000      ...             2.000000   \n",
       "max         8.000000       5.000000      ...            14.000000   \n",
       "\n",
       "          liwc_space     liwc_swear    liwc_tentat      liwc_they  \\\n",
       "count  186099.000000  186099.000000  186099.000000  186099.000000   \n",
       "mean        0.703910       0.014551       0.158529       0.043251   \n",
       "std         0.969322       0.127191       0.433829       0.233458   \n",
       "min         0.000000       0.000000       0.000000       0.000000   \n",
       "25%         0.000000       0.000000       0.000000       0.000000   \n",
       "50%         0.000000       0.000000       0.000000       0.000000   \n",
       "75%         1.000000       0.000000       0.000000       0.000000   \n",
       "max        11.000000       4.000000       6.000000       5.000000   \n",
       "\n",
       "           liwc_time      liwc_verb        liwc_we      liwc_work  \\\n",
       "count  186099.000000  186099.000000  186099.000000  186099.000000   \n",
       "mean        0.690074       1.247863       0.087894       0.220361   \n",
       "std         0.959607       1.369872       0.343541       0.549763   \n",
       "min         0.000000       0.000000       0.000000       0.000000   \n",
       "25%         0.000000       0.000000       0.000000       0.000000   \n",
       "50%         0.000000       1.000000       0.000000       0.000000   \n",
       "75%         1.000000       2.000000       0.000000       0.000000   \n",
       "max         9.000000      20.000000       7.000000       7.000000   \n",
       "\n",
       "            liwc_you  \n",
       "count  186099.000000  \n",
       "mean        0.254800  \n",
       "std         0.578016  \n",
       "min         0.000000  \n",
       "25%         0.000000  \n",
       "50%         0.000000  \n",
       "75%         0.000000  \n",
       "max        14.000000  \n",
       "\n",
       "[8 rows x 64 columns]"
      ]
     },
     "execution_count": 500,
     "metadata": {},
     "output_type": "execute_result"
    }
   ],
   "source": [
    "liwc_df.describe()"
   ]
  },
  {
   "cell_type": "code",
   "execution_count": 513,
   "metadata": {},
   "outputs": [],
   "source": [
    "mask = have_tokens & ((df.swear_count + df.liwc_swear) > 0)"
   ]
  },
  {
   "cell_type": "code",
   "execution_count": 514,
   "metadata": {},
   "outputs": [],
   "source": [
    "swear_diff = df[mask].swear_count - df[mask].liwc_swear"
   ]
  },
  {
   "cell_type": "code",
   "execution_count": 515,
   "metadata": {},
   "outputs": [
    {
     "data": {
      "text/plain": [
       "'2,933 valid tweets that have swears'"
      ]
     },
     "execution_count": 515,
     "metadata": {},
     "output_type": "execute_result"
    }
   ],
   "source": [
    "f'{len(swear_diff):,} valid tweets that have swears'"
   ]
  },
  {
   "cell_type": "code",
   "execution_count": 516,
   "metadata": {},
   "outputs": [
    {
     "data": {
      "text/plain": [
       "count    2933.000000\n",
       "mean       -0.043982\n",
       "std         0.606728\n",
       "min        -3.000000\n",
       "25%         0.000000\n",
       "50%         0.000000\n",
       "75%         0.000000\n",
       "max         2.000000\n",
       "dtype: float64"
      ]
     },
     "execution_count": 516,
     "metadata": {},
     "output_type": "execute_result"
    }
   ],
   "source": [
    "swear_diff.describe()"
   ]
  },
  {
   "cell_type": "code",
   "execution_count": 517,
   "metadata": {},
   "outputs": [
    {
     "data": {
      "text/plain": [
       "'in 14.56% of cases, our method discovered more swear words'"
      ]
     },
     "execution_count": 517,
     "metadata": {},
     "output_type": "execute_result"
    }
   ],
   "source": [
    "f'in {(swear_diff > 0).mean():.2%} of cases, our method discovered more swear words'"
   ]
  },
  {
   "cell_type": "code",
   "execution_count": 518,
   "metadata": {},
   "outputs": [
    {
     "data": {
      "text/plain": [
       "'in 18.58% of cases, liwc discovered more'"
      ]
     },
     "execution_count": 518,
     "metadata": {},
     "output_type": "execute_result"
    }
   ],
   "source": [
    "f'in {(swear_diff < 0).mean():.2%} of cases, liwc discovered more'"
   ]
  },
  {
   "cell_type": "markdown",
   "metadata": {},
   "source": [
    "## Parts of speech"
   ]
  },
  {
   "cell_type": "code",
   "execution_count": 520,
   "metadata": {},
   "outputs": [],
   "source": [
    "import nltk\n",
    "from nltk.stem.porter import PorterStemmer"
   ]
  },
  {
   "cell_type": "code",
   "execution_count": 521,
   "metadata": {},
   "outputs": [
    {
     "name": "stdout",
     "output_type": "stream",
     "text": [
      "[nltk_data] Downloading package punkt to /Users/stefan/nltk_data...\n",
      "[nltk_data]   Package punkt is already up-to-date!\n",
      "[nltk_data] Downloading package averaged_perceptron_tagger to\n",
      "[nltk_data]     /Users/stefan/nltk_data...\n",
      "[nltk_data]   Package averaged_perceptron_tagger is already up-to-\n",
      "[nltk_data]       date!\n"
     ]
    },
    {
     "data": {
      "text/plain": [
       "True"
      ]
     },
     "execution_count": 521,
     "metadata": {},
     "output_type": "execute_result"
    }
   ],
   "source": [
    "# nltk pos tagging dependencies\n",
    "nltk.download('punkt')\n",
    "nltk.download('averaged_perceptron_tagger')"
   ]
  },
  {
   "cell_type": "markdown",
   "metadata": {},
   "source": [
    "[Description of POS shorthands](https://www.ling.upenn.edu/courses/Fall_2003/ling001/penn_treebank_pos.html)"
   ]
  },
  {
   "cell_type": "code",
   "execution_count": 530,
   "metadata": {},
   "outputs": [],
   "source": [
    "def count_pos(tokens: [str]) -> {str: int}:\n",
    "    word_tags = nltk.pos_tag(tokens)\n",
    "    return dict(Counter(tup[1] for tup in word_tags))"
   ]
  },
  {
   "cell_type": "code",
   "execution_count": 531,
   "metadata": {},
   "outputs": [
    {
     "name": "stdout",
     "output_type": "stream",
     "text": [
      "CPU times: user 1min 36s, sys: 2.34 s, total: 1min 38s\n",
      "Wall time: 1min 38s\n"
     ]
    }
   ],
   "source": [
    "%%time\n",
    "pos_df = pd.DataFrame(df[have_tokens].text_token.map(count_pos).tolist())\\\n",
    "    .fillna(0)\\\n",
    "    .astype(int)\n",
    "pos_df.rename({c: 'pos_' + c for c in pos_df}, axis='columns')"
   ]
  },
  {
   "cell_type": "code",
   "execution_count": 532,
   "metadata": {},
   "outputs": [
    {
     "name": "stdout",
     "output_type": "stream",
     "text": [
      "CPU times: user 23 s, sys: 21.5 s, total: 44.5 s\n",
      "Wall time: 44.7 s\n"
     ]
    }
   ],
   "source": [
    "%%time\n",
    "# put them back in the df\n",
    "for c in pos_df:\n",
    "    df.loc[have_tokens, c] = pos_df[c].values"
   ]
  },
  {
   "cell_type": "code",
   "execution_count": 533,
   "metadata": {},
   "outputs": [
    {
     "data": {
      "text/html": [
       "<div>\n",
       "<style scoped>\n",
       "    .dataframe tbody tr th:only-of-type {\n",
       "        vertical-align: middle;\n",
       "    }\n",
       "\n",
       "    .dataframe tbody tr th {\n",
       "        vertical-align: top;\n",
       "    }\n",
       "\n",
       "    .dataframe thead th {\n",
       "        text-align: right;\n",
       "    }\n",
       "</style>\n",
       "<table border=\"1\" class=\"dataframe\">\n",
       "  <thead>\n",
       "    <tr style=\"text-align: right;\">\n",
       "      <th></th>\n",
       "      <th>$</th>\n",
       "      <th>''</th>\n",
       "      <th>CC</th>\n",
       "      <th>CD</th>\n",
       "      <th>DT</th>\n",
       "      <th>EX</th>\n",
       "      <th>FW</th>\n",
       "      <th>IN</th>\n",
       "      <th>JJ</th>\n",
       "      <th>JJR</th>\n",
       "      <th>...</th>\n",
       "      <th>VB</th>\n",
       "      <th>VBD</th>\n",
       "      <th>VBG</th>\n",
       "      <th>VBN</th>\n",
       "      <th>VBP</th>\n",
       "      <th>VBZ</th>\n",
       "      <th>WDT</th>\n",
       "      <th>WP</th>\n",
       "      <th>WP$</th>\n",
       "      <th>WRB</th>\n",
       "    </tr>\n",
       "  </thead>\n",
       "  <tbody>\n",
       "    <tr>\n",
       "      <th>count</th>\n",
       "      <td>186099.000000</td>\n",
       "      <td>186099.000000</td>\n",
       "      <td>186099.000000</td>\n",
       "      <td>186099.000000</td>\n",
       "      <td>186099.000000</td>\n",
       "      <td>186099.000000</td>\n",
       "      <td>186099.000000</td>\n",
       "      <td>186099.000000</td>\n",
       "      <td>186099.000000</td>\n",
       "      <td>186099.000000</td>\n",
       "      <td>...</td>\n",
       "      <td>186099.000000</td>\n",
       "      <td>186099.000000</td>\n",
       "      <td>186099.000000</td>\n",
       "      <td>186099.000000</td>\n",
       "      <td>186099.000000</td>\n",
       "      <td>186099.000000</td>\n",
       "      <td>186099.000000</td>\n",
       "      <td>186099.000000</td>\n",
       "      <td>186099.000000</td>\n",
       "      <td>186099.000000</td>\n",
       "    </tr>\n",
       "    <tr>\n",
       "      <th>mean</th>\n",
       "      <td>0.000021</td>\n",
       "      <td>0.000081</td>\n",
       "      <td>0.215874</td>\n",
       "      <td>0.059882</td>\n",
       "      <td>0.942617</td>\n",
       "      <td>0.012354</td>\n",
       "      <td>0.055030</td>\n",
       "      <td>1.137803</td>\n",
       "      <td>1.120398</td>\n",
       "      <td>0.029823</td>\n",
       "      <td>...</td>\n",
       "      <td>0.577295</td>\n",
       "      <td>0.232065</td>\n",
       "      <td>0.272559</td>\n",
       "      <td>0.166368</td>\n",
       "      <td>0.450674</td>\n",
       "      <td>0.240883</td>\n",
       "      <td>0.026427</td>\n",
       "      <td>0.064734</td>\n",
       "      <td>0.000811</td>\n",
       "      <td>0.057002</td>\n",
       "    </tr>\n",
       "    <tr>\n",
       "      <th>std</th>\n",
       "      <td>0.004636</td>\n",
       "      <td>0.008978</td>\n",
       "      <td>0.476756</td>\n",
       "      <td>0.257534</td>\n",
       "      <td>1.088592</td>\n",
       "      <td>0.114190</td>\n",
       "      <td>0.525615</td>\n",
       "      <td>1.195617</td>\n",
       "      <td>1.174787</td>\n",
       "      <td>0.180431</td>\n",
       "      <td>...</td>\n",
       "      <td>0.875785</td>\n",
       "      <td>0.524230</td>\n",
       "      <td>0.546016</td>\n",
       "      <td>0.435196</td>\n",
       "      <td>0.732272</td>\n",
       "      <td>0.503060</td>\n",
       "      <td>0.163520</td>\n",
       "      <td>0.260608</td>\n",
       "      <td>0.028474</td>\n",
       "      <td>0.245775</td>\n",
       "    </tr>\n",
       "    <tr>\n",
       "      <th>min</th>\n",
       "      <td>0.000000</td>\n",
       "      <td>0.000000</td>\n",
       "      <td>0.000000</td>\n",
       "      <td>0.000000</td>\n",
       "      <td>0.000000</td>\n",
       "      <td>0.000000</td>\n",
       "      <td>0.000000</td>\n",
       "      <td>0.000000</td>\n",
       "      <td>0.000000</td>\n",
       "      <td>0.000000</td>\n",
       "      <td>...</td>\n",
       "      <td>0.000000</td>\n",
       "      <td>0.000000</td>\n",
       "      <td>0.000000</td>\n",
       "      <td>0.000000</td>\n",
       "      <td>0.000000</td>\n",
       "      <td>0.000000</td>\n",
       "      <td>0.000000</td>\n",
       "      <td>0.000000</td>\n",
       "      <td>0.000000</td>\n",
       "      <td>0.000000</td>\n",
       "    </tr>\n",
       "    <tr>\n",
       "      <th>25%</th>\n",
       "      <td>0.000000</td>\n",
       "      <td>0.000000</td>\n",
       "      <td>0.000000</td>\n",
       "      <td>0.000000</td>\n",
       "      <td>0.000000</td>\n",
       "      <td>0.000000</td>\n",
       "      <td>0.000000</td>\n",
       "      <td>0.000000</td>\n",
       "      <td>0.000000</td>\n",
       "      <td>0.000000</td>\n",
       "      <td>...</td>\n",
       "      <td>0.000000</td>\n",
       "      <td>0.000000</td>\n",
       "      <td>0.000000</td>\n",
       "      <td>0.000000</td>\n",
       "      <td>0.000000</td>\n",
       "      <td>0.000000</td>\n",
       "      <td>0.000000</td>\n",
       "      <td>0.000000</td>\n",
       "      <td>0.000000</td>\n",
       "      <td>0.000000</td>\n",
       "    </tr>\n",
       "    <tr>\n",
       "      <th>50%</th>\n",
       "      <td>0.000000</td>\n",
       "      <td>0.000000</td>\n",
       "      <td>0.000000</td>\n",
       "      <td>0.000000</td>\n",
       "      <td>1.000000</td>\n",
       "      <td>0.000000</td>\n",
       "      <td>0.000000</td>\n",
       "      <td>1.000000</td>\n",
       "      <td>1.000000</td>\n",
       "      <td>0.000000</td>\n",
       "      <td>...</td>\n",
       "      <td>0.000000</td>\n",
       "      <td>0.000000</td>\n",
       "      <td>0.000000</td>\n",
       "      <td>0.000000</td>\n",
       "      <td>0.000000</td>\n",
       "      <td>0.000000</td>\n",
       "      <td>0.000000</td>\n",
       "      <td>0.000000</td>\n",
       "      <td>0.000000</td>\n",
       "      <td>0.000000</td>\n",
       "    </tr>\n",
       "    <tr>\n",
       "      <th>75%</th>\n",
       "      <td>0.000000</td>\n",
       "      <td>0.000000</td>\n",
       "      <td>0.000000</td>\n",
       "      <td>0.000000</td>\n",
       "      <td>2.000000</td>\n",
       "      <td>0.000000</td>\n",
       "      <td>0.000000</td>\n",
       "      <td>2.000000</td>\n",
       "      <td>2.000000</td>\n",
       "      <td>0.000000</td>\n",
       "      <td>...</td>\n",
       "      <td>1.000000</td>\n",
       "      <td>0.000000</td>\n",
       "      <td>0.000000</td>\n",
       "      <td>0.000000</td>\n",
       "      <td>1.000000</td>\n",
       "      <td>0.000000</td>\n",
       "      <td>0.000000</td>\n",
       "      <td>0.000000</td>\n",
       "      <td>0.000000</td>\n",
       "      <td>0.000000</td>\n",
       "    </tr>\n",
       "    <tr>\n",
       "      <th>max</th>\n",
       "      <td>1.000000</td>\n",
       "      <td>1.000000</td>\n",
       "      <td>7.000000</td>\n",
       "      <td>4.000000</td>\n",
       "      <td>20.000000</td>\n",
       "      <td>3.000000</td>\n",
       "      <td>20.000000</td>\n",
       "      <td>9.000000</td>\n",
       "      <td>10.000000</td>\n",
       "      <td>5.000000</td>\n",
       "      <td>...</td>\n",
       "      <td>12.000000</td>\n",
       "      <td>5.000000</td>\n",
       "      <td>7.000000</td>\n",
       "      <td>5.000000</td>\n",
       "      <td>13.000000</td>\n",
       "      <td>5.000000</td>\n",
       "      <td>3.000000</td>\n",
       "      <td>4.000000</td>\n",
       "      <td>1.000000</td>\n",
       "      <td>4.000000</td>\n",
       "    </tr>\n",
       "  </tbody>\n",
       "</table>\n",
       "<p>8 rows × 37 columns</p>\n",
       "</div>"
      ],
      "text/plain": [
       "                   $             ''             CC             CD  \\\n",
       "count  186099.000000  186099.000000  186099.000000  186099.000000   \n",
       "mean        0.000021       0.000081       0.215874       0.059882   \n",
       "std         0.004636       0.008978       0.476756       0.257534   \n",
       "min         0.000000       0.000000       0.000000       0.000000   \n",
       "25%         0.000000       0.000000       0.000000       0.000000   \n",
       "50%         0.000000       0.000000       0.000000       0.000000   \n",
       "75%         0.000000       0.000000       0.000000       0.000000   \n",
       "max         1.000000       1.000000       7.000000       4.000000   \n",
       "\n",
       "                  DT             EX             FW             IN  \\\n",
       "count  186099.000000  186099.000000  186099.000000  186099.000000   \n",
       "mean        0.942617       0.012354       0.055030       1.137803   \n",
       "std         1.088592       0.114190       0.525615       1.195617   \n",
       "min         0.000000       0.000000       0.000000       0.000000   \n",
       "25%         0.000000       0.000000       0.000000       0.000000   \n",
       "50%         1.000000       0.000000       0.000000       1.000000   \n",
       "75%         2.000000       0.000000       0.000000       2.000000   \n",
       "max        20.000000       3.000000      20.000000       9.000000   \n",
       "\n",
       "                  JJ            JJR      ...                   VB  \\\n",
       "count  186099.000000  186099.000000      ...        186099.000000   \n",
       "mean        1.120398       0.029823      ...             0.577295   \n",
       "std         1.174787       0.180431      ...             0.875785   \n",
       "min         0.000000       0.000000      ...             0.000000   \n",
       "25%         0.000000       0.000000      ...             0.000000   \n",
       "50%         1.000000       0.000000      ...             0.000000   \n",
       "75%         2.000000       0.000000      ...             1.000000   \n",
       "max        10.000000       5.000000      ...            12.000000   \n",
       "\n",
       "                 VBD            VBG            VBN            VBP  \\\n",
       "count  186099.000000  186099.000000  186099.000000  186099.000000   \n",
       "mean        0.232065       0.272559       0.166368       0.450674   \n",
       "std         0.524230       0.546016       0.435196       0.732272   \n",
       "min         0.000000       0.000000       0.000000       0.000000   \n",
       "25%         0.000000       0.000000       0.000000       0.000000   \n",
       "50%         0.000000       0.000000       0.000000       0.000000   \n",
       "75%         0.000000       0.000000       0.000000       1.000000   \n",
       "max         5.000000       7.000000       5.000000      13.000000   \n",
       "\n",
       "                 VBZ            WDT             WP            WP$  \\\n",
       "count  186099.000000  186099.000000  186099.000000  186099.000000   \n",
       "mean        0.240883       0.026427       0.064734       0.000811   \n",
       "std         0.503060       0.163520       0.260608       0.028474   \n",
       "min         0.000000       0.000000       0.000000       0.000000   \n",
       "25%         0.000000       0.000000       0.000000       0.000000   \n",
       "50%         0.000000       0.000000       0.000000       0.000000   \n",
       "75%         0.000000       0.000000       0.000000       0.000000   \n",
       "max         5.000000       3.000000       4.000000       1.000000   \n",
       "\n",
       "                 WRB  \n",
       "count  186099.000000  \n",
       "mean        0.057002  \n",
       "std         0.245775  \n",
       "min         0.000000  \n",
       "25%         0.000000  \n",
       "50%         0.000000  \n",
       "75%         0.000000  \n",
       "max         4.000000  \n",
       "\n",
       "[8 rows x 37 columns]"
      ]
     },
     "execution_count": 533,
     "metadata": {},
     "output_type": "execute_result"
    }
   ],
   "source": [
    "pos_df.describe()"
   ]
  }
 ],
 "metadata": {
  "kernelspec": {
   "display_name": "Python 3",
   "language": "python",
   "name": "python3"
  },
  "language_info": {
   "codemirror_mode": {
    "name": "ipython",
    "version": 3
   },
   "file_extension": ".py",
   "mimetype": "text/x-python",
   "name": "python",
   "nbconvert_exporter": "python",
   "pygments_lexer": "ipython3",
   "version": "3.7.0"
  }
 },
 "nbformat": 4,
 "nbformat_minor": 2
}
